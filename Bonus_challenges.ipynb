{
 "cells": [
  {
   "cell_type": "markdown",
   "id": "22406ed2",
   "metadata": {},
   "source": [
    "*Import libraries*"
   ]
  },
  {
   "cell_type": "code",
   "execution_count": 1,
   "id": "f30f62e0",
   "metadata": {},
   "outputs": [],
   "source": [
    "from pymongo import MongoClient, TEXT, ASCENDING\n",
    "from datetime import datetime, timedelta"
   ]
  },
  {
   "cell_type": "markdown",
   "id": "70be7b2d",
   "metadata": {},
   "source": [
    "*Connect to mongodb*"
   ]
  },
  {
   "cell_type": "code",
   "execution_count": 2,
   "id": "cb8ceaee",
   "metadata": {},
   "outputs": [],
   "source": [
    "# Connect to MongoDB\n",
    "client = MongoClient(\"mongodb://localhost:27017\")\n",
    "db = client[\"eduhub_db\"]"
   ]
  },
  {
   "cell_type": "code",
   "execution_count": null,
   "id": "212efb54",
   "metadata": {},
   "outputs": [],
   "source": []
  },
  {
   "cell_type": "markdown",
   "id": "62b4b467",
   "metadata": {},
   "source": [
    "*1: IMPLEMENT TEXT SEARCH FUCTIONALITY FOR COURSE CONTENT*"
   ]
  },
  {
   "cell_type": "code",
   "execution_count": 3,
   "id": "535ef367",
   "metadata": {},
   "outputs": [
    {
     "name": "stdout",
     "output_type": "stream",
     "text": [
      "\n",
      " Courses matching 'python':\n",
      "- Python for Beginners\n",
      "- Python for Beginners\n",
      "- Data Engineering with Python\n",
      "- Data Engineering with Python\n"
     ]
    }
   ],
   "source": [
    "#IMPLEMENT TEXT SEARCH FUCTIONALITY FOR COURSE CONTENT\n",
    "\n",
    "\n",
    "# 1. Text Search on Courses\n",
    "# Create text index on course title and description\n",
    "db.courses.create_index([(\"title\", TEXT), (\"description\", TEXT)])\n",
    "\n",
    "# Search courses using a keyword\n",
    "keyword = \"python\"\n",
    "results = db.courses.find({\"$text\": {\"$search\": keyword}})\n",
    "print(f\"\\n Courses matching '{keyword}':\")\n",
    "for course in results:\n",
    "    print(f\"- {course['title']}\")     "
   ]
  },
  {
   "cell_type": "code",
   "execution_count": null,
   "id": "5be590cd",
   "metadata": {},
   "outputs": [],
   "source": []
  },
  {
   "cell_type": "markdown",
   "id": "72d94052",
   "metadata": {},
   "source": [
    "*2: CREATE A RECOMMENDATION SYSTEM USING AGREGATION*"
   ]
  },
  {
   "cell_type": "code",
   "execution_count": 6,
   "id": "e992d8ab",
   "metadata": {},
   "outputs": [
    {
     "name": "stdout",
     "output_type": "stream",
     "text": [
      "\n",
      " Recommended courses for user user123:\n"
     ]
    }
   ],
   "source": [
    "# 2. Simple Recommendation System (Based on Category)\n",
    "\n",
    "def recommend_courses_for_user(user_id):\n",
    "    # Get courses the user is enrolled in\n",
    "    enrolled_course_ids = db.enrollments.find({\"student_id\": user_id})\n",
    "    course_ids = [e[\"course_id\"] for e in enrolled_course_ids]\n",
    "\n",
    "    # Get categories of enrolled courses\n",
    "    enrolled_courses = db.courses.find({\"_id\": {\"$in\": course_ids}})\n",
    "    categories = [c[\"category\"] for c in enrolled_courses]\n",
    "\n",
    "    # Recommend other courses in same categories\n",
    "    recommendations = db.courses.find({\n",
    "        \"category\": {\"$in\": categories},\n",
    "        \"_id\": {\"$nin\": course_ids}\n",
    "    })\n",
    "\n",
    "    print(f\"\\n Recommended courses for user {user_id}:\")\n",
    "    for rec in recommendations:\n",
    "        print(f\"- {rec['title']} ({rec['category']})\")\n",
    "\n",
    "# Example usage\n",
    "recommend_courses_for_user(\"user123\")\n"
   ]
  },
  {
   "cell_type": "code",
   "execution_count": null,
   "id": "ee99e45a",
   "metadata": {},
   "outputs": [],
   "source": []
  },
  {
   "cell_type": "markdown",
   "id": "887aadad",
   "metadata": {},
   "source": [
    "*3: DESIGN A DATA ARCHIVING STRATEGY FOR OLD ENROLLMENTS*"
   ]
  },
  {
   "cell_type": "code",
   "execution_count": 10,
   "id": "9da46d18",
   "metadata": {},
   "outputs": [
    {
     "name": "stdout",
     "output_type": "stream",
     "text": [
      "\n",
      " No enrollments to archive.\n"
     ]
    },
    {
     "name": "stderr",
     "output_type": "stream",
     "text": [
      "C:\\Users\\hello\\AppData\\Local\\Temp\\ipykernel_13812\\2090906355.py:3: DeprecationWarning: datetime.datetime.utcnow() is deprecated and scheduled for removal in a future version. Use timezone-aware objects to represent datetimes in UTC: datetime.datetime.now(datetime.UTC).\n",
      "  one_year_ago = datetime.utcnow() - timedelta(days=60)\n"
     ]
    }
   ],
   "source": [
    "# 3. Archiving Old Enrollments (> 1 year old)\n",
    "\n",
    "one_year_ago = datetime.utcnow() - timedelta(days=60)\n",
    "\n",
    "# Move to archived collection\n",
    "old_enrollments = db.enrollments.find({\"enrolled_at\": {\"$lt\": one_year_ago}})\n",
    "archived = [e for e in old_enrollments]\n",
    "\n",
    "if archived:\n",
    "    db.archived_enrollments.insert_many(archived)\n",
    "    db.enrollments.delete_many({\"enrolled_at\": {\"$lt\": one_year_ago}})\n",
    "    print(f\"\\n Archived {len(archived)} old enrollments.\")\n",
    "else:\n",
    "    print(\"\\n No enrollments to archive.\")"
   ]
  },
  {
   "cell_type": "code",
   "execution_count": null,
   "id": "176232cb",
   "metadata": {},
   "outputs": [],
   "source": []
  },
  {
   "cell_type": "markdown",
   "id": "c0fd8486",
   "metadata": {},
   "source": [
    "*4: IMPLEMENT GEOSPARTIAL QUERIES FOR LOCATION_BASED COURSE RECOMENDATION*"
   ]
  },
  {
   "cell_type": "code",
   "execution_count": 11,
   "id": "e77df6de",
   "metadata": {},
   "outputs": [
    {
     "name": "stdout",
     "output_type": "stream",
     "text": [
      "\n",
      "📍 Nearby courses (within 5km):\n"
     ]
    }
   ],
   "source": [
    "# 4. Geospatial Queries (Find Courses Near a Student)\n",
    "# Add 2dsphere index for location field\n",
    "db.courses.create_index([(\"location\", \"2dsphere\")])\n",
    "\n",
    "# Example: Find courses within 5km of student's location\n",
    "student_location = {\n",
    "    \"type\": \"Point\",\n",
    "    \"coordinates\": [3.3792, 6.5244]  # Example: Lagos\n",
    "}\n",
    "\n",
    "nearby_courses = db.courses.find({\n",
    "    \"location\": {\n",
    "        \"$near\": {\n",
    "            \"$geometry\": student_location,\n",
    "            \"$maxDistance\": 5000  # 5 kilometers\n",
    "        }\n",
    "    }\n",
    "})\n",
    "\n",
    "print(\"\\n📍 Nearby courses (within 5km):\")\n",
    "for course in nearby_courses:\n",
    "    print(f\"- {course['title']}\")"
   ]
  }
 ],
 "metadata": {
  "kernelspec": {
   "display_name": "base",
   "language": "python",
   "name": "python3"
  },
  "language_info": {
   "codemirror_mode": {
    "name": "ipython",
    "version": 3
   },
   "file_extension": ".py",
   "mimetype": "text/x-python",
   "name": "python",
   "nbconvert_exporter": "python",
   "pygments_lexer": "ipython3",
   "version": "3.12.7"
  }
 },
 "nbformat": 4,
 "nbformat_minor": 5
}
