{
 "cells": [
  {
   "cell_type": "code",
   "execution_count": null,
   "id": "f3760642",
   "metadata": {},
   "outputs": [],
   "source": []
  },
  {
   "cell_type": "markdown",
   "id": "62e5799a",
   "metadata": {},
   "source": [
    "*PART 1 : DATABASE SETUP AND DATA MODELLING* "
   ]
  },
  {
   "cell_type": "markdown",
   "id": "f6e4a65d",
   "metadata": {},
   "source": [
    "*TASK 1.1 : Create Database and Collections*"
   ]
  },
  {
   "cell_type": "code",
   "execution_count": 1,
   "id": "29ffe2ea",
   "metadata": {},
   "outputs": [],
   "source": [
    "#import libraries\n",
    "\n",
    "from pymongo import MongoClient\n",
    "import pandas as pd\n",
    "from datetime import datetime, timedelta\n",
    "from faker import Faker\n",
    "import random\n",
    "from bson.objectid import ObjectId\n",
    "import bson\n",
    "import pprint as pp"
   ]
  },
  {
   "cell_type": "markdown",
   "id": "daccac6a",
   "metadata": {},
   "source": []
  },
  {
   "cell_type": "markdown",
   "id": "0bdc9f7d",
   "metadata": {},
   "source": [
    "*Connect to MongoClient*"
   ]
  },
  {
   "cell_type": "code",
   "execution_count": 2,
   "id": "67e4e439",
   "metadata": {},
   "outputs": [],
   "source": [
    "client = MongoClient (\"mongodb://localhost:27017\")\n",
    "fake = Faker()"
   ]
  },
  {
   "cell_type": "markdown",
   "id": "3f274a1a",
   "metadata": {},
   "source": []
  },
  {
   "cell_type": "markdown",
   "id": "092cde67",
   "metadata": {},
   "source": [
    "*DATABASE STRUCTURE*"
   ]
  },
  {
   "cell_type": "code",
   "execution_count": 3,
   "id": "a6ff75f1",
   "metadata": {},
   "outputs": [],
   "source": [
    "#connect to database\n",
    "\n",
    "db = client[\"eduhub_db\"]"
   ]
  },
  {
   "cell_type": "code",
   "execution_count": 17,
   "id": "57062e76",
   "metadata": {},
   "outputs": [],
   "source": [
    "users_col = db[\"users\"]\n",
    "courses_col = db[\"courses\"]\n",
    "enrollments_col = db[\"enrollments\"]\n",
    "lessons_col = db[\"lessons\"]\n",
    "assignments_col = db[\"assignments\"]\n",
    "submissions_col = db[\"submissions\"]"
   ]
  },
  {
   "cell_type": "markdown",
   "id": "72374f8e",
   "metadata": {},
   "source": []
  },
  {
   "cell_type": "markdown",
   "id": "7861ccb9",
   "metadata": {},
   "source": [
    "*TASK 1.2:  DESIGN DOCUMENT SCHEMA*"
   ]
  },
  {
   "cell_type": "markdown",
   "id": "e70fcf4f",
   "metadata": {},
   "source": [
    "*SAMPLE SCHEMA: users_schema*"
   ]
  },
  {
   "cell_type": "code",
   "execution_count": null,
   "id": "d29bf00b",
   "metadata": {},
   "outputs": [],
   "source": [
    "#Preselected values\n",
    "roles = [\"student\", \"instructor\"]\n",
    "\n",
    "bio = [\n",
    "    \"Passionate about lifelong learning and sharing knowledge.\",\n",
    "    \"Loves# to solve problems through technology and data.\",\n",
    "    \"Driven by curiosity and a desire to build meaningful things.\",\n",
    "    \"Helping students grow into world-class developers.\",\n",
    "    \"Committed to creating impactful learning experiences.\"\n",
    "]\n",
    "\n",
    "avatar = [\n",
    "    \"https://api.dicebear.com/6.x/thumbs/svg?seed=Alpha\",\n",
    "    \"https://api.dicebear.com/6.x/thumbs/svg?seed=Beta\",\n",
    "    \"https://api.dicebear.com/6.x/thumbs/svg?seed=Gamma\",\n",
    "    \"https://api.dicebear.com/6.x/thumbs/svg?seed=Delta\",\n",
    "    \"https://api.dicebear.com/6.x/thumbs/svg?seed=Echo\",\n",
    "    \"https://api.dicebear.com/6.x/thumbs/svg?seed=Zeta\",\n",
    "    \"https://api.dicebear.com/6.x/thumbs/svg?seed=Orion\",\n",
    "    \"https://api.dicebear.com/6.x/thumbs/svg?seed=Nova\",\n",
    "    \"https://api.dicebear.com/6.x/thumbs/svg?seed=Pixel\",\n",
    "    \"https://api.dicebear.com/6.x/thumbs/svg?seed=Rocket\"\n",
    "]\n",
    "\n",
    "skills = [\n",
    "    \"Python\", \"MongoDB\", \"Data Engineering\", \"ETL\", \"Machine Learning\",\n",
    "    \"Cloud Computing\", \"Docker\", \"JavaScript\", \"SQL\", \"APIs\"\n",
    "]\n",
    "\n",
    "# Generate users_schema\n",
    "users_schema = []\n",
    "\n",
    "for i in range(1, 101):\n",
    "    r_user = {\n",
    "        \"_id\" : ObjectId(),\n",
    "        \"user_id\" : f\"U{str(i).zfill(3)}\",\n",
    "        \"email\" : fake.email(),\n",
    "        \"first_name\" : fake.first_name(),\n",
    "        \"last_name\" : fake.last_name(),\n",
    "        \"date_joined\" : fake.date_time_between(start_date=\"-1y\", end_date=\"now\"),\n",
    "        \"role\" : random.choice(roles),\n",
    "        \"profile\" : {\n",
    "            \"bio\" : random.choice(bio),\n",
    "            \"avatar\" : random.choice(avatar),\n",
    "            \"skills\" : random.sample(skills, k=3)\n",
    "        },\n",
    "\n",
    "        \"is_active\" : random.choice([True, False])\n",
    "    }\n",
    "\n",
    "    users_schema.append(r_user)"
   ]
  },
  {
   "cell_type": "markdown",
   "id": "b7e27b96",
   "metadata": {},
   "source": []
  },
  {
   "cell_type": "markdown",
   "id": "bc1bad7c",
   "metadata": {},
   "source": [
    "*SAMPLE SCHEMA: course_schema*"
   ]
  },
  {
   "cell_type": "code",
   "execution_count": 14,
   "metadata": {},
   "outputs": [],
   "source": [
    "\n",
    "# Preselected options\n",
    "categories = [\"Data Engineering\", \"Web Development\", \"Cloud Computing\", \"AI\", \"DevOps\"]\n",
    "levels = [\"beginner\", \"intermediate\", \"advanced\"]\n",
    "tags = [\n",
    "    \"project-based\", \"career-ready\", \"hands-on\", \"real-world\", \"certification\",\n",
    "    \"mentor-supported\", \"interactive\", \"video-tutorials\", \"downloadable-resources\",\n",
    "    \"quiz-included\", \"assignment-driven\", \"lifetime-access\", \"community-support\",\n",
    "    \"interview-prep\", \"beginner-friendly\"\n",
    "]\n",
    "descriptions = [\n",
    "    \"Learn how to build scalable data pipelines using modern tools and best practices.\",\n",
    "    \"This course introduces you to web development using HTML, CSS, and JavaScript.\",\n",
    "    \"Master cloud infrastructure and deployment using AWS, Docker, and Kubernetes.\",\n",
    "    \"Understand core machine learning concepts with hands-on Python projects.\",\n",
    "    \"Get started with databases and SQL for data analysis and backend development.\",\n",
    "    \"Develop a strong foundation in data engineering with real-world ETL scenarios.\",\n",
    "    \"Explore modern DevOps workflows, CI/CD pipelines, and monitoring strategies.\",\n",
    "    \"Learn to build REST APIs and microservices with Flask and Django.\",\n",
    "    \"Gain experience in big data technologies like Spark and Hadoop.\",\n",
    "    \"Prepare for a career in AI with deep learning and neural network fundamentals.\"\n",
    "]\n",
    "\n",
    "titles = [\n",
    "    \"Python for Beginners\",\n",
    "    \"Data Engineering with Python\",\n",
    "    \"MongoDB for Developers\",\n",
    "    \"Big Data Processing with Spark\",\n",
    "    \"Machine Learning with scikit-learn\",\n",
    "    \"Deep Learning with TensorFlow\",\n",
    "    \"Data Visualization with Seaborn\",\n",
    "    \"AWS Cloud Fundamentals\",\n",
    "    \"Building REST APIs with FastAPI\",\n",
    "    \"Kubernetes for Developers\",\n",
    "    \"Unit Testing in Python\",\n",
    "    \"Git & GitHub for Collaboration\",\n",
    "    \"Clean Code and Refactoring\",\n",
    "    \"Computer Vision with OpenCV\",\n",
    "    \"Deploying Applications with Docker\"\n",
    "]\n",
    "\n",
    "# Simulated instructor user_ids (replace with real ones later)\n",
    "instructor_ids = [f\"U{str(i).zfill(3)}\" for i in range(1, 41)]\n",
    "\n",
    "# Generate courses\n",
    "course_schema = []\n",
    "\n",
    "for i in range(1, 101):\n",
    "    r_course = {\n",
    "        \"_id\": ObjectId(),\n",
    "        \"course_id\": f\"C{str(i).zfill(3)}\",\n",
    "        \"title\": random.choice(titles),\n",
    "        \"description\": random.choice(descriptions),\n",
    "        \"instructor_id\": random.choice(instructor_ids),\n",
    "        \"category\": random.choice(categories),\n",
    "        \"level\": random.choice(levels),\n",
    "        \"duration\": random.randint(5, 60),  # hours\n",
    "        \"price\": random.choice([0, 50, 100, 150, 200, 250, 300]), \n",
    "        \"tags\": random.sample(tags, k=3),\n",
    "        \"created_at\": fake.date_time_between(start_date=\"-6M\", end_date=\"now\"),\n",
    "        \"updated_at\": datetime.now(),\n",
    "        \"is_published\": random.choice([True, False])\n",
    "    }\n",
    "\n",
    "    course_schema.append(r_course)"
   ]
  },
  {
   "cell_type": "markdown",
   "id": "8dda0d31",
   "metadata": {},
   "source": []
  },
  {
   "cell_type": "markdown",
   "id": "2ee4c627",
   "metadata": {},
   "source": [
    "*PART 2: DATA POPULATION*"
   ]
  },
  {
   "cell_type": "markdown",
   "id": "874d915b",
   "metadata": {},
   "source": [
    "*TASK 2.1: Insert Sample Data*"
   ]
  },
  {
   "cell_type": "markdown",
   "id": "7898b07a",
   "metadata": {},
   "source": [
    "*USER - COLLECTION*"
   ]
  },
  {
   "cell_type": "code",
   "execution_count": null,
   "id": "8835a9a3",
   "metadata": {},
   "outputs": [
    {
     "name": "stdout",
     "output_type": "stream",
     "text": [
      " Inserted 20 users successfully.\n"
     ]
    }
   ],
   "source": [
    "#INSERT 20 USERS (mix of students and instructors)\n",
    "\n",
    "users_schema = []\n",
    "for i in range(1, 21):\n",
    "    user = {\n",
    "        \"_id\": ObjectId(),\n",
    "        \"user_id\": f\"U{str(i).zfill(3)}\",\n",
    "        \"email\": fake.email(),\n",
    "        \"first_name\": fake.first_name(),\n",
    "        \"last_name\": fake.last_name(),\n",
    "        \"date_joined\": fake.date_time_between(start_date=\"-1y\", end_date=\"now\"),\n",
    "        \"role\": random.choice(roles),\n",
    "        \"profile\": {\n",
    "            \"bio\": random.choice(bio),\n",
    "            \"avatar\": random.choice(avatar),\n",
    "            \"skills\": random.sample(skills, k=3)\n",
    "        },\n",
    "        \"is_active\": random.choice([True, False])\n",
    "    }\n",
    "    users_schema.append(user)\n",
    "\n",
    "\n",
    "users_col.insert_many(users_schema)\n",
    "\n",
    "print(\" Inserted 20 users successfully.\")"
   ]
  },
  {
   "cell_type": "markdown",
   "id": "48b14f1d",
   "metadata": {},
   "source": []
  },
  {
   "cell_type": "markdown",
   "id": "3f266f23",
   "metadata": {},
   "source": [
    "*COURSE - COLLECTION*"
   ]
  },
  {
   "cell_type": "code",
   "execution_count": null,
   "id": "4952257f",
   "metadata": {},
   "outputs": [
    {
     "name": "stdout",
     "output_type": "stream",
     "text": [
      " Inserted 8 courses successfully.\n"
     ]
    }
   ],
   "source": [
    "#INSERT 8 COURSES ACROSS DIFFERENT CATEGORIES\n",
    "\n",
    "course_schema = []\n",
    "\n",
    "for i in range(1, 9):\n",
    "    course = {\n",
    "        \"_id\": ObjectId(),\n",
    "        \"course_id\": f\"C{str(i).zfill(3)}\",\n",
    "        \"title\": random.choice(titles),\n",
    "        \"description\": random.choice(descriptions),\n",
    "        \"instructor_id\": random.choice([user[\"user_id\"] for user in users_schema if user[\"role\"] == \"instructor\"]),\n",
    "        \"category\": random.choice(categories),\n",
    "        \"level\": random.choice(levels),\n",
    "        \"duration\": random.randint(5, 60),\n",
    "        \"price\": random.choice([0, 50, 100, 150, 200, 250, 300]),\n",
    "        \"tags\": random.sample(tags, k=3),\n",
    "        \"created_at\": fake.date_time_between(start_date=\"-6M\", end_date=\"now\"),\n",
    "        \"updated_at\": datetime.now(),\n",
    "        \"is_published\": random.choice([True, False])\n",
    "    }\n",
    "    course_schema.append(course)\n",
    "\n",
    "# Clear and insert\n",
    "courses_col.delete_many({})\n",
    "courses_col.insert_many(course_schema)\n",
    "\n",
    "print(\" Inserted 8 courses successfully.\")\n",
    "\n"
   ]
  },
  {
   "cell_type": "markdown",
   "id": "adf56370",
   "metadata": {},
   "source": []
  },
  {
   "cell_type": "markdown",
   "id": "19bea82d",
   "metadata": {},
   "source": [
    "*ENROLLMENTS - COLLECTION*"
   ]
  },
  {
   "cell_type": "code",
   "execution_count": null,
   "id": "69688ffe",
   "metadata": {},
   "outputs": [
    {
     "name": "stdout",
     "output_type": "stream",
     "text": [
      "Inserted 15 enrollments successfully.\n"
     ]
    }
   ],
   "source": [
    "#INSERT 15 ENROLLMENTS\n",
    "\n",
    "enrollment_schema = []\n",
    "\n",
    "for i in range(1, 16):\n",
    "    student = random.choice([user for user in users_schema if user[\"role\"] == \"student\"])\n",
    "    course = random.choice(course_schema)\n",
    "\n",
    "    enrollment = {\n",
    "        \"_id\": ObjectId(),\n",
    "        \"enrollment_id\": f\"E{str(i).zfill(3)}\",\n",
    "        \"user_id\": student[\"user_id\"],\n",
    "        \"course_id\": course[\"course_id\"],\n",
    "        \"enrolled_on\": fake.date_time_between(start_date=course[\"created_at\"], end_date=\"now\"),\n",
    "        \"progress\": random.randint(0, 100),\n",
    "        \"completed\": random.choice([True, False])\n",
    "    }\n",
    "\n",
    "    enrollment_schema.append(enrollment)\n",
    "\n",
    "# Clear and insert\n",
    "enrollments_col.delete_many({})\n",
    "enrollments_col.insert_many(enrollment_schema)\n",
    "\n",
    "print(\"Inserted 15 enrollments successfully.\")"
   ]
  },
  {
   "cell_type": "markdown",
   "id": "fd497c9a",
   "metadata": {},
   "source": []
  },
  {
   "cell_type": "markdown",
   "id": "37bf31f5",
   "metadata": {},
   "source": [
    "*LESSONS - COLLECTION*"
   ]
  },
  {
   "cell_type": "code",
   "execution_count": null,
   "metadata": {},
   "outputs": [
    {
     "name": "stdout",
     "output_type": "stream",
     "text": [
      " Inserted 25 lessons successfully.\n"
     ]
    }
   ],
   "source": [
    "#INSERT 25 LESSONS\n",
    "\n",
    "lesson_schema = []\n",
    "\n",
    "for i in range(1, 26):\n",
    "    course = random.choice(course_schema)\n",
    "\n",
    "    lesson = {\n",
    "        \"_id\": ObjectId(),\n",
    "        \"lesson_id\": f\"L{str(i).zfill(3)}\",\n",
    "        \"course_id\": course[\"course_id\"],\n",
    "        \"title\": f\"Lesson {i}: {random.choice(titles)}\",\n",
    "        \"content\": fake.paragraph(nb_sentences=5),\n",
    "        \"video_url\": f\"https://example.com/video/{i}\",\n",
    "        \"resources\": [f\"https://resource.com/{fake.word()}\" for _ in range(2)],\n",
    "        \"order\": i,\n",
    "        \"created_at\": datetime.now()\n",
    "    }\n",
    "\n",
    "    lesson_schema.append(lesson)\n",
    "\n",
    "# Clear and insert\n",
    "lessons_col.delete_many({})\n",
    "lessons_col.insert_many(lesson_schema)\n",
    "\n",
    "print(\" Inserted 25 lessons successfully.\")"
   ]
  },
  {
   "cell_type": "markdown",
   "id": "e081ae94",
   "metadata": {},
   "source": []
  },
  {
   "cell_type": "markdown",
   "id": "51fa9399",
   "metadata": {},
   "source": [
    "*ASSIGNMENTS - COLLECTION*"
   ]
  },
  {
   "cell_type": "code",
   "execution_count": null,
   "metadata": {},
   "outputs": [
    {
     "name": "stdout",
     "output_type": "stream",
     "text": [
      " Inserted 10 assignments successfully.\n"
     ]
    }
   ],
   "source": [
    "#INSERT 10 ASSIGNMENTS\n",
    " \n",
    "assignment_schema = []\n",
    "\n",
    "for i in range(1, 11):\n",
    "    lesson = random.choice(lesson_schema)\n",
    "    \n",
    "    assignment = {\n",
    "        \"_id\": ObjectId(),\n",
    "        \"assignment_id\": f\"A{str(i).zfill(3)}\",\n",
    "        \"course_id\": lesson[\"course_id\"],\n",
    "        \"lesson_id\": lesson[\"lesson_id\"],\n",
    "        \"title\": f\"Assignment {i}: {random.choice(titles)}\",\n",
    "        \"description\": fake.paragraph(nb_sentences=3),\n",
    "        \"due_date\": datetime.now() + timedelta(days=random.randint(3, 14)),\n",
    "        \"max_score\": 100,\n",
    "        \"created_at\": datetime.now()\n",
    "    }\n",
    "\n",
    "    assignment_schema.append(assignment)\n",
    "\n",
    "# Clear and insert\n",
    "assignments_col.delete_many({})\n",
    "assignments_col.insert_many(assignment_schema)\n",
    "\n",
    "print(\" Inserted 10 assignments successfully.\")"
   ]
  },
  {
   "cell_type": "markdown",
   "id": "e5085d31",
   "metadata": {},
   "source": []
  },
  {
   "cell_type": "markdown",
   "id": "24d23ca7",
   "metadata": {},
   "source": [
    "*SUBMISSION - COLLECTION*"
   ]
  },
  {
   "cell_type": "code",
   "execution_count": null,
   "id": "e7dab433",
   "metadata": {},
   "outputs": [
    {
     "name": "stdout",
     "output_type": "stream",
     "text": [
      " Inserted 12 submissions successfully.\n"
     ]
    }
   ],
   "source": [
    "#Insert 12 submissions\n",
    "\n",
    "submission_schema = []\n",
    "\n",
    "for i in range(1, 13):\n",
    "    assignment = random.choice(assignment_schema)\n",
    "    student = random.choice([user for user in users_schema if user[\"role\"] == \"student\"])\n",
    "\n",
    "    submission = {\n",
    "        \"_id\": ObjectId(),\n",
    "        \"submission_id\": f\"S{str(i).zfill(3)}\",\n",
    "        \"assignment_id\": assignment[\"assignment_id\"],\n",
    "        \"user_id\": student[\"user_id\"],\n",
    "        \"submitted_on\": datetime.now() - timedelta(days=random.randint(0, 5)),\n",
    "        \"content\": fake.paragraph(nb_sentences=4),\n",
    "        \"score\": random.randint(50, 100),\n",
    "        \"graded\": random.choice([True, False])\n",
    "    }\n",
    "\n",
    "    submission_schema.append(submission)\n",
    "\n",
    "# Clear and insert\n",
    "submissions_col.delete_many({})\n",
    "submissions_col.insert_many(submission_schema)\n",
    "\n",
    "print(\" Inserted 12 submissions successfully.\")"
   ]
  },
  {
   "cell_type": "markdown",
   "id": "e52dfdfa",
   "metadata": {},
   "source": []
  },
  {
   "cell_type": "markdown",
   "id": "7b0b484f",
   "metadata": {},
   "source": [
    "*TASK 2.2 : DATA RELATIONSHIP*"
   ]
  },
  {
   "cell_type": "markdown",
   "id": "98012f31",
   "metadata": {},
   "source": [
    "Proper referential relationships were established between all collections by using consistent and appropriate field references. Specifically:\n",
    "\n",
    " • The enrollments collection references both the users collection (student_id) and the courses collection (course_id) to link students to the courses they are enrolled in.\n",
    "\n",
    " • The courses collection includes a reference to the instructor via instructor_id, which points to the relevant document in the users collection.\n",
    "\n",
    " • The lessons collection is linked to specific courses through course_id, maintaining a clear association between course content and structure.\n",
    "\n",
    " • The assignments collection is also tied to courses using course_id, ensuring each assignment is properly scoped within its course.\n",
    "\n",
    " • The submissions collection uses both assignment_id and student_id to connect student work to specific assignments and users.\n",
    " "
   ]
  },
  {
   "cell_type": "markdown",
   "id": "4c747fa7",
   "metadata": {},
   "source": []
  },
  {
   "cell_type": "markdown",
   "id": "b07be2aa",
   "metadata": {},
   "source": [
    "*PART 3: BASIC CRUD OPERATIONS*"
   ]
  },
  {
   "cell_type": "markdown",
   "id": "6f28d48b",
   "metadata": {},
   "source": [
    "*TASK 3.1 : Create Operations using pymongo to write python code to perform the following operations*"
   ]
  },
  {
   "cell_type": "markdown",
   "id": "776bec7b",
   "metadata": {},
   "source": [
    "*1 : Add a new student user*"
   ]
  },
  {
   "cell_type": "code",
   "execution_count": null,
   "id": "37c876d9",
   "metadata": {},
   "outputs": [
    {
     "name": "stdout",
     "output_type": "stream",
     "text": [
      " New user added successfully.\n"
     ]
    }
   ],
   "source": [
    "#add new student user\n",
    "\n",
    "\n",
    "new_user = {\n",
    "    \"_id\": ObjectId(),\n",
    "    \"user_id\": \"U999\",\n",
    "    \"email\": \"newuser@example.com\",\n",
    "    \"first_name\": \"Feyisayo\",\n",
    "    \"last_name\": \"Ajiboye\",\n",
    "    \"date_joined\": datetime.now(),\n",
    "    \"role\": \"student\",\n",
    "    \"profile\": {\n",
    "        \"bio\": \"Excited to explore the world of data.\",\n",
    "        \"avatar\": \"https://api.dicebear.com/6.x/thumbs/svg?seed=Nova\",\n",
    "        \"skills\": [\"Python\", \"MongoDB\", \"SQL\"]\n",
    "    },\n",
    "    \"is_active\": True\n",
    "}\n",
    "\n",
    "# Insert user\n",
    "users_col.insert_one(new_user)\n",
    "\n",
    "print(\" New user added successfully.\")\n",
    "\n"
   ]
  },
  {
   "cell_type": "code",
   "execution_count": 32,
   "id": "f60fc101",
   "metadata": {},
   "outputs": [
    {
     "name": "stdout",
     "output_type": "stream",
     "text": [
      "User found:\n",
      "{'_id': ObjectId('684a08924512eed8bc924c69'),\n",
      " 'date_joined': datetime.datetime(2025, 6, 11, 23, 52, 2, 917000),\n",
      " 'email': 'newuser@example.com',\n",
      " 'first_name': 'Feyisayo',\n",
      " 'is_active': True,\n",
      " 'last_name': 'Ajiboye',\n",
      " 'profile': {'avatar': 'https://api.dicebear.com/6.x/thumbs/svg?seed=Nova',\n",
      "             'bio': 'Excited to explore the world of data.',\n",
      "             'skills': ['Python', 'MongoDB', 'SQL']},\n",
      " 'role': 'student',\n",
      " 'user_id': 'U999'}\n"
     ]
    }
   ],
   "source": [
    "#validate \n",
    "\n",
    "user = users_col.find_one({\"user_id\": \"U999\"})\n",
    "\n",
    "if user:\n",
    "    print(\"User found:\")\n",
    "    pp.pprint(user)\n",
    "else:\n",
    "    print(\" User not found.\")"
   ]
  },
  {
   "cell_type": "markdown",
   "id": "a673abc3",
   "metadata": {},
   "source": []
  },
  {
   "cell_type": "markdown",
   "id": "ad4354e9",
   "metadata": {},
   "source": [
    "*2 : Create a new course*"
   ]
  },
  {
   "cell_type": "code",
   "execution_count": 33,
   "metadata": {},
   "outputs": [
    {
     "name": "stdout",
     "output_type": "stream",
     "text": [
      "New course added successfully.\n"
     ]
    }
   ],
   "source": [
    "#insert one course\n",
    "\n",
    "\n",
    "new_course = {\n",
    "    \"_id\": ObjectId(),\n",
    "    \"course_id\": \"C999\",\n",
    "    \"title\": \"Data Engineering Essentials\",\n",
    "    \"description\": \"Master the basics of data pipelines, ETL, and database management.\",\n",
    "    \"instructor_id\": \"U005\",  # make sure this ID belongs to an instructor\n",
    "    \"category\": \"Data Engineering\",\n",
    "    \"level\": \"beginner\",\n",
    "    \"duration\": 40,\n",
    "    \"price\": 150,\n",
    "    \"tags\": [\"project-based\", \"career-ready\", \"interactive\"],\n",
    "    \"created_at\": datetime.now(),\n",
    "    \"updated_at\": datetime.now(),\n",
    "    \"is_published\": True\n",
    "}\n",
    "\n",
    "# Insert course\n",
    "courses_col.insert_one(new_course)\n",
    "\n",
    "print(\"New course added successfully.\")\n",
    "\n"
   ]
  },
  {
   "cell_type": "code",
   "execution_count": 34,
   "id": "de1f6b8e",
   "metadata": {},
   "outputs": [
    {
     "name": "stdout",
     "output_type": "stream",
     "text": [
      "Course found:\n",
      "{'_id': ObjectId('684a0a9d4512eed8bc924c6c'),\n",
      " 'category': 'Data Engineering',\n",
      " 'course_id': 'C999',\n",
      " 'created_at': datetime.datetime(2025, 6, 12, 0, 0, 45, 224000),\n",
      " 'description': 'Master the basics of data pipelines, ETL, and database '\n",
      "                'management.',\n",
      " 'duration': 40,\n",
      " 'instructor_id': 'U005',\n",
      " 'is_published': True,\n",
      " 'level': 'beginner',\n",
      " 'price': 150,\n",
      " 'tags': ['project-based', 'career-ready', 'interactive'],\n",
      " 'title': 'Data Engineering Essentials',\n",
      " 'updated_at': datetime.datetime(2025, 6, 12, 0, 0, 45, 224000)}\n"
     ]
    }
   ],
   "source": [
    "#validate\n",
    "course = courses_col.find_one({\"course_id\": \"C999\"})\n",
    "\n",
    "if course:\n",
    "    print(\"Course found:\")\n",
    "    pp.pprint(course)\n",
    "else:\n",
    "    print(\"Course not found.\")"
   ]
  },
  {
   "cell_type": "markdown",
   "id": "aa36de94",
   "metadata": {},
   "source": []
  },
  {
   "cell_type": "markdown",
   "id": "4230e578",
   "metadata": {},
   "source": [
    "*3: Enroll a student in a course*"
   ]
  },
  {
   "cell_type": "code",
   "execution_count": 35,
   "metadata": {},
   "outputs": [
    {
     "name": "stdout",
     "output_type": "stream",
     "text": [
      " Student enrolled successfully.\n"
     ]
    }
   ],
   "source": [
    "#Enroll a student \n",
    "\n",
    "\n",
    "# Example: Enroll user U999 into course C999\n",
    "new_enrollment = {\n",
    "    \"_id\": ObjectId(),\n",
    "    \"enrollment_id\": \"E999\",\n",
    "    \"user_id\": \"U999\",          # must be a student\n",
    "    \"course_id\": \"C999\",\n",
    "    \"enrolled_on\": datetime.now(),\n",
    "    \"progress\": 0,\n",
    "    \"is_active\": True\n",
    "}\n",
    "\n",
    "# Insert enrollment\n",
    "enrollments_col.insert_one(new_enrollment)\n",
    "\n",
    "print(\" Student enrolled successfully.\")"
   ]
  },
  {
   "cell_type": "code",
   "execution_count": 118,
   "id": "c11a2fcc",
   "metadata": {},
   "outputs": [
    {
     "name": "stdout",
     "output_type": "stream",
     "text": [
      " Enrollment found:\n",
      "{'_id': ObjectId('684a0cbe4512eed8bc924c70'),\n",
      " 'course_id': 'C999',\n",
      " 'enrolled_on': datetime.datetime(2025, 6, 12, 0, 9, 50, 640000),\n",
      " 'enrollment_id': 'E999',\n",
      " 'is_active': True,\n",
      " 'progress': 0,\n",
      " 'user_id': 'U999'}\n"
     ]
    }
   ],
   "source": [
    "#Validate \n",
    "\n",
    "enrollment = enrollments_col.find_one({\"enrollment_id\": \"E999\"})\n",
    "\n",
    "if enrollment:\n",
    "    print(\" Enrollment found:\")\n",
    "    pp.pprint(enrollment)\n",
    "else:\n",
    "    print(\" Enrollment not found.\")"
   ]
  },
  {
   "cell_type": "markdown",
   "id": "bc1a0dcb",
   "metadata": {},
   "source": []
  },
  {
   "cell_type": "markdown",
   "id": "7862c7a1",
   "metadata": {},
   "source": [
    "*4: Add a new lesson to an existing course*"
   ]
  },
  {
   "cell_type": "code",
   "execution_count": 38,
   "id": "07013dcf",
   "metadata": {},
   "outputs": [
    {
     "name": "stdout",
     "output_type": "stream",
     "text": [
      " Lesson added successfully.\n"
     ]
    }
   ],
   "source": [
    "#Add a new lesson \n",
    "\n",
    "\n",
    "new_lesson = {\n",
    "    \"_id\": ObjectId(),\n",
    "    \"lesson_id\": \"L999\",\n",
    "    \"course_id\": \"C999\",  # existing course\n",
    "    \"title\": random.choice(titles),  # from your preselected titles\n",
    "    \"content\": \"This lesson introduces the fundamentals of data engineering.\",\n",
    "    \"duration\": random.randint(10, 30),  # in minutes\n",
    "    \"resources\": [\n",
    "        \"https://example.com/resource1\",\n",
    "        \"https://example.com/resource2\"\n",
    "    ],\n",
    "    \"created_at\": datetime.now()\n",
    "}\n",
    "\n",
    "# Insert lesson\n",
    "lessons_col.insert_one(new_lesson)\n",
    "\n",
    "print(\" Lesson added successfully.\")"
   ]
  },
  {
   "cell_type": "code",
   "execution_count": 119,
   "id": "ccb49ef3",
   "metadata": {},
   "outputs": [
    {
     "name": "stdout",
     "output_type": "stream",
     "text": [
      " Lesson found:\n",
      "{'_id': ObjectId('684a0d2b4512eed8bc924c71'),\n",
      " 'content': 'This lesson introduces the fundamentals of data engineering.',\n",
      " 'course_id': 'C999',\n",
      " 'created_at': datetime.datetime(2025, 6, 12, 0, 11, 39, 718000),\n",
      " 'duration': 21,\n",
      " 'lesson_id': 'L999',\n",
      " 'resources': ['https://example.com/resource1',\n",
      "               'https://example.com/resource2'],\n",
      " 'title': 'Deploying Applications with Docker'}\n"
     ]
    }
   ],
   "source": [
    "#Validate \n",
    "\n",
    "\n",
    "lesson = lessons_col.find_one({\"lesson_id\": \"L999\"})\n",
    "\n",
    "if lesson:\n",
    "    print(\" Lesson found:\")\n",
    "    pp.pprint(lesson)\n",
    "else:\n",
    "    print(\" Lesson not found.\")"
   ]
  },
  {
   "cell_type": "markdown",
   "id": "4585300a",
   "metadata": {},
   "source": []
  },
  {
   "cell_type": "markdown",
   "id": "f991b3cc",
   "metadata": {},
   "source": [
    "*TASK 3.2 : READ OPERATIONS*"
   ]
  },
  {
   "cell_type": "markdown",
   "id": "7a10e527",
   "metadata": {},
   "source": [
    "*WRITE PYTHON QUERIES TO PERFORM THE FOLOWING*"
   ]
  },
  {
   "cell_type": "markdown",
   "id": "bd17682e",
   "metadata": {},
   "source": [
    "*1: Find all active students*"
   ]
  },
  {
   "cell_type": "code",
   "execution_count": null,
   "id": "8b23608f",
   "metadata": {},
   "outputs": [
    {
     "name": "stdout",
     "output_type": "stream",
     "text": [
      "Active Students:\n",
      "U004 - Erin Young\n",
      "U005 - Tina Key\n",
      "U006 - Amanda Knapp\n",
      "U011 - Gabriel Roberts\n",
      "U017 - Joshua Wilson\n",
      "U999 - Feyisayo Ajiboye\n",
      "U999 - Feyisayo Ajiboye\n",
      "U999 - Feyisayo Ajiboye\n",
      "U999 - Feyisayo Ajiboye\n"
     ]
    }
   ],
   "source": [
    " \n",
    "#Find all active students \n",
    "\n",
    "active_students = users_col.find({\n",
    "    \"role\": \"student\",\n",
    "    \"is_active\": True\n",
    "})\n",
    "\n",
    "print(\"Active Students:\")\n",
    "for student in active_students:\n",
    "    print(f\"{student['user_id']} - {student['first_name']} {student['last_name']}\")"
   ]
  },
  {
   "cell_type": "markdown",
   "id": "758a05b5",
   "metadata": {},
   "source": []
  },
  {
   "cell_type": "markdown",
   "id": "20985d02",
   "metadata": {},
   "source": [
    "*2: Retrieve course details with instructor information*"
   ]
  },
  {
   "cell_type": "code",
   "execution_count": null,
   "id": "7b534a56",
   "metadata": {},
   "outputs": [
    {
     "name": "stdout",
     "output_type": "stream",
     "text": [
      " Course with Instructor Info:\n",
      "{'category': 'Data Engineering',\n",
      " 'course_id': 'C004',\n",
      " 'instructor': {'email': 'williamgordon@example.org',\n",
      "                'full_name': 'Laura Galvan',\n",
      "                'skills': ['SQL', 'ETL', 'Data Engineering']},\n",
      " 'level': 'intermediate',\n",
      " 'price': 100,\n",
      " 'title': 'Data Visualization with Seaborn'}\n"
     ]
    }
   ],
   "source": [
    "#Retrieve course details with instructors information \n",
    "\n",
    "pipeline = [\n",
    "    {\n",
    "        \"$match\": {\"course_id\": \"C004\"}\n",
    "    },\n",
    "    {\n",
    "        \"$lookup\": {\n",
    "            \"from\": \"users\",\n",
    "            \"localField\": \"instructor_id\",\n",
    "            \"foreignField\": \"user_id\",\n",
    "            \"as\": \"instructor_info\"\n",
    "        }\n",
    "    },\n",
    "    {\n",
    "        \"$unwind\": \"$instructor_info\"\n",
    "    },\n",
    "    {\n",
    "        \"$project\": {\n",
    "            \"_id\": 0,\n",
    "            \"course_id\": 1,\n",
    "            \"title\": 1,\n",
    "            \"category\": 1,\n",
    "            \"level\": 1,\n",
    "            \"price\": 1,\n",
    "            \"instructor\": {\n",
    "                \"full_name\": {\n",
    "                    \"$concat\": [\n",
    "                        \"$instructor_info.first_name\",\n",
    "                        \" \",\n",
    "                        \"$instructor_info.last_name\"\n",
    "                    ]\n",
    "                },\n",
    "                \"email\": \"$instructor_info.email\",\n",
    "                \"skills\": \"$instructor_info.profile.skills\"\n",
    "            }\n",
    "        }\n",
    "    }\n",
    "]\n",
    "\n",
    "result = list(courses_col.aggregate(pipeline))\n",
    "\n",
    "if result:\n",
    "    print(\" Course with Instructor Info:\")\n",
    "    pp.pprint(result[0])\n",
    "else:\n",
    "    print(\"No course found.\")"
   ]
  },
  {
   "cell_type": "markdown",
   "id": "8e977a9a",
   "metadata": {},
   "source": []
  },
  {
   "cell_type": "markdown",
   "id": "9975f3c2",
   "metadata": {},
   "source": [
    "*3: Get all courses in a specific category*"
   ]
  },
  {
   "cell_type": "code",
   "execution_count": 43,
   "id": "d67033ba",
   "metadata": {},
   "outputs": [
    {
     "name": "stdout",
     "output_type": "stream",
     "text": [
      " Courses in category: Data Engineering\n",
      "C002 - Big Data Processing with Spark\n",
      "C004 - Data Visualization with Seaborn\n",
      "C006 - Big Data Processing with Spark\n",
      "C007 - Deep Learning with TensorFlow\n",
      "C999 - Data Engineering Essentials\n",
      "C999 - Data Engineering Essentials\n"
     ]
    }
   ],
   "source": [
    "#Get all courses in a specific category \n",
    "\n",
    "\n",
    "category_name = \"Data Engineering\"\n",
    "\n",
    "courses = courses_col.find({\"category\": category_name})\n",
    "\n",
    "print(f\" Courses in category: {category_name}\")\n",
    "for course in courses:\n",
    "    print(f\"{course['course_id']} - {course['title']}\")"
   ]
  },
  {
   "cell_type": "markdown",
   "id": "47c24a0a",
   "metadata": {},
   "source": []
  },
  {
   "cell_type": "markdown",
   "id": "9c9bdd2d",
   "metadata": {},
   "source": [
    "*4: Find students enrolled in a specific course*"
   ]
  },
  {
   "cell_type": "code",
   "execution_count": null,
   "id": "73dbbadf",
   "metadata": {},
   "outputs": [
    {
     "name": "stdout",
     "output_type": "stream",
     "text": [
      " Enrolled Students in Course C004:\n",
      "{'course_id': 'C004',\n",
      " 'email': 'dwalters@example.net',\n",
      " 'enrolled_on': datetime.datetime(2025, 3, 14, 13, 11, 29),\n",
      " 'enrollment_id': 'E004',\n",
      " 'student_name': 'Erin Young',\n",
      " 'user_id': 'U004'}\n",
      "{'course_id': 'C004',\n",
      " 'email': 'lmann@example.org',\n",
      " 'enrolled_on': datetime.datetime(2025, 3, 2, 10, 20, 52),\n",
      " 'enrollment_id': 'E008',\n",
      " 'student_name': 'Jacob Wilson',\n",
      " 'user_id': 'U015'}\n",
      "{'course_id': 'C004',\n",
      " 'email': 'jenniferpatterson@example.org',\n",
      " 'enrolled_on': datetime.datetime(2025, 4, 22, 2, 41, 40),\n",
      " 'enrollment_id': 'E013',\n",
      " 'student_name': 'Gabriel Roberts',\n",
      " 'user_id': 'U011'}\n",
      "{'course_id': 'C004',\n",
      " 'email': 'destinysalazar@example.com',\n",
      " 'enrolled_on': datetime.datetime(2025, 4, 22, 17, 30, 55),\n",
      " 'enrollment_id': 'E015',\n",
      " 'student_name': 'Amanda Knapp',\n",
      " 'user_id': 'U006'}\n"
     ]
    }
   ],
   "source": [
    "#Find students enrolled in a specific course \n",
    "\n",
    "\n",
    "pipeline = [\n",
    "    {\n",
    "        \"$match\": {\"course_id\": \"C004\"}\n",
    "    },\n",
    "    {\n",
    "        \"$lookup\": {\n",
    "            \"from\": \"users\",\n",
    "            \"localField\": \"user_id\",\n",
    "            \"foreignField\": \"user_id\",\n",
    "            \"as\": \"student_info\"\n",
    "        }\n",
    "    },\n",
    "    {\n",
    "        \"$unwind\": \"$student_info\"\n",
    "    },\n",
    "    {\n",
    "        \"$match\": {\"student_info.role\": \"student\"}\n",
    "    },\n",
    "    {\n",
    "        \"$project\": {\n",
    "            \"_id\": 0,\n",
    "            \"enrollment_id\": 1,\n",
    "            \"user_id\": 1,\n",
    "            \"course_id\": 1,\n",
    "            \"student_name\": {\n",
    "                \"$concat\": [\n",
    "                    \"$student_info.first_name\", \" \", \"$student_info.last_name\"\n",
    "                ]\n",
    "            },\n",
    "            \"email\": \"$student_info.email\",\n",
    "            \"enrolled_on\": 1\n",
    "        }\n",
    "    }\n",
    "]\n",
    "\n",
    "students = list(enrollments_col.aggregate(pipeline))\n",
    "\n",
    "if students:\n",
    "    print(\" Enrolled Students in Course C004:\")\n",
    "    for s in students:\n",
    "        pp.pprint(s)\n",
    "else:\n",
    "    print(\" No students enrolled in this course.\")"
   ]
  },
  {
   "cell_type": "markdown",
   "id": "800c338f",
   "metadata": {},
   "source": []
  },
  {
   "cell_type": "markdown",
   "id": "5b2ff4e0",
   "metadata": {},
   "source": [
    "*5: Search courses by title (case_insensitive, partial match)*"
   ]
  },
  {
   "cell_type": "code",
   "execution_count": 120,
   "metadata": {},
   "outputs": [
    {
     "name": "stdout",
     "output_type": "stream",
     "text": [
      " Courses matching 'AWS Cloud Fundamentals'\n"
     ]
    }
   ],
   "source": [
    "#match course by title \n",
    "\n",
    "\n",
    "search_term = \"AWS Cloud Fundamentals\" \n",
    "\n",
    "courses = courses_col.find({\n",
    "    \"title\": {\"$regex\": search_term, \"$options\": \"i\"}\n",
    "})\n",
    "\n",
    "print(f\" Courses matching '{search_term}'\")\n",
    "for course in courses:\n",
    "    print(f\"{course['course_id']} - {course['title']}\")"
   ]
  },
  {
   "cell_type": "code",
   "execution_count": null,
   "id": "c9ad0d2d",
   "metadata": {},
   "outputs": [],
   "source": []
  },
  {
   "cell_type": "markdown",
   "id": "88c5ac13",
   "metadata": {},
   "source": [
    "*TASK 3.3 : #UPDATE OPERATIONS*"
   ]
  },
  {
   "cell_type": "markdown",
   "id": "e52c9ee0",
   "metadata": {},
   "source": [
    "*1: Update a user's profile information*"
   ]
  },
  {
   "cell_type": "code",
   "execution_count": null,
   "id": "a07b5d15",
   "metadata": {},
   "outputs": [
    {
     "name": "stdout",
     "output_type": "stream",
     "text": [
      " Updated Profile:\n",
      "{'avatar': 'https://api.dicebear.com/6.x/thumbs/svg?seed=Nova',\n",
      " 'bio': 'Always learning. Always building.',\n",
      " 'skills': ['Python', 'MongoDB', 'APIs']}\n"
     ]
    }
   ],
   "source": [
    "#Update a user's profile information \n",
    "\n",
    "\n",
    "users_col.update_one(\n",
    "    {\"user_id\": \"U004\"},\n",
    "    {\n",
    "        \"$set\": {\n",
    "            \"profile.bio\": \"Always learning. Always building.\",\n",
    "            \"profile.avatar\": \"https://api.dicebear.com/6.x/thumbs/svg?seed=Nova\",\n",
    "            \"profile.skills\": [\"Python\", \"MongoDB\", \"APIs\"]\n",
    "        }\n",
    "    }\n",
    ")\n",
    "\n",
    "# Validate\n",
    "user = users_col.find_one({\"user_id\": \"U004\"})\n",
    "if user:\n",
    "    print(\" Updated Profile:\")\n",
    "    pp.pprint(user[\"profile\"])\n",
    "else:\n",
    "    print(\" User not found.\")"
   ]
  },
  {
   "cell_type": "markdown",
   "id": "e03c8ff5",
   "metadata": {},
   "source": []
  },
  {
   "cell_type": "markdown",
   "id": "7ecb5a02",
   "metadata": {},
   "source": [
    "*2: Mark a course as published*"
   ]
  },
  {
   "cell_type": "code",
   "execution_count": 54,
   "id": "a0c496e2",
   "metadata": {},
   "outputs": [
    {
     "name": "stdout",
     "output_type": "stream",
     "text": [
      " Course 'Data Engineering Essentials' is now published.\n"
     ]
    }
   ],
   "source": [
    "#Mark a course as published \n",
    "\n",
    "courses_col.update_one(\n",
    "    {\"course_id\": \"C004\"},\n",
    "    {\"$set\": {\"is_published\": True}}\n",
    ")\n",
    "\n",
    "# Validate\n",
    "course = courses_col.find_one({\"course_id\": \"C999\"})\n",
    "if course:\n",
    "    print(f\" Course '{course['title']}' is now published.\")\n",
    "else:\n",
    "    print(\" Course not found.\")"
   ]
  },
  {
   "cell_type": "markdown",
   "id": "db07db4b",
   "metadata": {},
   "source": []
  },
  {
   "cell_type": "markdown",
   "id": "297c7ac1",
   "metadata": {},
   "source": [
    "*3: Update assignment grades*"
   ]
  },
  {
   "cell_type": "code",
   "execution_count": null,
   "id": "8048e424",
   "metadata": {},
   "outputs": [
    {
     "name": "stdout",
     "output_type": "stream",
     "text": [
      " Grade updated: 85\n"
     ]
    }
   ],
   "source": [
    "#Update assignment grades\n",
    "\n",
    "\n",
    "submissions_col.update_one(\n",
    "    {\"submission_id\": \"S004\"},\n",
    "    {\"$set\": {\"grade\": 85}}\n",
    ")\n",
    "\n",
    "#Validate\n",
    "submission = submissions_col.find_one({\"submission_id\": \"S004\"})\n",
    "if submission:\n",
    "    print(f\" Grade updated: {submission['grade']}\")\n",
    "else:\n",
    "    print(\" Submission not found.\")"
   ]
  },
  {
   "cell_type": "markdown",
   "id": "22ad1547",
   "metadata": {},
   "source": []
  },
  {
   "cell_type": "markdown",
   "id": "9a9a3cba",
   "metadata": {},
   "source": [
    "*4: Add tags to an existing course*"
   ]
  },
  {
   "cell_type": "code",
   "execution_count": 57,
   "id": "016844be",
   "metadata": {},
   "outputs": [
    {
     "name": "stdout",
     "output_type": "stream",
     "text": [
      " Updated Tags for Data Visualization with Seaborn:\n",
      "['quiz-included', 'project-based', 'real-world', 'interview-prep', 'lifetime-access']\n"
     ]
    }
   ],
   "source": [
    "#Add tags to existing course \n",
    "\n",
    "courses_col.update_one(\n",
    "    {\"course_id\": \"C004\"},\n",
    "    {\"$addToSet\": {\n",
    "        \"tags\": {\n",
    "            \"$each\": [\"interview-prep\", \"lifetime-access\"]\n",
    "        }\n",
    "    }}\n",
    ")\n",
    "\n",
    "#  Validate\n",
    "course = courses_col.find_one({\"course_id\": \"C004\"})\n",
    "if course:\n",
    "    print(f\" Updated Tags for {course['title']}:\")\n",
    "    print(course[\"tags\"])\n",
    "else:\n",
    "    print(\"Course not found.\")"
   ]
  },
  {
   "cell_type": "markdown",
   "id": "448018e0",
   "metadata": {},
   "source": []
  },
  {
   "cell_type": "markdown",
   "id": "e59d7e7f",
   "metadata": {},
   "source": [
    "*TASK 3.4 : DELETE OPERATIONS*"
   ]
  },
  {
   "cell_type": "markdown",
   "id": "d61712ab",
   "metadata": {},
   "source": [
    "*1: Remove a user(soft deleting by setting isActive is false)*"
   ]
  },
  {
   "cell_type": "code",
   "execution_count": null,
   "metadata": {},
   "outputs": [
    {
     "name": "stdout",
     "output_type": "stream",
     "text": [
      " User U004 is now marked as: Inactive\n"
     ]
    }
   ],
   "source": [
    "#Remove a user (soft delete by setting is Active to false)\n",
    "\n",
    "\n",
    "users_col.update_one(\n",
    "    {\"user_id\": \"U004\"},\n",
    "    {\"$set\": {\"is_active\": False}}\n",
    ")\n",
    "\n",
    "# Validate\n",
    "user = users_col.find_one({\"user_id\": \"U004\"})\n",
    "if user:\n",
    "    status = \"Active\" if user[\"is_active\"] else \"Inactive\"\n",
    "    print(f\" User {user['user_id']} is now marked as: {status}\")\n",
    "else:\n",
    "    print(\" User not found.\")"
   ]
  },
  {
   "cell_type": "markdown",
   "id": "195356f3",
   "metadata": {},
   "source": []
  },
  {
   "cell_type": "markdown",
   "id": "fdf6f3e5",
   "metadata": {},
   "source": [
    "*2: Delete an enrollment*"
   ]
  },
  {
   "cell_type": "code",
   "execution_count": 60,
   "metadata": {},
   "outputs": [
    {
     "name": "stdout",
     "output_type": "stream",
     "text": [
      "Enrollment deleted successfully.\n"
     ]
    }
   ],
   "source": [
    "#Delete an enrollment \n",
    "\n",
    "\n",
    "enrollments_col.delete_one({\"enrollment_id\": \"E004\"})\n",
    "\n",
    "# Validate\n",
    "enrollment = enrollments_col.find_one({\"enrollment_id\": \"004\"})\n",
    "if not enrollment:\n",
    "    print(\"Enrollment deleted successfully.\")\n",
    "else:\n",
    "    print(\"Enrollment still exists.\")"
   ]
  },
  {
   "cell_type": "markdown",
   "id": "ced314ea",
   "metadata": {},
   "source": []
  },
  {
   "cell_type": "markdown",
   "id": "df3a3fca",
   "metadata": {},
   "source": [
    "*3: Remove a lesson from a course*"
   ]
  },
  {
   "cell_type": "code",
   "execution_count": 61,
   "id": "fde52d9a",
   "metadata": {},
   "outputs": [
    {
     "name": "stdout",
     "output_type": "stream",
     "text": [
      " Lesson deleted successfully.\n"
     ]
    }
   ],
   "source": [
    "#Remove a lesson from a course \n",
    "\n",
    "lessons_col.delete_one({\"lesson_id\": \"L004\"})\n",
    "\n",
    "\n",
    "lesson = lessons_col.find_one({\"lesson_id\": \"L004\"})\n",
    "\n",
    "if not lesson:\n",
    "    print(\" Lesson deleted successfully.\")\n",
    "else:\n",
    "    print(\" Lesson still exists.\")"
   ]
  },
  {
   "cell_type": "code",
   "execution_count": null,
   "id": "15f89005",
   "metadata": {},
   "outputs": [],
   "source": []
  },
  {
   "cell_type": "markdown",
   "id": "1770f896",
   "metadata": {},
   "source": [
    "*PART 4*\n",
    "*: ADVANCED QUERIES AND AGGREGATION*"
   ]
  },
  {
   "cell_type": "markdown",
   "id": "8a45a207",
   "metadata": {},
   "source": [
    "*TASK 4.1: COMPLEX QUERIES*"
   ]
  },
  {
   "cell_type": "markdown",
   "id": "290aa5d8",
   "metadata": {},
   "source": [
    "*1: Find courses with prices between 50 and 200*"
   ]
  },
  {
   "cell_type": "code",
   "execution_count": null,
   "metadata": {},
   "outputs": [
    {
     "name": "stdout",
     "output_type": "stream",
     "text": [
      " Courses priced between $50 and $200:\n",
      "C002 - Big Data Processing with Spark ($200)\n",
      "C003 - Data Visualization with Seaborn ($150)\n",
      "C004 - Data Visualization with Seaborn ($100)\n",
      "C007 - Deep Learning with TensorFlow ($200)\n",
      "C008 - Machine Learning with scikit-learn ($50)\n",
      "C999 - Data Engineering Essentials ($150)\n",
      "C999 - Data Engineering Essentials ($150)\n"
     ]
    }
   ],
   "source": [
    "#find courses within the price of 50 and 200\n",
    "\n",
    "\n",
    "courses = courses_col.find({\n",
    "    \"price\": {\"$gte\": 50, \"$lte\": 200}\n",
    "})\n",
    "\n",
    "print(\" Courses priced between $50 and $200:\")\n",
    "for course in courses:\n",
    "    print(f\"{course['course_id']} - {course['title']} (${course['price']})\")"
   ]
  },
  {
   "cell_type": "markdown",
   "id": "727f1f66",
   "metadata": {},
   "source": []
  },
  {
   "cell_type": "markdown",
   "id": "f053b8cf",
   "metadata": {},
   "source": [
    "*2: Get users who joined in the last 6 months*"
   ]
  },
  {
   "cell_type": "code",
   "execution_count": null,
   "metadata": {},
   "outputs": [
    {
     "name": "stdout",
     "output_type": "stream",
     "text": [
      "Users who joined in the last 6 months:\n",
      "U005 - Tina Key (Joined: 2025-02-05 21:49:29)\n",
      "U008 - Brandon Jones (Joined: 2025-05-04 07:41:30)\n",
      "U011 - Gabriel Roberts (Joined: 2024-12-31 16:06:18)\n",
      "U016 - David Sheppard (Joined: 2025-04-28 09:52:03)\n",
      "U018 - Christy Martinez (Joined: 2024-12-28 09:47:27)\n",
      "U019 - Jennifer White (Joined: 2025-04-15 02:18:27)\n",
      "U999 - Feyisayo Ajiboye (Joined: 2025-06-11 23:52:02.917000)\n",
      "U999 - Feyisayo Ajiboye (Joined: 2025-06-11 23:57:01.710000)\n",
      "U999 - Feyisayo Ajiboye (Joined: 2025-06-11 23:58:55.250000)\n",
      "U999 - Feyisayo Ajiboye (Joined: 2025-06-12 00:02:14.572000)\n"
     ]
    }
   ],
   "source": [
    "#Get users who joined in the last 6 months \n",
    "\n",
    "\n",
    "six_months_ago = datetime.now() - timedelta(days=180)\n",
    "\n",
    "recent_users = users_col.find({\n",
    "    \"date_joined\": {\"$gte\": six_months_ago}\n",
    "})\n",
    "\n",
    "print(\"Users who joined in the last 6 months:\")\n",
    "for user in recent_users:\n",
    "    print(f\"{user['user_id']} - {user['first_name']} {user['last_name']} (Joined: {user['date_joined']})\")"
   ]
  },
  {
   "cell_type": "markdown",
   "id": "4d3201d7",
   "metadata": {},
   "source": []
  },
  {
   "cell_type": "markdown",
   "id": "4ae303a4",
   "metadata": {},
   "source": [
    "*3: Find courses that have specific tags using $in operators*"
   ]
  },
  {
   "cell_type": "code",
   "execution_count": null,
   "id": "3b49c77f",
   "metadata": {},
   "outputs": [
    {
     "name": "stdout",
     "output_type": "stream",
     "text": [
      " Courses with selected tags:\n",
      "C007 - Deep Learning with TensorFlow | Tags: ['career-ready', 'project-based', 'real-world']\n",
      "C999 - Data Engineering Essentials | Tags: ['project-based', 'career-ready', 'interactive']\n",
      "C999 - Data Engineering Essentials | Tags: ['project-based', 'career-ready', 'interactive']\n"
     ]
    }
   ],
   "source": [
    "#find courses that have specific tags using $in operator \n",
    "\n",
    "\n",
    "\n",
    "target_tags = [\"career-ready\", \"assignment-driven\", \"interactive\"]\n",
    "\n",
    "courses = courses_col.find({\n",
    "    \"tags\": {\"$in\": target_tags}\n",
    "})\n",
    "\n",
    "print(\" Courses with selected tags:\")\n",
    "for course in courses:\n",
    "    print(f\"{course['course_id']} - {course['title']} | Tags: {course['tags']}\")"
   ]
  },
  {
   "cell_type": "code",
   "execution_count": null,
   "id": "919e02d9",
   "metadata": {},
   "outputs": [],
   "source": []
  },
  {
   "cell_type": "markdown",
   "id": "10e9ce2a",
   "metadata": {},
   "source": [
    "*4: Retrieve assignments with due dates in the next week*"
   ]
  },
  {
   "cell_type": "code",
   "execution_count": 65,
   "metadata": {},
   "outputs": [
    {
     "name": "stdout",
     "output_type": "stream",
     "text": [
      " Assignments due in the next 7 days:\n",
      "A001 - Assignment 1: Building REST APIs with FastAPI | Due: 2025-06-17 23:44:06.664000\n",
      "A002 - Assignment 2: Computer Vision with OpenCV | Due: 2025-06-18 23:44:06.664000\n",
      "A003 - Assignment 3: Data Engineering with Python | Due: 2025-06-18 23:44:06.665000\n",
      "A005 - Assignment 5: Deploying Applications with Docker | Due: 2025-06-18 23:44:06.665000\n",
      "A007 - Assignment 7: Clean Code and Refactoring | Due: 2025-06-18 23:44:06.665000\n",
      "A008 - Assignment 8: Kubernetes for Developers | Due: 2025-06-14 23:44:06.665000\n",
      "A009 - Assignment 9: Git & GitHub for Collaboration | Due: 2025-06-14 23:44:06.665000\n"
     ]
    }
   ],
   "source": [
    "#Retrieve assignments with due dates in the next week \n",
    "\n",
    "today = datetime.now()\n",
    "next_week = today + timedelta(days=7)\n",
    "\n",
    "upcoming_assignments = assignments_col.find({\n",
    "    \"due_date\": {\n",
    "        \"$gte\": today,\n",
    "        \"$lte\": next_week\n",
    "    }\n",
    "})\n",
    "\n",
    "print(\" Assignments due in the next 7 days:\")\n",
    "for assignment in upcoming_assignments:\n",
    "    print(f\"{assignment['assignment_id']} - {assignment['title']} | Due: {assignment['due_date']}\")"
   ]
  },
  {
   "cell_type": "code",
   "execution_count": null,
   "id": "3d2f6ef9",
   "metadata": {},
   "outputs": [],
   "source": []
  },
  {
   "cell_type": "markdown",
   "id": "a121a016",
   "metadata": {},
   "source": [
    "*TASK 4.2 : AGGREGATION PIPELINE*"
   ]
  },
  {
   "cell_type": "markdown",
   "id": "963f35b7",
   "metadata": {},
   "source": [
    "*COURSE ENROLLMENT STATISTIC*"
   ]
  },
  {
   "cell_type": "markdown",
   "id": "4187618d",
   "metadata": {},
   "source": [
    "*1 : Count total enrollment per course*"
   ]
  },
  {
   "cell_type": "code",
   "execution_count": 121,
   "id": "c5cfeaa3",
   "metadata": {},
   "outputs": [
    {
     "name": "stdout",
     "output_type": "stream",
     "text": [
      " Total enrollments per course:\n",
      "Course: C001 | Enrollments: 4\n",
      "Course: C004 | Enrollments: 3\n",
      "Course: C006 | Enrollments: 2\n",
      "Course: C002 | Enrollments: 2\n",
      "Course: C003 | Enrollments: 1\n",
      "Course: C999 | Enrollments: 1\n",
      "Course: C005 | Enrollments: 1\n",
      "Course: C008 | Enrollments: 1\n"
     ]
    }
   ],
   "source": [
    "#Count total enrollment per course\n",
    "\n",
    "\n",
    "\n",
    "pipeline = [\n",
    "    {\n",
    "        \"$group\": {\n",
    "            \"_id\": \"$course_id\",\n",
    "            \"total_enrollments\": {\"$sum\": 1}\n",
    "        }\n",
    "    },\n",
    "    {\n",
    "        \"$sort\": {\"total_enrollments\": -1}\n",
    "    }\n",
    "]\n",
    "\n",
    "results = list(enrollments_col.aggregate(pipeline))\n",
    "\n",
    "print(\" Total enrollments per course:\")\n",
    "for item in results:\n",
    "    print(f\"Course: {item['_id']} | Enrollments: {item['total_enrollments']}\")"
   ]
  },
  {
   "cell_type": "code",
   "execution_count": null,
   "id": "0cfc9dbd",
   "metadata": {},
   "outputs": [],
   "source": []
  },
  {
   "cell_type": "markdown",
   "id": "f9b1d6d1",
   "metadata": {},
   "source": [
    "*2: Calculate average course rating*"
   ]
  },
  {
   "cell_type": "code",
   "execution_count": 73,
   "id": "72343ff0",
   "metadata": {},
   "outputs": [
    {
     "name": "stdout",
     "output_type": "stream",
     "text": [
      "C001 - MongoDB for Developers | Avg Rating: Not Available\n",
      "C002 - Big Data Processing with Spark | Avg Rating: Not Available\n",
      "C003 - Data Visualization with Seaborn | Avg Rating: Not Available\n",
      "C004 - Data Visualization with Seaborn | Avg Rating: Not Available\n",
      "C005 - Computer Vision with OpenCV | Avg Rating: Not Available\n",
      "C006 - Big Data Processing with Spark | Avg Rating: Not Available\n",
      "C007 - Deep Learning with TensorFlow | Avg Rating: Not Available\n",
      "C008 - Machine Learning with scikit-learn | Avg Rating: Not Available\n",
      "C999 - Data Engineering Essentials | Avg Rating: Not Available\n",
      "C999 - Data Engineering Essentials | Avg Rating: Not Available\n"
     ]
    }
   ],
   "source": [
    "#average course rating \n",
    "\n",
    "\n",
    "pipeline = [\n",
    "    {\n",
    "        \"$project\": {\n",
    "            \"course_id\": 1,\n",
    "            \"title\": 1,\n",
    "            \"average_rating\": {\"$avg\": \"$ratings\"}\n",
    "        }\n",
    "    },\n",
    "    {\n",
    "        \"$sort\": {\"average_rating\": -1}\n",
    "    }\n",
    "]\n",
    "\n",
    "results = list(courses_col.aggregate(pipeline))\n",
    "\n",
    "for course in results:\n",
    "    avg = course.get('average_rating')\n",
    "    if avg is not None:\n",
    "        print(f\"{course['course_id']} - {course['title']} | Avg Rating: {round(avg, 2)}\")\n",
    "    else:\n",
    "        print(f\"{course['course_id']} - {course['title']} | Avg Rating: Not Available\")"
   ]
  },
  {
   "cell_type": "code",
   "execution_count": null,
   "id": "688a066e",
   "metadata": {},
   "outputs": [],
   "source": []
  },
  {
   "cell_type": "markdown",
   "id": "c0d4056a",
   "metadata": {},
   "source": [
    "*3: Group by course category*"
   ]
  },
  {
   "cell_type": "code",
   "execution_count": 74,
   "id": "972314e5",
   "metadata": {},
   "outputs": [
    {
     "name": "stdout",
     "output_type": "stream",
     "text": [
      " Total courses per category:\n",
      "Data Engineering → 6 courses\n",
      "DevOps → 2 courses\n",
      "Web Development → 1 courses\n",
      "Cloud Computing → 1 courses\n"
     ]
    }
   ],
   "source": [
    "#Group by course category\n",
    "\n",
    "\n",
    "pipeline = [\n",
    "    {\n",
    "        \"$group\": {\n",
    "            \"_id\": \"$category\",\n",
    "            \"total_courses\": {\"$sum\": 1}\n",
    "        }\n",
    "    },\n",
    "    {\n",
    "        \"$sort\": {\"total_courses\": -1}\n",
    "    }\n",
    "]\n",
    "\n",
    "results = list(courses_col.aggregate(pipeline))\n",
    "\n",
    "print(\" Total courses per category:\")\n",
    "for item in results:\n",
    "    print(f\"{item['_id']} → {item['total_courses']} courses\")"
   ]
  },
  {
   "cell_type": "code",
   "execution_count": null,
   "metadata": {},
   "outputs": [],
   "source": []
  },
  {
   "cell_type": "markdown",
   "id": "f336cce7",
   "metadata": {},
   "source": [
    "*STUDENT PERFORMANCE ANALYSIS*"
   ]
  },
  {
   "cell_type": "markdown",
   "id": "de8c452e",
   "metadata": {},
   "source": [
    "*1: Average grade per student*"
   ]
  },
  {
   "cell_type": "code",
   "execution_count": null,
   "id": "3a01d6e7",
   "metadata": {},
   "outputs": [
    {
     "name": "stdout",
     "output_type": "stream",
     "text": [
      " Average grade per student:\n",
      "Student: U004 → Avg Grade: 85.0\n",
      "Student: U015 → Avg Grade: Not Available\n",
      "Student: U006 → Avg Grade: Not Available\n",
      "Student: U001 → Avg Grade: Not Available\n",
      "Student: U018 → Avg Grade: Not Available\n",
      "Student: U011 → Avg Grade: Not Available\n"
     ]
    }
   ],
   "source": [
    "\n",
    "#average grade per student \n",
    "\n",
    "pipeline = [\n",
    "    {\n",
    "        \"$group\": {\n",
    "            \"_id\": \"$user_id\",\n",
    "            \"average_grade\": {\"$avg\": \"$grade\"}\n",
    "        }\n",
    "    },\n",
    "    {\n",
    "        \"$sort\": {\"average_grade\": -1}\n",
    "    }\n",
    "]\n",
    "\n",
    "results = list(submissions_col.aggregate(pipeline))\n",
    "\n",
    "print(\" Average grade per student:\")\n",
    "for student in results:\n",
    "    avg = student.get('average_grade')\n",
    "    if avg is not None:\n",
    "        print(f\"Student: {student['_id']} → Avg Grade: {round(avg, 2)}\")\n",
    "    else:\n",
    "        print(f\"Student: {student['_id']} → Avg Grade: Not Available\")"
   ]
  },
  {
   "cell_type": "markdown",
   "id": "225ddf4d",
   "metadata": {},
   "source": []
  },
  {
   "cell_type": "markdown",
   "id": "261798c0",
   "metadata": {},
   "source": [
    "*2: Completion rate by courses*"
   ]
  },
  {
   "cell_type": "code",
   "execution_count": 122,
   "id": "d813d421",
   "metadata": {},
   "outputs": [
    {
     "name": "stdout",
     "output_type": "stream",
     "text": [
      " Completion rate by course\n"
     ]
    }
   ],
   "source": [
    "#Calculate completion rate by course \n",
    "\n",
    "\n",
    "\n",
    "pipeline = [\n",
    "    {\n",
    "        \"$match\": {\"status\": \"completed\"}\n",
    "    },\n",
    "    {\n",
    "        \"$group\": {\n",
    "            \"_id\": \"$course_id\",\n",
    "            \"completed_count\": {\"$sum\": 1}\n",
    "        }\n",
    "    },\n",
    "    {\n",
    "        \"$lookup\": {\n",
    "            \"from\": \"enrollments\",\n",
    "            \"localField\": \"_id\",\n",
    "            \"foreignField\": \"course_id\",\n",
    "            \"as\": \"enrollments\"\n",
    "        }\n",
    "    },\n",
    "    {\n",
    "        \"$project\": {\n",
    "            \"course_id\": \"$_id\",\n",
    "            \"completed_count\": 1,\n",
    "            \"total_enrolled\": {\"$size\": \"$enrollments\"},\n",
    "            \"completion_rate\": {\n",
    "                \"$cond\": [\n",
    "                    {\"$eq\": [{\"$size\": \"$enrollments\"}, 0]},\n",
    "                    0,\n",
    "                    {\n",
    "                        \"$multiply\": [\n",
    "                            {\"$divide\": [\"$completed_count\", {\"$size\": \"$enrollments\"}]},\n",
    "                            100\n",
    "                        ]\n",
    "                    }\n",
    "                ]\n",
    "            }\n",
    "        }\n",
    "    },\n",
    "    {\n",
    "        \"$sort\": {\"completion_rate\": -1}\n",
    "    }\n",
    "]\n",
    "\n",
    "results = list(submissions_col.aggregate(pipeline))\n",
    "\n",
    "print(\" Completion rate by course\")\n",
    "for item in results:\n",
    "    print(f\"{item['course_id']} → {round(item['completion_rate'], 2)}%\")"
   ]
  },
  {
   "cell_type": "code",
   "execution_count": null,
   "id": "ec030564",
   "metadata": {},
   "outputs": [],
   "source": []
  },
  {
   "cell_type": "markdown",
   "id": "f68a3d52",
   "metadata": {},
   "source": [
    "*3: Top performing student*"
   ]
  },
  {
   "cell_type": "code",
   "execution_count": 80,
   "id": "5aed6e52",
   "metadata": {},
   "outputs": [
    {
     "name": "stdout",
     "output_type": "stream",
     "text": [
      " Top Performing Students:\n",
      "Student: U004 → Avg Grade: 85.0 | Submissions: 5\n",
      "Student: U006 → Avg Grade: Not Available | Submissions: 1\n",
      "Student: U015 → Avg Grade: Not Available | Submissions: 2\n",
      "Student: U001 → Avg Grade: Not Available | Submissions: 2\n",
      "Student: U018 → Avg Grade: Not Available | Submissions: 1\n"
     ]
    }
   ],
   "source": [
    "#Top performing student \n",
    "\n",
    "pipeline = [\n",
    "    {\n",
    "        \"$group\": {\n",
    "            \"_id\": \"$user_id\",\n",
    "            \"average_grade\": {\"$avg\": \"$grade\"},\n",
    "            \"total_submissions\": {\"$sum\": 1}\n",
    "        }\n",
    "    },\n",
    "    {\n",
    "        \"$sort\": {\"average_grade\": -1}\n",
    "    },\n",
    "    {\n",
    "        \"$limit\": 5  # top 5 students\n",
    "    }\n",
    "]\n",
    "\n",
    "results = list(submissions_col.aggregate(pipeline))\n",
    "\n",
    "print(\" Top Performing Students:\")\n",
    "for student in results:\n",
    "    avg = student.get('average_grade')\n",
    "    if avg is not None:\n",
    "        print(f\"Student: {student['_id']} → Avg Grade: {round(avg, 2)} | Submissions: {student['total_submissions']}\")\n",
    "    else:\n",
    "        print(f\"Student: {student['_id']} → Avg Grade: Not Available | Submissions: {student['total_submissions']}\")"
   ]
  },
  {
   "cell_type": "code",
   "execution_count": null,
   "id": "803915fc",
   "metadata": {},
   "outputs": [],
   "source": []
  },
  {
   "cell_type": "markdown",
   "id": "b7b2f542",
   "metadata": {},
   "source": [
    "*INSTRUCTOR ANALYSIS*"
   ]
  },
  {
   "cell_type": "markdown",
   "id": "260e9f6a",
   "metadata": {},
   "source": [
    "*1: Total student taught by each instructor*"
   ]
  },
  {
   "cell_type": "code",
   "execution_count": null,
   "id": "4f495488",
   "metadata": {},
   "outputs": [
    {
     "name": "stdout",
     "output_type": "stream",
     "text": [
      "Instructor: U013 → Students Taught: 7\n",
      "Instructor: U003 → Students Taught: 2\n",
      "Instructor: U005 → Students Taught: 1\n",
      "Instructor: U014 → Students Taught: 2\n",
      "Instructor: U019 → Students Taught: 2\n",
      "Instructor: U012 → Students Taught: 1\n"
     ]
    }
   ],
   "source": [
    "#Instructor analysis\n",
    "\n",
    "\n",
    "pipeline = [\n",
    "    {\n",
    "        \"$lookup\": {\n",
    "            \"from\": \"courses\",\n",
    "            \"localField\": \"course_id\",\n",
    "            \"foreignField\": \"course_id\",\n",
    "            \"as\": \"course_info\"\n",
    "        }\n",
    "    },\n",
    "    { \"$unwind\": \"$course_info\" },\n",
    "    {\n",
    "        \"$group\": {\n",
    "            \"_id\": \"$course_info.instructor_id\",\n",
    "            \"total_students\": { \"$addToSet\": \"$user_id\" }\n",
    "        }\n",
    "    },\n",
    "    {\n",
    "        \"$project\": {\n",
    "            \"instructor_id\": \"$_id\",\n",
    "            \"total_students\": { \"$size\": \"$total_students\" },\n",
    "            \"_id\": 0\n",
    "        }\n",
    "    }\n",
    "]\n",
    "\n",
    "results = list(enrollments_col.aggregate(pipeline))\n",
    "\n",
    "\n",
    "for item in results:\n",
    "    print(f\"Instructor: {item['instructor_id']} → Students Taught: {item['total_students']}\")"
   ]
  },
  {
   "cell_type": "code",
   "execution_count": null,
   "id": "15958059",
   "metadata": {},
   "outputs": [],
   "source": []
  },
  {
   "cell_type": "markdown",
   "id": "dccccf9f",
   "metadata": {},
   "source": [
    "*2: Average course rating per instructor*"
   ]
  },
  {
   "cell_type": "code",
   "execution_count": 83,
   "id": "5054a073",
   "metadata": {},
   "outputs": [
    {
     "name": "stdout",
     "output_type": "stream",
     "text": [
      "U012 → Not Available\n",
      "U020 → Not Available\n",
      "U014 → Not Available\n",
      "U005 → Not Available\n",
      "U013 → Not Available\n",
      "U003 → Not Available\n",
      "U019 → Not Available\n"
     ]
    }
   ],
   "source": [
    "#average course rating per instructor \n",
    "\n",
    "pipeline = [\n",
    "    {\n",
    "        \"$group\": {\n",
    "            \"_id\": \"$instructor_id\",\n",
    "            \"average_rating\": { \"$avg\": \"$rating\" }\n",
    "        }\n",
    "    },\n",
    "    {\n",
    "        \"$project\": {\n",
    "            \"instructor_id\": \"$_id\",\n",
    "            \"average_rating\": 1,\n",
    "            \"_id\": 0\n",
    "        }\n",
    "    }\n",
    "]\n",
    "\n",
    "results = list(courses_col.aggregate(pipeline))\n",
    "\n",
    "\n",
    "def safe_print(label, value, suffix=\"\"):\n",
    "    if value is not None:\n",
    "        print(f\"{label} → {round(value, 2)}{suffix}\")\n",
    "    else:\n",
    "        print(f\"{label} → Not Available\")\n",
    "\n",
    "for item in results:\n",
    "    safe_print(item['instructor_id'], item.get('average_rating'))"
   ]
  },
  {
   "cell_type": "code",
   "execution_count": null,
   "metadata": {},
   "outputs": [],
   "source": []
  },
  {
   "cell_type": "markdown",
   "id": "dcc83e7f",
   "metadata": {},
   "source": [
    "*3: Revenue generated per instructor*"
   ]
  },
  {
   "cell_type": "code",
   "execution_count": 85,
   "metadata": {},
   "outputs": [
    {
     "name": "stdout",
     "output_type": "stream",
     "text": [
      "U012 → 150 USD\n",
      "U003 → 300 USD\n",
      "U005 → 300 USD\n",
      "U019 → 500 USD\n",
      "U013 → 300 USD\n",
      "U014 → 400 USD\n"
     ]
    }
   ],
   "source": [
    "\n",
    "#Revenue generated per instructor \n",
    "\n",
    "pipeline = [\n",
    "    {\n",
    "        \"$lookup\": {\n",
    "            \"from\": \"courses\",\n",
    "            \"localField\": \"course_id\",\n",
    "            \"foreignField\": \"course_id\",\n",
    "            \"as\": \"course_info\"\n",
    "        }\n",
    "    },\n",
    "    { \"$unwind\": \"$course_info\" },\n",
    "    {\n",
    "        \"$group\": {\n",
    "            \"_id\": \"$course_info.instructor_id\",\n",
    "            \"total_revenue\": { \"$sum\": \"$course_info.price\" }\n",
    "        }\n",
    "    },\n",
    "    {\n",
    "        \"$project\": {\n",
    "            \"instructor_id\": \"$_id\",\n",
    "            \"total_revenue\": 1,\n",
    "            \"_id\": 0\n",
    "        }\n",
    "    }\n",
    "]\n",
    "\n",
    "results = list(enrollments_col.aggregate(pipeline))\n",
    "\n",
    "\n",
    "for item in results:\n",
    "    safe_print(item['instructor_id'], item['total_revenue'], suffix=\" USD\")"
   ]
  },
  {
   "cell_type": "code",
   "execution_count": null,
   "id": "9405d6f9",
   "metadata": {},
   "outputs": [],
   "source": []
  },
  {
   "cell_type": "markdown",
   "id": "2f512c8c",
   "metadata": {},
   "source": [
    "*ADVANCED ANALYTICS*"
   ]
  },
  {
   "cell_type": "markdown",
   "id": "b076ee4f",
   "metadata": {},
   "source": [
    "*1: Monthly enrollment trends*"
   ]
  },
  {
   "cell_type": "code",
   "execution_count": 86,
   "id": "994ef444",
   "metadata": {},
   "outputs": [
    {
     "name": "stdout",
     "output_type": "stream",
     "text": [
      "None-None → 15 enrollments\n"
     ]
    }
   ],
   "source": [
    "#monthly enrolment trends\n",
    "\n",
    "pipeline = [\n",
    "    {\n",
    "        \"$group\": {\n",
    "            \"_id\": {\n",
    "                \"year\": { \"$year\": \"$enrolled_at\" },\n",
    "                \"month\": { \"$month\": \"$enrolled_at\" }\n",
    "            },\n",
    "            \"total_enrollments\": { \"$sum\": 1 }\n",
    "        }\n",
    "    },\n",
    "    {\n",
    "        \"$sort\": {\n",
    "            \"_id.year\": 1,\n",
    "            \"_id.month\": 1\n",
    "        }\n",
    "    }\n",
    "]\n",
    "\n",
    "results = list(enrollments_col.aggregate(pipeline))\n",
    "\n",
    "\n",
    "for item in results:\n",
    "    year = item[\"_id\"][\"year\"]\n",
    "    month = item[\"_id\"][\"month\"]\n",
    "    total = item[\"total_enrollments\"]\n",
    "    print(f\"{year}-{str(month).zfill(2)} → {total} enrollments\")"
   ]
  },
  {
   "cell_type": "markdown",
   "id": "580797b8",
   "metadata": {},
   "source": []
  },
  {
   "cell_type": "markdown",
   "id": "3322d94b",
   "metadata": {},
   "source": [
    "*2: Most popular course categories*"
   ]
  },
  {
   "cell_type": "code",
   "execution_count": 87,
   "id": "cc26aa1c",
   "metadata": {},
   "outputs": [
    {
     "name": "stdout",
     "output_type": "stream",
     "text": [
      "Category: Data Engineering → Enrollments: 9\n",
      "Category: Web Development → Enrollments: 4\n",
      "Category: DevOps → Enrollments: 2\n",
      "Category: Cloud Computing → Enrollments: 1\n"
     ]
    }
   ],
   "source": [
    "\n",
    "#most popular course categories\n",
    "\n",
    "\n",
    "pipeline = [\n",
    "    {\n",
    "        \"$lookup\": {\n",
    "            \"from\": \"courses\",\n",
    "            \"localField\": \"course_id\",\n",
    "            \"foreignField\": \"course_id\",\n",
    "            \"as\": \"course_info\"\n",
    "        }\n",
    "    },\n",
    "    { \"$unwind\": \"$course_info\" },\n",
    "    {\n",
    "        \"$group\": {\n",
    "            \"_id\": \"$course_info.category\",\n",
    "            \"total_enrollments\": { \"$sum\": 1 }\n",
    "        }\n",
    "    },\n",
    "    {\n",
    "        \"$sort\": { \"total_enrollments\": -1 }\n",
    "    }\n",
    "]\n",
    "\n",
    "results = list(enrollments_col.aggregate(pipeline))\n",
    "\n",
    "\n",
    "for item in results:\n",
    "    print(f\"Category: {item['_id']} → Enrollments: {item['total_enrollments']}\")"
   ]
  },
  {
   "cell_type": "code",
   "execution_count": null,
   "id": "d44dcbd5",
   "metadata": {},
   "outputs": [],
   "source": []
  },
  {
   "cell_type": "markdown",
   "id": "6d14e92f",
   "metadata": {},
   "source": [
    "*3: Student engagement metrics*"
   ]
  },
  {
   "cell_type": "code",
   "execution_count": null,
   "id": "0a69116d",
   "metadata": {},
   "outputs": [
    {
     "name": "stdout",
     "output_type": "stream",
     "text": [
      "User: U018 → Courses: 3 | Submissions: 1\n",
      "User: U017 → Courses: 1 | Submissions: 0\n",
      "User: U999 → Courses: 1 | Submissions: 0\n",
      "User: U006 → Courses: 1 | Submissions: 1\n",
      "User: U010 → Courses: 1 | Submissions: 0\n",
      "User: U001 → Courses: 2 | Submissions: 2\n",
      "User: U011 → Courses: 3 | Submissions: 1\n",
      "User: U005 → Courses: 1 | Submissions: 0\n",
      "User: U004 → Courses: 1 | Submissions: 5\n",
      "User: U015 → Courses: 1 | Submissions: 2\n"
     ]
    }
   ],
   "source": [
    "#Student metrics engagement \n",
    "\n",
    "\n",
    "#1 Number of Courses Enrolled per Student\n",
    "\n",
    "pipeline = [\n",
    "    {\n",
    "        \"$group\": {\n",
    "            \"_id\": \"$user_id\",\n",
    "            \"courses_enrolled\": { \"$sum\": 1 }\n",
    "        }\n",
    "    },\n",
    "    {\n",
    "        \"$project\": {\n",
    "            \"user_id\": \"$_id\",\n",
    "            \"courses_enrolled\": 1,\n",
    "            \"_id\": 0\n",
    "        }\n",
    "    }\n",
    "]\n",
    "\n",
    "courses_enrolled = list(enrollments_col.aggregate(pipeline))\n",
    "\n",
    "\n",
    "#2 Number of Assignments Submitted per Student\n",
    "pipeline = [\n",
    "    {\n",
    "        \"$group\": {\n",
    "            \"_id\": \"$user_id\",\n",
    "            \"assignments_submitted\": { \"$sum\": 1 }\n",
    "        }\n",
    "    },\n",
    "    {\n",
    "        \"$project\": {\n",
    "            \"user_id\": \"$_id\",\n",
    "            \"assignments_submitted\": 1,\n",
    "            \"_id\": 0\n",
    "        }\n",
    "    }\n",
    "]\n",
    "\n",
    "assignments_done = list(submissions_col.aggregate(pipeline))\n",
    "\n",
    "\n",
    "\n",
    "#3 Lessons Completed\n",
    "\n",
    "\n",
    "\n",
    "from collections import defaultdict\n",
    "\n",
    "engagement = defaultdict(lambda: {\"courses_enrolled\": 0, \"assignments_submitted\": 0})\n",
    "\n",
    "# Update course enrollments\n",
    "for item in courses_enrolled:\n",
    "    uid = item[\"user_id\"]\n",
    "    engagement[uid][\"courses_enrolled\"] = item[\"courses_enrolled\"]\n",
    "\n",
    "# Update assignment submissions\n",
    "for item in assignments_done:\n",
    "    uid = item[\"user_id\"]\n",
    "    engagement[uid][\"assignments_submitted\"] = item[\"assignments_submitted\"]\n",
    "\n",
    "# Print engagement per student\n",
    "for user_id, metrics in engagement.items():\n",
    "    print(f\"User: {user_id} → Courses: {metrics['courses_enrolled']} | Submissions: {metrics['assignments_submitted']}\")"
   ]
  },
  {
   "cell_type": "code",
   "execution_count": null,
   "id": "9be5bb95",
   "metadata": {},
   "outputs": [],
   "source": []
  },
  {
   "cell_type": "markdown",
   "id": "bfe97f9a",
   "metadata": {},
   "source": [
    "*PART 5: INDEXING AND PERFORMANCE*"
   ]
  },
  {
   "cell_type": "markdown",
   "id": "6ce9da5d",
   "metadata": {},
   "source": [
    "TASK 5.1: INDEX CALCULATION"
   ]
  },
  {
   "cell_type": "markdown",
   "id": "cae88c1b",
   "metadata": {},
   "source": [
    "*1: User email lookup*"
   ]
  },
  {
   "cell_type": "code",
   "execution_count": null,
   "metadata": {},
   "outputs": [
    {
     "name": "stdout",
     "output_type": "stream",
     "text": [
      " User found: Amanda Knapp\n"
     ]
    }
   ],
   "source": [
    "#User email lookup\n",
    "\n",
    "\n",
    "# Create an index on email field to speed up lookups\n",
    "users_col.create_index(\"email\")\n",
    "\n",
    "# Test the index with a lookup\n",
    "email_to_find = \"destinysalazar@example.com\"\n",
    "user = users_col.find_one({\"email\": email_to_find})\n",
    "\n",
    "if user:\n",
    "    print(f\" User found: {user['first_name']} {user['last_name']}\")\n",
    "else:\n",
    "    print(\" User not found.\")"
   ]
  },
  {
   "cell_type": "code",
   "execution_count": null,
   "id": "81463f99",
   "metadata": {},
   "outputs": [],
   "source": []
  },
  {
   "cell_type": "markdown",
   "id": "ea7dc157",
   "metadata": {},
   "source": [
    "*2: Courses search by title and category*"
   ]
  },
  {
   "cell_type": "code",
   "execution_count": null,
   "id": "59834ba6",
   "metadata": {},
   "outputs": [
    {
     "name": "stdout",
     "output_type": "stream",
     "text": [
      "MongoDB for Developers → Web Development\n"
     ]
    }
   ],
   "source": [
    "#Course search by title and category \n",
    "\n",
    "\n",
    "# Create compound index on title and category fields\n",
    "courses_col.create_index([(\"title\", 1), (\"category\", 1)])\n",
    "\n",
    "# Example search: partial title match (case-insensitive) and exact category\n",
    "title_keyword = \"MongoDB for Developers\"\n",
    "category_filter = \"Web Development\"\n",
    "\n",
    "courses = courses_col.find({\n",
    "    \"title\": { \"$regex\": title_keyword, \"$options\": \"i\" },\n",
    "    \"category\": category_filter\n",
    "})\n",
    "\n",
    "# Display results\n",
    "for course in courses:\n",
    "    print(f\"{course['title']} → {course['category']}\")"
   ]
  },
  {
   "cell_type": "markdown",
   "id": "f62103ec",
   "metadata": {},
   "source": []
  },
  {
   "cell_type": "markdown",
   "id": "c03c57b7",
   "metadata": {},
   "source": [
    "*3: Assignment queries by due date*"
   ]
  },
  {
   "cell_type": "code",
   "execution_count": 99,
   "id": "73a67f1c",
   "metadata": {},
   "outputs": [
    {
     "name": "stdout",
     "output_type": "stream",
     "text": [
      "Assignment 8: Kubernetes for Developers → Due: 2025-06-14\n",
      "Assignment 9: Git & GitHub for Collaboration → Due: 2025-06-14\n",
      "Assignment 1: Building REST APIs with FastAPI → Due: 2025-06-17\n",
      "Assignment 2: Computer Vision with OpenCV → Due: 2025-06-18\n",
      "Assignment 3: Data Engineering with Python → Due: 2025-06-18\n",
      "Assignment 5: Deploying Applications with Docker → Due: 2025-06-18\n",
      "Assignment 7: Clean Code and Refactoring → Due: 2025-06-18\n"
     ]
    }
   ],
   "source": [
    "#Assignment queries by due date\n",
    "\n",
    "\n",
    "\n",
    "# Create index on due_date for fast date-based queries\n",
    "assignments_col.create_index(\"due_date\")\n",
    "\n",
    "# Example: Find assignments due within the next 7 days\n",
    "from datetime import datetime, timedelta\n",
    "\n",
    "today = datetime.now()\n",
    "next_week = today + timedelta(days=7)\n",
    "\n",
    "upcoming_assignments = assignments_col.find({\n",
    "    \"due_date\": { \"$gte\": today, \"$lte\": next_week }\n",
    "})\n",
    "\n",
    "# Display results\n",
    "for a in upcoming_assignments:\n",
    "    print(f\"{a['title']} → Due: {a['due_date'].strftime('%Y-%m-%d')}\")"
   ]
  },
  {
   "cell_type": "markdown",
   "id": "06d532d1",
   "metadata": {},
   "source": []
  },
  {
   "cell_type": "markdown",
   "id": "eb00d292",
   "metadata": {},
   "source": [
    "*4: Enrollemt queries by student and courses*"
   ]
  },
  {
   "cell_type": "code",
   "execution_count": 102,
   "metadata": {},
   "outputs": [
    {
     "name": "stdout",
     "output_type": "stream",
     "text": [
      "Student U001 is enrolled in Course C006\n"
     ]
    }
   ],
   "source": [
    "#Enrollment queries by student and courses \n",
    "\n",
    "\n",
    "# Create indexes on student_id and course_id\n",
    "enrollments_col.create_index(\"user_id\")\n",
    "enrollments_col.create_index(\"course_id\")\n",
    "\n",
    "# Example: Find all enrollments of a specific student in a specific course\n",
    "user_id = \"U001\"\n",
    "course_id = \"C006\"\n",
    "\n",
    "enrollments = enrollments_col.find({\n",
    "    \"user_id\": user_id,\n",
    "    \"course_id\": course_id\n",
    "})\n",
    "\n",
    "# Display results\n",
    "for e in enrollments:\n",
    "    print(f\"Student {e['user_id']} is enrolled in Course {e['course_id']}\")"
   ]
  },
  {
   "cell_type": "markdown",
   "id": "7684bd2e",
   "metadata": {},
   "source": []
  },
  {
   "cell_type": "markdown",
   "id": "118398e8",
   "metadata": {},
   "source": [
    "*TASK 5.2 : QUERY OPTIMIZATION*"
   ]
  },
  {
   "cell_type": "markdown",
   "id": "68df3273",
   "metadata": {},
   "source": [
    "*1: Analyze query performance using explain() method in PyMongo*"
   ]
  },
  {
   "cell_type": "code",
   "execution_count": null,
   "metadata": {},
   "outputs": [
    {
     "name": "stdout",
     "output_type": "stream",
     "text": [
      "Query Execution Stats:\n",
      "Execution Time (ms): 0\n",
      "Total Documents Examined: 0\n",
      "Index Used: title_1_category_1\n"
     ]
    }
   ],
   "source": [
    "\n",
    "#Analyze query performance using explain() method in pymongo \n",
    "\n",
    "\n",
    "\n",
    "# Example query (search course by title, case-insensitive)\n",
    "query = {\n",
    "    \"title\": { \"$regex\": \"python\", \"$options\": \"i\" }\n",
    "}\n",
    "\n",
    "# Using xplain to analyze query performance\n",
    "explain_result = courses_col.find(query).explain()\n",
    "\n",
    "# Print key insights\n",
    "print(\"Query Execution Stats:\")\n",
    "print(\"Execution Time (ms):\", explain_result[\"executionStats\"][\"executionTimeMillis\"])\n",
    "print(\"Total Documents Examined:\", explain_result[\"executionStats\"][\"totalDocsExamined\"])\n",
    "print(\"Index Used:\", explain_result[\"queryPlanner\"][\"winningPlan\"][\"inputStage\"].get(\"indexName\", \"None\"))"
   ]
  },
  {
   "cell_type": "code",
   "execution_count": null,
   "id": "1578d05e",
   "metadata": {},
   "outputs": [],
   "source": []
  },
  {
   "cell_type": "markdown",
   "id": "e145b2e9",
   "metadata": {},
   "source": [
    "*2 : Optimize at least 3 slow queries*"
   ]
  },
  {
   "cell_type": "markdown",
   "id": "1843e0ec",
   "metadata": {},
   "source": [
    "*1 Find Courses by Title and Category*"
   ]
  },
  {
   "cell_type": "code",
   "execution_count": null,
   "id": "29919e17",
   "metadata": {},
   "outputs": [
    {
     "data": {
      "text/plain": [
       "{'explainVersion': '1',\n",
       " 'queryPlanner': {'namespace': 'eduhub_db.courses',\n",
       "  'parsedQuery': {'$and': [{'category': {'$eq': 'Data Engineering'}},\n",
       "    {'title': {'$regex': 'python', '$options': 'i'}}]},\n",
       "  'indexFilterSet': False,\n",
       "  'queryHash': '155DDD63',\n",
       "  'planCacheShapeHash': '155DDD63',\n",
       "  'planCacheKey': '31292C86',\n",
       "  'optimizationTimeMillis': 0,\n",
       "  'maxIndexedOrSolutionsReached': False,\n",
       "  'maxIndexedAndSolutionsReached': False,\n",
       "  'maxScansToExplodeReached': False,\n",
       "  'prunedSimilarIndexes': False,\n",
       "  'winningPlan': {'isCached': False,\n",
       "   'stage': 'FETCH',\n",
       "   'inputStage': {'stage': 'IXSCAN',\n",
       "    'filter': {'title': {'$regex': 'python', '$options': 'i'}},\n",
       "    'keyPattern': {'title': 1, 'category': 1},\n",
       "    'indexName': 'title_1_category_1',\n",
       "    'isMultiKey': False,\n",
       "    'multiKeyPaths': {'title': [], 'category': []},\n",
       "    'isUnique': False,\n",
       "    'isSparse': False,\n",
       "    'isPartial': False,\n",
       "    'indexVersion': 2,\n",
       "    'direction': 'forward',\n",
       "    'indexBounds': {'title': ['[\"\", {})', '[/python/i, /python/i]'],\n",
       "     'category': ['[\"Data Engineering\", \"Data Engineering\"]']}}},\n",
       "  'rejectedPlans': []},\n",
       " 'executionStats': {'executionSuccess': True,\n",
       "  'nReturned': 0,\n",
       "  'executionTimeMillis': 0,\n",
       "  'totalKeysExamined': 10,\n",
       "  'totalDocsExamined': 0,\n",
       "  'executionStages': {'isCached': False,\n",
       "   'stage': 'FETCH',\n",
       "   'nReturned': 0,\n",
       "   'executionTimeMillisEstimate': 0,\n",
       "   'works': 11,\n",
       "   'advanced': 0,\n",
       "   'needTime': 10,\n",
       "   'needYield': 0,\n",
       "   'saveState': 0,\n",
       "   'restoreState': 0,\n",
       "   'isEOF': 1,\n",
       "   'docsExamined': 0,\n",
       "   'alreadyHasObj': 0,\n",
       "   'inputStage': {'stage': 'IXSCAN',\n",
       "    'filter': {'title': {'$regex': 'python', '$options': 'i'}},\n",
       "    'nReturned': 0,\n",
       "    'executionTimeMillisEstimate': 0,\n",
       "    'works': 11,\n",
       "    'advanced': 0,\n",
       "    'needTime': 10,\n",
       "    'needYield': 0,\n",
       "    'saveState': 0,\n",
       "    'restoreState': 0,\n",
       "    'isEOF': 1,\n",
       "    'keyPattern': {'title': 1, 'category': 1},\n",
       "    'indexName': 'title_1_category_1',\n",
       "    'isMultiKey': False,\n",
       "    'multiKeyPaths': {'title': [], 'category': []},\n",
       "    'isUnique': False,\n",
       "    'isSparse': False,\n",
       "    'isPartial': False,\n",
       "    'indexVersion': 2,\n",
       "    'direction': 'forward',\n",
       "    'indexBounds': {'title': ['[\"\", {})', '[/python/i, /python/i]'],\n",
       "     'category': ['[\"Data Engineering\", \"Data Engineering\"]']},\n",
       "    'keysExamined': 10,\n",
       "    'seeks': 5,\n",
       "    'dupsTested': 0,\n",
       "    'dupsDropped': 0}},\n",
       "  'allPlansExecution': []},\n",
       " 'queryShapeHash': '9E009AA3E9DC8639E8D1EBF217343810A0BC8EB5122BE09A3F41125A48DEDAFA',\n",
       " 'command': {'find': 'courses',\n",
       "  'filter': {'title': {'$regex': 'python', '$options': 'i'},\n",
       "   'category': 'Data Engineering'},\n",
       "  '$db': 'eduhub_db'},\n",
       " 'serverInfo': {'host': 'FeyiArmstrong',\n",
       "  'port': 27017,\n",
       "  'version': '8.0.8',\n",
       "  'gitVersion': '7f52660c14217ed2c8d3240f823a2291a4fe6abd'},\n",
       " 'serverParameters': {'internalQueryFacetBufferSizeBytes': 104857600,\n",
       "  'internalQueryFacetMaxOutputDocSizeBytes': 104857600,\n",
       "  'internalLookupStageIntermediateDocumentMaxSizeBytes': 104857600,\n",
       "  'internalDocumentSourceGroupMaxMemoryBytes': 104857600,\n",
       "  'internalQueryMaxBlockingSortMemoryUsageBytes': 104857600,\n",
       "  'internalQueryProhibitBlockingMergeOnMongoS': 0,\n",
       "  'internalQueryMaxAddToSetBytes': 104857600,\n",
       "  'internalDocumentSourceSetWindowFieldsMaxMemoryBytes': 104857600,\n",
       "  'internalQueryFrameworkControl': 'trySbeRestricted',\n",
       "  'internalQueryPlannerIgnoreIndexWithCollationForRegex': 1},\n",
       " 'ok': 1.0}"
      ]
     },
     "execution_count": 105,
     "metadata": {},
     "output_type": "execute_result"
    }
   ],
   "source": [
    "#Optimize at least 3 slow queries \n",
    "\n",
    "\n",
    "#Slow query \n",
    "\n",
    "courses_col.find({\n",
    "    \"title\": { \"$regex\": \"python\", \"$options\": \"i\" },\n",
    "    \"category\": \"Data Engineering\"\n",
    "})\n",
    "\n",
    "\n",
    "#Optimization \n",
    "\n",
    "# Create compound index\n",
    "courses_col.create_index([(\"title\", 1), (\"category\", 1)])\n",
    "\n",
    "\n",
    "#Analyze\n",
    "\n",
    "courses_col.find({\n",
    "    \"title\": { \"$regex\": \"python\", \"$options\": \"i\" },\n",
    "    \"category\": \"Data Engineering\"\n",
    "}).explain()"
   ]
  },
  {
   "cell_type": "code",
   "execution_count": null,
   "metadata": {},
   "outputs": [],
   "source": []
  },
  {
   "cell_type": "markdown",
   "id": "55009bbb",
   "metadata": {},
   "source": [
    "*2. Find Assignments Due in Next 7 Days*"
   ]
  },
  {
   "cell_type": "code",
   "execution_count": 106,
   "id": "476c26e0",
   "metadata": {},
   "outputs": [
    {
     "data": {
      "text/plain": [
       "{'explainVersion': '1',\n",
       " 'queryPlanner': {'namespace': 'eduhub_db.assignments',\n",
       "  'parsedQuery': {'$and': [{'due_date': {'$lte': datetime.datetime(2025, 6, 19, 3, 5, 26, 578000)}},\n",
       "    {'due_date': {'$gte': datetime.datetime(2025, 6, 12, 3, 5, 26, 578000)}}]},\n",
       "  'indexFilterSet': False,\n",
       "  'queryHash': '63C5D55B',\n",
       "  'planCacheShapeHash': '63C5D55B',\n",
       "  'planCacheKey': '6B7DE233',\n",
       "  'optimizationTimeMillis': 0,\n",
       "  'maxIndexedOrSolutionsReached': False,\n",
       "  'maxIndexedAndSolutionsReached': False,\n",
       "  'maxScansToExplodeReached': False,\n",
       "  'prunedSimilarIndexes': False,\n",
       "  'winningPlan': {'isCached': False,\n",
       "   'stage': 'FETCH',\n",
       "   'inputStage': {'stage': 'IXSCAN',\n",
       "    'keyPattern': {'due_date': 1},\n",
       "    'indexName': 'due_date_1',\n",
       "    'isMultiKey': False,\n",
       "    'multiKeyPaths': {'due_date': []},\n",
       "    'isUnique': False,\n",
       "    'isSparse': False,\n",
       "    'isPartial': False,\n",
       "    'indexVersion': 2,\n",
       "    'direction': 'forward',\n",
       "    'indexBounds': {'due_date': ['[new Date(1749697526578), new Date(1750302326578)]']}}},\n",
       "  'rejectedPlans': []},\n",
       " 'executionStats': {'executionSuccess': True,\n",
       "  'nReturned': 7,\n",
       "  'executionTimeMillis': 0,\n",
       "  'totalKeysExamined': 7,\n",
       "  'totalDocsExamined': 7,\n",
       "  'executionStages': {'isCached': False,\n",
       "   'stage': 'FETCH',\n",
       "   'nReturned': 7,\n",
       "   'executionTimeMillisEstimate': 0,\n",
       "   'works': 8,\n",
       "   'advanced': 7,\n",
       "   'needTime': 0,\n",
       "   'needYield': 0,\n",
       "   'saveState': 0,\n",
       "   'restoreState': 0,\n",
       "   'isEOF': 1,\n",
       "   'docsExamined': 7,\n",
       "   'alreadyHasObj': 0,\n",
       "   'inputStage': {'stage': 'IXSCAN',\n",
       "    'nReturned': 7,\n",
       "    'executionTimeMillisEstimate': 0,\n",
       "    'works': 8,\n",
       "    'advanced': 7,\n",
       "    'needTime': 0,\n",
       "    'needYield': 0,\n",
       "    'saveState': 0,\n",
       "    'restoreState': 0,\n",
       "    'isEOF': 1,\n",
       "    'keyPattern': {'due_date': 1},\n",
       "    'indexName': 'due_date_1',\n",
       "    'isMultiKey': False,\n",
       "    'multiKeyPaths': {'due_date': []},\n",
       "    'isUnique': False,\n",
       "    'isSparse': False,\n",
       "    'isPartial': False,\n",
       "    'indexVersion': 2,\n",
       "    'direction': 'forward',\n",
       "    'indexBounds': {'due_date': ['[new Date(1749697526578), new Date(1750302326578)]']},\n",
       "    'keysExamined': 7,\n",
       "    'seeks': 1,\n",
       "    'dupsTested': 0,\n",
       "    'dupsDropped': 0}},\n",
       "  'allPlansExecution': []},\n",
       " 'queryShapeHash': 'F6B86BB2880B29BD908863340936D9DB05E5EE17F09C2F85C980CF8701C285A3',\n",
       " 'command': {'find': 'assignments',\n",
       "  'filter': {'due_date': {'$gte': datetime.datetime(2025, 6, 12, 3, 5, 26, 578000),\n",
       "    '$lte': datetime.datetime(2025, 6, 19, 3, 5, 26, 578000)}},\n",
       "  '$db': 'eduhub_db'},\n",
       " 'serverInfo': {'host': 'FeyiArmstrong',\n",
       "  'port': 27017,\n",
       "  'version': '8.0.8',\n",
       "  'gitVersion': '7f52660c14217ed2c8d3240f823a2291a4fe6abd'},\n",
       " 'serverParameters': {'internalQueryFacetBufferSizeBytes': 104857600,\n",
       "  'internalQueryFacetMaxOutputDocSizeBytes': 104857600,\n",
       "  'internalLookupStageIntermediateDocumentMaxSizeBytes': 104857600,\n",
       "  'internalDocumentSourceGroupMaxMemoryBytes': 104857600,\n",
       "  'internalQueryMaxBlockingSortMemoryUsageBytes': 104857600,\n",
       "  'internalQueryProhibitBlockingMergeOnMongoS': 0,\n",
       "  'internalQueryMaxAddToSetBytes': 104857600,\n",
       "  'internalDocumentSourceSetWindowFieldsMaxMemoryBytes': 104857600,\n",
       "  'internalQueryFrameworkControl': 'trySbeRestricted',\n",
       "  'internalQueryPlannerIgnoreIndexWithCollationForRegex': 1},\n",
       " 'ok': 1.0}"
      ]
     },
     "execution_count": 106,
     "metadata": {},
     "output_type": "execute_result"
    }
   ],
   "source": [
    "#2. Find Assignments Due in Next 7 Days\n",
    "\n",
    "#Slow query\n",
    "\n",
    "assignments_col.find({\n",
    "    \"due_date\": { \"$gte\": datetime.now(), \"$lte\": datetime.now() + timedelta(days=7) }\n",
    "})\n",
    "\n",
    "\n",
    "\n",
    "#Optimization \n",
    "\n",
    "# Index on due_date\n",
    "assignments_col.create_index(\"due_date\")\n",
    "\n",
    "\n",
    "#Analyze\n",
    "\n",
    "assignments_col.find({\n",
    "    \"due_date\": { \"$gte\": datetime.now(), \"$lte\": datetime.now() + timedelta(days=7) }\n",
    "}).explain()"
   ]
  },
  {
   "cell_type": "markdown",
   "id": "9067d588",
   "metadata": {},
   "source": []
  },
  {
   "cell_type": "markdown",
   "id": "d7614127",
   "metadata": {},
   "source": [
    "*3. Find All Enrollments for a Student*"
   ]
  },
  {
   "cell_type": "code",
   "execution_count": 107,
   "metadata": {},
   "outputs": [
    {
     "data": {
      "text/plain": [
       "{'explainVersion': '1',\n",
       " 'queryPlanner': {'namespace': 'eduhub_db.enrollments',\n",
       "  'parsedQuery': {'student_id': {'$eq': 'U005'}},\n",
       "  'indexFilterSet': False,\n",
       "  'queryHash': '840990DF',\n",
       "  'planCacheShapeHash': '840990DF',\n",
       "  'planCacheKey': '405F65EE',\n",
       "  'optimizationTimeMillis': 0,\n",
       "  'maxIndexedOrSolutionsReached': False,\n",
       "  'maxIndexedAndSolutionsReached': False,\n",
       "  'maxScansToExplodeReached': False,\n",
       "  'prunedSimilarIndexes': False,\n",
       "  'winningPlan': {'isCached': False,\n",
       "   'stage': 'FETCH',\n",
       "   'inputStage': {'stage': 'IXSCAN',\n",
       "    'keyPattern': {'student_id': 1},\n",
       "    'indexName': 'student_id_1',\n",
       "    'isMultiKey': False,\n",
       "    'multiKeyPaths': {'student_id': []},\n",
       "    'isUnique': False,\n",
       "    'isSparse': False,\n",
       "    'isPartial': False,\n",
       "    'indexVersion': 2,\n",
       "    'direction': 'forward',\n",
       "    'indexBounds': {'student_id': ['[\"U005\", \"U005\"]']}}},\n",
       "  'rejectedPlans': []},\n",
       " 'executionStats': {'executionSuccess': True,\n",
       "  'nReturned': 0,\n",
       "  'executionTimeMillis': 0,\n",
       "  'totalKeysExamined': 0,\n",
       "  'totalDocsExamined': 0,\n",
       "  'executionStages': {'isCached': False,\n",
       "   'stage': 'FETCH',\n",
       "   'nReturned': 0,\n",
       "   'executionTimeMillisEstimate': 0,\n",
       "   'works': 1,\n",
       "   'advanced': 0,\n",
       "   'needTime': 0,\n",
       "   'needYield': 0,\n",
       "   'saveState': 0,\n",
       "   'restoreState': 0,\n",
       "   'isEOF': 1,\n",
       "   'docsExamined': 0,\n",
       "   'alreadyHasObj': 0,\n",
       "   'inputStage': {'stage': 'IXSCAN',\n",
       "    'nReturned': 0,\n",
       "    'executionTimeMillisEstimate': 0,\n",
       "    'works': 1,\n",
       "    'advanced': 0,\n",
       "    'needTime': 0,\n",
       "    'needYield': 0,\n",
       "    'saveState': 0,\n",
       "    'restoreState': 0,\n",
       "    'isEOF': 1,\n",
       "    'keyPattern': {'student_id': 1},\n",
       "    'indexName': 'student_id_1',\n",
       "    'isMultiKey': False,\n",
       "    'multiKeyPaths': {'student_id': []},\n",
       "    'isUnique': False,\n",
       "    'isSparse': False,\n",
       "    'isPartial': False,\n",
       "    'indexVersion': 2,\n",
       "    'direction': 'forward',\n",
       "    'indexBounds': {'student_id': ['[\"U005\", \"U005\"]']},\n",
       "    'keysExamined': 0,\n",
       "    'seeks': 1,\n",
       "    'dupsTested': 0,\n",
       "    'dupsDropped': 0}},\n",
       "  'allPlansExecution': []},\n",
       " 'queryShapeHash': '0C945A7E45D19949B9A4719FB0E4F51AD45F17FF1A6979BCA39268FA7BC3BF2C',\n",
       " 'command': {'find': 'enrollments',\n",
       "  'filter': {'student_id': 'U005'},\n",
       "  '$db': 'eduhub_db'},\n",
       " 'serverInfo': {'host': 'FeyiArmstrong',\n",
       "  'port': 27017,\n",
       "  'version': '8.0.8',\n",
       "  'gitVersion': '7f52660c14217ed2c8d3240f823a2291a4fe6abd'},\n",
       " 'serverParameters': {'internalQueryFacetBufferSizeBytes': 104857600,\n",
       "  'internalQueryFacetMaxOutputDocSizeBytes': 104857600,\n",
       "  'internalLookupStageIntermediateDocumentMaxSizeBytes': 104857600,\n",
       "  'internalDocumentSourceGroupMaxMemoryBytes': 104857600,\n",
       "  'internalQueryMaxBlockingSortMemoryUsageBytes': 104857600,\n",
       "  'internalQueryProhibitBlockingMergeOnMongoS': 0,\n",
       "  'internalQueryMaxAddToSetBytes': 104857600,\n",
       "  'internalDocumentSourceSetWindowFieldsMaxMemoryBytes': 104857600,\n",
       "  'internalQueryFrameworkControl': 'trySbeRestricted',\n",
       "  'internalQueryPlannerIgnoreIndexWithCollationForRegex': 1},\n",
       " 'ok': 1.0}"
      ]
     },
     "execution_count": 107,
     "metadata": {},
     "output_type": "execute_result"
    }
   ],
   "source": [
    "#3. Find All Enrollments for a Student\n",
    "#Slow query \n",
    "\n",
    "enrollments_col.find({ \"student_id\": \"U005\" })\n",
    "\n",
    "\n",
    "#Optimization \n",
    "\n",
    "# Index on student_id\n",
    "enrollments_col.create_index(\"student_id\")\n",
    "\n",
    "#Analyze\n",
    "\n",
    "enrollments_col.find({ \"student_id\": \"U005\" }).explain()"
   ]
  },
  {
   "cell_type": "code",
   "execution_count": null,
   "id": "3850f387",
   "metadata": {},
   "outputs": [],
   "source": []
  },
  {
   "cell_type": "markdown",
   "id": "98f42822",
   "metadata": {},
   "source": [
    "*3: Document the performance improvements using python timing functions*"
   ]
  },
  {
   "cell_type": "code",
   "execution_count": null,
   "id": "dc7d0b46",
   "metadata": {},
   "outputs": [
    {
     "name": "stdout",
     "output_type": "stream",
     "text": [
      " Time without index: 0.0023 seconds\n",
      " Time with index: 0.0021 seconds\n"
     ]
    }
   ],
   "source": [
    "#Document the performance improvements using python timing functions \n",
    "\n",
    "#Example: Measure and Compare Query Time (Courses by Title + Category)\n",
    "\n",
    "\n",
    "import time\n",
    "\n",
    "# Query definition\n",
    "query = {\n",
    "    \"title\": { \"$regex\": \"python\", \"$options\": \"i\" },\n",
    "    \"category\": \"Data Engineering\"\n",
    "}\n",
    "\n",
    "# Measure execution time before index\n",
    "start_time = time.time()\n",
    "courses_col.find(query).explain()\n",
    "end_time = time.time()\n",
    "print(\" Time without index: {:.4f} seconds\".format(end_time - start_time))\n",
    "\n",
    "# Create compound index\n",
    "courses_col.create_index([(\"title\", 1), (\"category\", 1)])\n",
    "\n",
    "# Measure execution time after index\n",
    "start_time = time.time()\n",
    "courses_col.find(query).explain()\n",
    "end_time = time.time()\n",
    "print(\" Time with index: {:.4f} seconds\".format(end_time - start_time))"
   ]
  },
  {
   "cell_type": "code",
   "execution_count": null,
   "id": "9e50303a",
   "metadata": {},
   "outputs": [],
   "source": []
  },
  {
   "cell_type": "markdown",
   "id": "df904ca6",
   "metadata": {},
   "source": [
    "*PART 6 : DATA VALIDATION AND ERROR HANDLING*"
   ]
  },
  {
   "cell_type": "markdown",
   "id": "2f705d04",
   "metadata": {},
   "source": [
    "*TASK 6.1 : SCHEMA VALIDATION*"
   ]
  },
  {
   "cell_type": "code",
   "execution_count": null,
   "id": "30762af2",
   "metadata": {},
   "outputs": [
    {
     "data": {
      "text/plain": [
       "InsertOneResult(ObjectId('684a39424512eed8bc924c72'), acknowledged=True)"
      ]
     },
     "execution_count": 110,
     "metadata": {},
     "output_type": "execute_result"
    }
   ],
   "source": [
    "#schema validation \n",
    "\n",
    "\n",
    "#Implement validation rules for :\n",
    "#Required fields\n",
    "#Data type validation\n",
    "#Enum value restictions\n",
    "#Email format validation\n",
    "\n",
    "\n",
    "db.create_collection(\"users_validated\", validator={\n",
    "    \"$jsonSchema\": {\n",
    "        \"bsonType\": \"object\",\n",
    "        \"required\": [\"user_id\", \"email\", \"first_name\", \"last_name\", \"role\", \"date_joined\", \"is_active\"],\n",
    "        \"properties\": {\n",
    "            \"user_id\": { \"bsonType\": \"string\" },\n",
    "            \"email\": { \"bsonType\": \"string\" },\n",
    "            \"first_name\": { \"bsonType\": \"string\" },\n",
    "            \"last_name\": { \"bsonType\": \"string\" },\n",
    "            \"role\": { \n",
    "                \"enum\": [\"student\", \"instructor\"],\n",
    "                \"description\": \"Role must be student or instructor\"\n",
    "            },\n",
    "            \"date_joined\": { \"bsonType\": \"date\" },\n",
    "            \"is_active\": { \"bsonType\": \"bool\" }\n",
    "        }\n",
    "    }\n",
    "})\n",
    "\n",
    "\n",
    "\n",
    "\n",
    "\n",
    "#Inserting a valid document \n",
    "\n",
    "db.users_validated.insert_one({\n",
    "    \"user_id\": \"U999\",\n",
    "    \"email\": \"valid@example.com\",\n",
    "    \"first_name\": \"Jane\",\n",
    "    \"last_name\": \"Doe\",\n",
    "    \"role\": \"student\",\n",
    "    \"date_joined\": datetime.now(),\n",
    "    \"is_active\": True\n",
    "})"
   ]
  },
  {
   "cell_type": "code",
   "execution_count": null,
   "metadata": {},
   "outputs": [],
   "source": []
  },
  {
   "cell_type": "markdown",
   "id": "fed0cd11",
   "metadata": {},
   "source": [
    "*TASK 6.2: ERROR HANDLING*"
   ]
  },
  {
   "cell_type": "code",
   "execution_count": null,
   "id": "9f9a431c",
   "metadata": {},
   "outputs": [
    {
     "name": "stdout",
     "output_type": "stream",
     "text": [
      "Write Error (Validation failed): Document failed validation, full error: {'index': 0, 'code': 121, 'errmsg': 'Document failed validation', 'errInfo': {'failingDocumentId': ObjectId('666abcd12345678901234567'), 'details': {'operatorName': '$jsonSchema', 'schemaRulesNotSatisfied': [{'operatorName': 'properties', 'propertiesNotSatisfied': [{'propertyName': 'role', 'description': 'Role must be student or instructor', 'details': [{'operatorName': 'enum', 'specifiedAs': {'enum': ['student', 'instructor']}, 'reason': 'value was not found in enum', 'consideredValue': 'admin'}]}, {'propertyName': 'date_joined', 'details': [{'operatorName': 'bsonType', 'specifiedAs': {'bsonType': 'date'}, 'reason': 'type did not match', 'consideredValue': '2024-01-01', 'consideredType': 'string'}]}]}, {'operatorName': 'required', 'specifiedAs': {'required': ['user_id', 'email', 'first_name', 'last_name', 'role', 'date_joined', 'is_active']}, 'missingProperties': ['is_active']}]}}}\n"
     ]
    }
   ],
   "source": [
    "#Error handling \n",
    "\n",
    "#WRITING QUERIES THAT HANDLES THE FOLLOWING COMMON ERRORS::\n",
    "#1 Duplicate key error\n",
    "#2 Invalid data type insertion\n",
    "#3 Missing required fields\n",
    "\n",
    "\n",
    "from pymongo.errors import DuplicateKeyError, WriteError, WriteConcernError\n",
    "\n",
    "try:\n",
    "    db.users_validated.insert_one({\n",
    "        \n",
    "        \"_id\": ObjectId(\"666abcd12345678901234567\"),  # May cause duplicate _id\n",
    "        \"user_id\": \"U100\",\n",
    "        \"email\": \"invalidemail.com\",  # invalid if regex used\n",
    "        \"first_name\": \"John\",\n",
    "        \"last_name\": \"Doe\",\n",
    "        \"role\": \"admin\",  # Invalid enum if validation applied\n",
    "        \"date_joined\": \"2024-01-01\",  # Wrong type if not converted to datetime\n",
    "        # \"is_active\" is missing (required)\n",
    "    })\n",
    "\n",
    "except DuplicateKeyError as e:\n",
    "    print(\"Duplicate Key Error:\", e)\n",
    "\n",
    "except WriteError as e:\n",
    "    print(\"Write Error (Validation failed):\", e)\n",
    "\n",
    "except WriteConcernError as e:\n",
    "    print(\" Write Concern Error:\", e)\n",
    "\n",
    "except Exception as e:\n",
    "    print(\" General Error:\", e)"
   ]
  },
  {
   "cell_type": "code",
   "execution_count": null,
   "id": "9c5ce6a7",
   "metadata": {},
   "outputs": [],
   "source": []
  },
  {
   "cell_type": "markdown",
   "id": "3ff0da4d",
   "metadata": {},
   "source": []
  },
  {
   "cell_type": "markdown",
   "id": "a3c66a33",
   "metadata": {},
   "source": [
    "*BONUS CHALLENGE!       BONUS CHALLENGE!!          BONUS CHALLENGE!!!*"
   ]
  },
  {
   "cell_type": "markdown",
   "id": "d47c5f5b",
   "metadata": {},
   "source": [
    "*1. Implement text search functionality for course content*"
   ]
  },
  {
   "cell_type": "code",
   "execution_count": null,
   "id": "117d4c57",
   "metadata": {},
   "outputs": [
    {
     "name": "stdout",
     "output_type": "stream",
     "text": [
      "🎓 Data Engineering Essentials - Master the basics of data pipelines, ETL, and database manag...\n",
      "🎓 Data Engineering Essentials - Master the basics of data pipelines, ETL, and database manag...\n",
      "🎓 Deep Learning with TensorFlow - Understand core machine learning concepts with hands-on Pyth...\n",
      "🎓 Big Data Processing with Spark - Understand core machine learning concepts with hands-on Pyth...\n"
     ]
    }
   ],
   "source": [
    "#Implement text search functionality for course content \n",
    "\n",
    "#Step 1: Create Text Index on Course Fields\n",
    "\n",
    "courses_col.create_index([\n",
    "    (\"title\", \"text\"),\n",
    "    (\"description\", \"text\"),\n",
    "    (\"tags\", \"text\")\n",
    "])\n",
    "\n",
    "\n",
    "#Step 2: Text Search Query\n",
    "\n",
    "def search_courses_by_text(keyword):\n",
    "    results = courses_col.find({\n",
    "        \"$text\": { \"$search\": keyword }\n",
    "    })\n",
    "\n",
    "    for course in results:\n",
    "        print(f\" {course['title']} - {course['description'][:60]}...\")\n",
    "\n",
    "\n",
    "\n",
    "#Example usage\n",
    "\n",
    "search_courses_by_text(\"python ETL\")"
   ]
  },
  {
   "cell_type": "markdown",
   "id": "5a7e4362",
   "metadata": {},
   "source": []
  },
  {
   "cell_type": "markdown",
   "id": "15ada5f9",
   "metadata": {},
   "source": [
    "*2. Recommendation system using Aggregation*"
   ]
  },
  {
   "cell_type": "code",
   "execution_count": null,
   "metadata": {},
   "outputs": [
    {
     "name": "stdout",
     "output_type": "stream",
     "text": [
      "\n",
      " Course Recommendations for Shelia Ross\n"
     ]
    }
   ],
   "source": [
    "#Recommendation system using Aggregation \n",
    "\n",
    "#Match User’s Skills to Course Tags\n",
    "\n",
    "def recommend_courses(user_id):\n",
    "    # Step 1: Get user's skills\n",
    "    user = users_col.find_one({\"user_id\": user_id})\n",
    "    if not user:\n",
    "        print(\" User not found.\")\n",
    "        return\n",
    "\n",
    "    user_skills = user[\"profile\"][\"skills\"]\n",
    "\n",
    "    # Step 2: Match courses using aggregation\n",
    "    pipeline = [\n",
    "        {\n",
    "            \"$match\": {\n",
    "                \"tags\": {\"$in\": user_skills},\n",
    "                \"is_published\": True\n",
    "            }\n",
    "        },\n",
    "        {\n",
    "            \"$addFields\": {\n",
    "                \"matched_skills\": {\n",
    "                    \"$size\": {\"$setIntersection\": [\"$tags\", user_skills]}\n",
    "                }\n",
    "            }\n",
    "        },\n",
    "        { \"$sort\": { \"matched_skills\": -1, \"price\": 1 } },  # prioritize relevance + cheap\n",
    "        { \"$limit\": 5 }  # Top 5 recommendations\n",
    "    ]\n",
    "\n",
    "    recommendations = courses_col.aggregate(pipeline)\n",
    "\n",
    "    print(f\"\\n Course Recommendations for {user['first_name']} {user['last_name']}\")\n",
    "    for course in recommendations:\n",
    "        print(f\" {course['title']} (Matched Skills: {course['matched_skills']})\")\n",
    "\n",
    "\n",
    "#Example usage \n",
    "\n",
    "recommend_courses(\"U007\")"
   ]
  },
  {
   "cell_type": "code",
   "execution_count": null,
   "id": "8ac78991",
   "metadata": {},
   "outputs": [],
   "source": []
  },
  {
   "cell_type": "markdown",
   "id": "7e06925e",
   "metadata": {},
   "source": [
    "*3. Design a data archiving strategy for old enrollments*"
   ]
  },
  {
   "cell_type": "code",
   "execution_count": null,
   "id": "11747db6",
   "metadata": {},
   "outputs": [
    {
     "name": "stdout",
     "output_type": "stream",
     "text": [
      "📭 No old enrollments to archive.\n"
     ]
    }
   ],
   "source": [
    "#Design a data archiving strategy for old enrollments\n",
    "\n",
    "#Step 1: Create Archive Collection\n",
    "\n",
    "archived_col = db[\"archived_enrollments\"]\n",
    "\n",
    "\n",
    "#Step 2: Define the Archiving Logic\n",
    "\n",
    "def archive_old_enrollments():\n",
    "    # 6 months ago\n",
    "    six_months_ago = datetime.now() - timedelta(days=180)\n",
    "\n",
    "    # Find old enrollments\n",
    "    old_enrollments = list(enrollments_col.find({\n",
    "        \"enrolled_on\": { \"$lt\": six_months_ago }\n",
    "    }))\n",
    "\n",
    "    if not old_enrollments:\n",
    "        print(\"📭 No old enrollments to archive.\")\n",
    "        return\n",
    "\n",
    "    # Insert into archive\n",
    "    archived_col.insert_many(old_enrollments)\n",
    "\n",
    "    # Delete from main collection\n",
    "    ids_to_delete = [doc[\"_id\"] for doc in old_enrollments]\n",
    "    enrollments_col.delete_many({ \"_id\": { \"$in\": ids_to_delete } })\n",
    "\n",
    "    print(f\" Archived {len(old_enrollments)} old enrollments.\")\n",
    "\n",
    "\n",
    "\n",
    "#Example usage\n",
    "\n",
    "archive_old_enrollments()"
   ]
  },
  {
   "cell_type": "code",
   "execution_count": null,
   "id": "2a15c9ee",
   "metadata": {},
   "outputs": [],
   "source": []
  },
  {
   "cell_type": "markdown",
   "id": "729745f1",
   "metadata": {},
   "source": [
    "*4. Implement Geospatial queries for location based course recommendations*"
   ]
  },
  {
   "cell_type": "code",
   "execution_count": null,
   "id": "f20384e1",
   "metadata": {},
   "outputs": [
    {
     "name": "stdout",
     "output_type": "stream",
     "text": [
      "\n",
      " Recommended Courses within 10 km:\n",
      " Deep Learning with TensorFlow - Category: Data Engineering\n",
      " Data Engineering Essentials - Category: Data Engineering\n",
      " Data Engineering Essentials - Category: Data Engineering\n",
      " Big Data Processing with Spark - Category: Data Engineering\n",
      " Computer Vision with OpenCV - Category: DevOps\n",
      " Data Visualization with Seaborn - Category: Data Engineering\n"
     ]
    }
   ],
   "source": [
    "#implement Geospatial queries for location based course recommendations\n",
    "\n",
    "\n",
    "#Step 1: Update Courses with Geo Data\n",
    "\n",
    "# Example: Update some existing courses\n",
    "courses_col.update_many(\n",
    "    {},\n",
    "    [{\n",
    "        \"$set\": {\n",
    "            \"location\": {\n",
    "                \"type\": \"Point\",\n",
    "                \"coordinates\": [\n",
    "                    random.uniform(3.30, 3.60),   # Longitude (e.g., Lagos)\n",
    "                    random.uniform(6.40, 6.70)    # Latitude\n",
    "                ]\n",
    "            }\n",
    "        }\n",
    "    }]\n",
    ")\n",
    "\n",
    "\n",
    "\n",
    "#Step 2: Create 2dsphere Index\n",
    "\n",
    "courses_col.create_index([(\"location\", \"2dsphere\")])\n",
    "\n",
    "\n",
    "#Step 3: Query for Nearby Courses\n",
    "\n",
    "def recommend_nearby_courses(user_coordinates, max_distance_km=10):\n",
    "    results = courses_col.find({\n",
    "        \"location\": {\n",
    "            \"$near\": {\n",
    "                \"$geometry\": {\n",
    "                    \"type\": \"Point\",\n",
    "                    \"coordinates\": user_coordinates\n",
    "                },\n",
    "                \"$maxDistance\": max_distance_km * 1000  # meters\n",
    "            }\n",
    "        },\n",
    "        \"is_published\": True\n",
    "    })\n",
    "\n",
    "    print(f\"\\n Recommended Courses within {max_distance_km} km:\")\n",
    "    for course in results:\n",
    "        print(f\" {course['title']} - Category: {course['category']}\")\n",
    "\n",
    "\n",
    "\n",
    "\n",
    "#Example usage \n",
    "\n",
    "# Example: user near Ikeja, Lagos\n",
    "user_coords = [3.35, 6.60]  # [longitude, latitude]\n",
    "recommend_nearby_courses(user_coords, max_distance_km=10)"
   ]
  }
 ],
 "metadata": {
  "kernelspec": {
   "display_name": "base",
   "language": "python",
   "name": "python3"
  },
  "language_info": {
   "codemirror_mode": {
    "name": "ipython",
    "version": 3
   },
   "file_extension": ".py",
   "mimetype": "text/x-python",
   "name": "python",
   "nbconvert_exporter": "python",
   "pygments_lexer": "ipython3",
   "version": "3.12.7"
  }
 },
 "nbformat": 4,
 "nbformat_minor": 5
}
