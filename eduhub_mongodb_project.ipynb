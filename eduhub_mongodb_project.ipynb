{
 "cells": [
  {
   "cell_type": "code",
   "execution_count": null,
   "id": "b9c27ba0",
   "metadata": {},
   "outputs": [],
   "source": []
  },
  {
   "cell_type": "markdown",
   "id": "9e89a1c0",
   "metadata": {},
   "source": [
    "*TASK 1.1*"
   ]
  },
  {
   "cell_type": "markdown",
   "id": "ea630920",
   "metadata": {},
   "source": [
    "*Import Libraries*"
   ]
  },
  {
   "cell_type": "code",
   "execution_count": 42,
   "id": "ff92b3ca",
   "metadata": {},
   "outputs": [],
   "source": [
    "#import libraries\n",
    "\n",
    "from pymongo import MongoClient\n",
    "import pandas as pd\n",
    "from datetime import datetime, timedelta\n",
    "from faker import Faker\n",
    "import random\n",
    "from bson.objectid import ObjectId\n",
    "import bson\n",
    "import pprint as pp\n"
   ]
  },
  {
   "cell_type": "code",
   "execution_count": null,
   "id": "2298b81a",
   "metadata": {},
   "outputs": [],
   "source": []
  },
  {
   "cell_type": "markdown",
   "id": "6b03356a",
   "metadata": {},
   "source": [
    "*Connect to MongoClient*"
   ]
  },
  {
   "cell_type": "code",
   "execution_count": 43,
   "id": "36d46698",
   "metadata": {},
   "outputs": [],
   "source": [
    "#connect to mongoclient\n",
    "\n",
    "client = MongoClient (\"mongodb://localhost:27017\")\n",
    "fake = Faker()"
   ]
  },
  {
   "cell_type": "code",
   "execution_count": null,
   "id": "058eef4f",
   "metadata": {},
   "outputs": [],
   "source": []
  },
  {
   "cell_type": "markdown",
   "id": "47dda95e",
   "metadata": {},
   "source": [
    "*DATABASE STRUCTURE*"
   ]
  },
  {
   "cell_type": "code",
   "execution_count": 44,
   "id": "d1f64796",
   "metadata": {},
   "outputs": [],
   "source": [
    "#connect to database\n",
    "\n",
    "db = client[\"eduhub_db\"]\n",
    "collection = db[\"users\"]\n",
    "collection1 = db[\"courses\"]\n",
    "collection2 = db[\"enrollments\"]\n",
    "collection3 = db[\"lessons\"]\n",
    "collection4 = db[\"assignments\"]\n",
    "collection5 = db[\"submissions\"]\n",
    "collection6 = db[\"altuserschema\"]\n",
    "collection7 = db[\"altcourseschema\"]"
   ]
  },
  {
   "cell_type": "code",
   "execution_count": null,
   "id": "2f7f5bb9",
   "metadata": {},
   "outputs": [],
   "source": []
  },
  {
   "cell_type": "markdown",
   "id": "4fc036bc",
   "metadata": {},
   "source": [
    "*TASK 1.2:  DESIGN DOCUMENT SCHEMA*"
   ]
  },
  {
   "cell_type": "markdown",
   "id": "0b12ea33",
   "metadata": {},
   "source": [
    "*Create USERS_SCHEMA*"
   ]
  },
  {
   "cell_type": "code",
   "execution_count": 45,
   "id": "14732e4a",
   "metadata": {},
   "outputs": [],
   "source": [
    "\n",
    "# Preselected values\n",
    "roles = [\"student\", \"instructor\"]\n",
    "\n",
    "bio = [\n",
    "    \"Passionate about lifelong learning and sharing knowledge.\",\n",
    "    \"Loves to solve problems through technology and data.\",\n",
    "    \"Driven by curiosity and a desire to build meaningful things.\",\n",
    "    \"Helping students grow into world-class developers.\",\n",
    "    \"Committed to creating impactful learning experiences.\"\n",
    "]\n",
    "\n",
    "avatar = [\n",
    "    \"https://api.dicebear.com/6.x/thumbs/svg?seed=Alpha\",\n",
    "    \"https://api.dicebear.com/6.x/thumbs/svg?seed=Beta\",\n",
    "    \"https://api.dicebear.com/6.x/thumbs/svg?seed=Gamma\",\n",
    "    \"https://api.dicebear.com/6.x/thumbs/svg?seed=Delta\",\n",
    "    \"https://api.dicebear.com/6.x/thumbs/svg?seed=Echo\",\n",
    "    \"https://api.dicebear.com/6.x/thumbs/svg?seed=Zeta\",\n",
    "    \"https://api.dicebear.com/6.x/thumbs/svg?seed=Orion\",\n",
    "    \"https://api.dicebear.com/6.x/thumbs/svg?seed=Nova\",\n",
    "    \"https://api.dicebear.com/6.x/thumbs/svg?seed=Pixel\",\n",
    "    \"https://api.dicebear.com/6.x/thumbs/svg?seed=Rocket\"\n",
    "]\n",
    "\n",
    "skills = [\n",
    "    \"Python\", \"MongoDB\", \"Data Engineering\", \"ETL\", \"Machine Learning\",\n",
    "    \"Cloud Computing\", \"Docker\", \"JavaScript\", \"SQL\", \"APIs\"\n",
    "]\n",
    "\n",
    "# Generate users_schema\n",
    "users_schema = []\n",
    "\n",
    "for i in range(1, 101):\n",
    "    user = {\n",
    "        \"_id\": ObjectId(),\n",
    "        \"user_id\": f\"U{str(i).zfill(3)}\",\n",
    "        \"first_name\": fake.first_name(),\n",
    "        \"last_name\": fake.last_name(),\n",
    "        \"date_joined\": fake.date_time_between(start_date=\"-1y\", end_date=\"now\"),\n",
    "        \"role\": random.choice(roles),\n",
    "        \"profile\": {\n",
    "            \"bio\": random.choice(bio),\n",
    "            \"avatar\": random.choice(avatar),\n",
    "            \"skills\": random.sample(skills, k=3),\n",
    "\n",
    "        \"is_active\": random.choice([True, False])\n",
    "        }\n",
    "    }\n",
    "\n",
    "    users_schema.append(user)"
   ]
  },
  {
   "cell_type": "code",
   "execution_count": null,
   "id": "fef6d754",
   "metadata": {},
   "outputs": [],
   "source": []
  },
  {
   "cell_type": "markdown",
   "id": "12dbf914",
   "metadata": {},
   "source": [
    "*Insert USERS_SCHEMA into Mongo Compass*"
   ]
  },
  {
   "cell_type": "code",
   "execution_count": 46,
   "id": "91f4d224",
   "metadata": {},
   "outputs": [
    {
     "name": "stdout",
     "output_type": "stream",
     "text": [
      "documents inserted\n"
     ]
    }
   ],
   "source": [
    "collection6.insert_many(users_schema)\n",
    "print(\"documents inserted\")"
   ]
  },
  {
   "cell_type": "code",
   "execution_count": null,
   "id": "30e3da9f",
   "metadata": {},
   "outputs": [],
   "source": []
  },
  {
   "cell_type": "markdown",
   "id": "1947d153",
   "metadata": {},
   "source": [
    "*List Database and Collectios*"
   ]
  },
  {
   "cell_type": "code",
   "execution_count": 47,
   "id": "584898de",
   "metadata": {},
   "outputs": [
    {
     "name": "stdout",
     "output_type": "stream",
     "text": [
      "['admin', 'config', 'eduhub_db', 'feyialtdb', 'local']\n",
      "['submissions', 'courses', 'altuserschema', 'lessons', 'users', 'enrollments', 'altcourseschema', 'assignments']\n"
     ]
    }
   ],
   "source": [
    "#list database and collections\n",
    "\n",
    "print (client.list_database_names())\n",
    "\n",
    "print (db.list_collection_names())\n"
   ]
  },
  {
   "cell_type": "code",
   "execution_count": null,
   "id": "7b720833",
   "metadata": {},
   "outputs": [],
   "source": []
  },
  {
   "cell_type": "markdown",
   "id": "1e902f38",
   "metadata": {},
   "source": [
    "*Using find one method to verify users_schema validity*"
   ]
  },
  {
   "cell_type": "code",
   "execution_count": 49,
   "id": "9a160bcf",
   "metadata": {},
   "outputs": [
    {
     "name": "stdout",
     "output_type": "stream",
     "text": [
      "\n",
      "Sample document:\n",
      "{'_id': ObjectId('68471a62f4edaac75f735ec3'), 'user_id': 'U001', 'first_name': 'Anna', 'last_name': 'Drake', 'date_joined': datetime.datetime(2024, 11, 19, 13, 21, 10), 'role': 'instructor', 'profile': {'bio': 'Committed to creating impactful learning experiences.', 'avatar': 'https://api.dicebear.com/6.x/thumbs/svg?seed=Rocket', 'skills': ['ETL', 'MongoDB', 'Data Engineering'], 'is_active': False}}\n"
     ]
    }
   ],
   "source": [
    "sample = collection6.find_one()\n",
    "print (\"\\nSample document:\")\n",
    "print (sample)"
   ]
  },
  {
   "cell_type": "code",
   "execution_count": null,
   "id": "c88d74b0",
   "metadata": {},
   "outputs": [],
   "source": []
  },
  {
   "cell_type": "markdown",
   "id": "1f9dfa8a",
   "metadata": {},
   "source": [
    "*Create COURSE_SCHEMA*"
   ]
  },
  {
   "cell_type": "code",
   "execution_count": null,
   "id": "e38cbcf8",
   "metadata": {},
   "outputs": [],
   "source": [
    "\n",
    "\n",
    "# Preselected options\n",
    "categories = [\"Data Engineering\", \"Web Development\", \"Cloud Computing\", \"AI\", \"DevOps\"]\n",
    "levels = [\"beginner\", \"intermediate\", \"advanced\"]\n",
    "tags = [\n",
    "    \"project-based\", \"career-ready\", \"hands-on\", \"real-world\", \"certification\",\n",
    "    \"mentor-supported\", \"interactive\", \"video-tutorials\", \"downloadable-resources\",\n",
    "    \"quiz-included\", \"assignment-driven\", \"lifetime-access\", \"community-support\",\n",
    "    \"interview-prep\", \"beginner-friendly\"\n",
    "]\n",
    "descriptions = [\n",
    "    \"Learn how to build scalable data pipelines using modern tools and best practices.\",\n",
    "    \"This course introduces you to web development using HTML, CSS, and JavaScript.\",\n",
    "    \"Master cloud infrastructure and deployment using AWS, Docker, and Kubernetes.\",\n",
    "    \"Understand core machine learning concepts with hands-on Python projects.\",\n",
    "    \"Get started with databases and SQL for data analysis and backend development.\",\n",
    "    \"Develop a strong foundation in data engineering with real-world ETL scenarios.\",\n",
    "    \"Explore modern DevOps workflows, CI/CD pipelines, and monitoring strategies.\",\n",
    "    \"Learn to build REST APIs and microservices with Flask and Django.\",\n",
    "    \"Gain experience in big data technologies like Spark and Hadoop.\",\n",
    "    \"Prepare for a career in AI with deep learning and neural network fundamentals.\"\n",
    "]\n",
    "\n",
    "titles = [\n",
    "    \"Python for Beginners\",\n",
    "    \"Data Engineering with Python\",\n",
    "    \"MongoDB for Developers\",\n",
    "    \"Big Data Processing with Spark\",\n",
    "    \"Machine Learning with scikit-learn\",\n",
    "    \"Deep Learning with TensorFlow\",\n",
    "    \"Data Visualization with Seaborn\",\n",
    "    \"AWS Cloud Fundamentals\",\n",
    "    \"Building REST APIs with FastAPI\",\n",
    "    \"Kubernetes for Developers\",\n",
    "    \"Unit Testing in Python\",\n",
    "    \"Git & GitHub for Collaboration\",\n",
    "    \"Clean Code and Refactoring\",\n",
    "    \"Computer Vision with OpenCV\",\n",
    "    \"Deploying Applications with Docker\"\n",
    "]\n",
    "\n",
    "# Simulated instructor user_ids (replace with real ones later)\n",
    "instructor_ids = [f\"U{str(i).zfill(3)}\" for i in range(1, 41)]\n",
    "\n",
    "# Generate courses\n",
    "course_schema = []\n",
    "\n",
    "for i in range(1, 101):\n",
    "    course = {\n",
    "        \"_id\": ObjectId(),\n",
    "        \"course_id\": f\"C{str(i).zfill(3)}\",\n",
    "        \"title\": random.choice(titles),\n",
    "        \"description\": random.choice(descriptions),\n",
    "        \"instructor_id\": random.choice(instructor_ids),\n",
    "        \"category\": random.choice(categories),\n",
    "        \"level\": random.choice(levels),\n",
    "        \"duration\": random.randint(5, 60),  # hours\n",
    "        \"price\": random.choice([0, 3000, 5000, 10000, 20000]), \n",
    "        \"tags\": random.sample(tags, k=3),\n",
    "        \"created_at\": fake.date_time_between(start_date=\"-6M\", end_date=\"now\"),\n",
    "        \"updated_at\": datetime.now(),\n",
    "        \"is_published\": random.choice([True, False])\n",
    "    }\n",
    "\n",
    "    course_schema.append(course)"
   ]
  },
  {
   "cell_type": "code",
   "execution_count": null,
   "id": "545a381b",
   "metadata": {},
   "outputs": [],
   "source": []
  },
  {
   "cell_type": "markdown",
   "id": "a1f7e1a9",
   "metadata": {},
   "source": [
    "*Insert COURSE_SCHEMA into Mongo Compass*"
   ]
  },
  {
   "cell_type": "code",
   "execution_count": 51,
   "id": "94a10c12",
   "metadata": {},
   "outputs": [
    {
     "name": "stdout",
     "output_type": "stream",
     "text": [
      "documents inserted\n"
     ]
    }
   ],
   "source": [
    "collection7.insert_many(course_schema)\n",
    "print(\"documents inserted\")"
   ]
  },
  {
   "cell_type": "code",
   "execution_count": null,
   "id": "b269620d",
   "metadata": {},
   "outputs": [],
   "source": []
  },
  {
   "cell_type": "markdown",
   "id": "c5696d31",
   "metadata": {},
   "source": [
    "*Using find_one method to verify the validity of COURSE_SCHEMA*"
   ]
  },
  {
   "cell_type": "code",
   "execution_count": 53,
   "id": "cd2c8e67",
   "metadata": {},
   "outputs": [
    {
     "data": {
      "text/plain": [
       "{'_id': ObjectId('68471a8cf4edaac75f735f27'),\n",
       " 'course_id': 'C001',\n",
       " 'title': 'Big Data Processing with Spark',\n",
       " 'description': 'This course introduces you to web development using HTML, CSS, and JavaScript.',\n",
       " 'instructor_id': 'U030',\n",
       " 'category': 'AI',\n",
       " 'level': 'beginner',\n",
       " 'duration': 47,\n",
       " 'price': 10000,\n",
       " 'tags': ['project-based', 'quiz-included', 'beginner-friendly'],\n",
       " 'created_at': datetime.datetime(2025, 2, 13, 12, 25),\n",
       " 'updated_at': datetime.datetime(2025, 6, 9, 18, 31, 56, 900000),\n",
       " 'is_published': True}"
      ]
     },
     "execution_count": 53,
     "metadata": {},
     "output_type": "execute_result"
    }
   ],
   "source": [
    "new = collection7.find_one()\n",
    "new"
   ]
  },
  {
   "cell_type": "code",
   "execution_count": null,
   "id": "badce706",
   "metadata": {},
   "outputs": [],
   "source": []
  },
  {
   "cell_type": "markdown",
   "id": "638507f1",
   "metadata": {},
   "source": [
    "*TASK 2.1 : INSERT SAMPLE DATA*"
   ]
  },
  {
   "cell_type": "markdown",
   "id": "6a8243da",
   "metadata": {},
   "source": [
    "*20 users (mix of students and instructors)*"
   ]
  },
  {
   "cell_type": "code",
   "execution_count": null,
   "id": "15b9d1d3",
   "metadata": {},
   "outputs": [
    {
     "data": {
      "text/plain": [
       "InsertManyResult([ObjectId('68471d51f4edaac75f735fb3'), ObjectId('68471d51f4edaac75f735fb4'), ObjectId('68471d51f4edaac75f735fb5'), ObjectId('68471d51f4edaac75f735fb6'), ObjectId('68471d51f4edaac75f735fb7'), ObjectId('68471d51f4edaac75f735fb8'), ObjectId('68471d51f4edaac75f735fb9'), ObjectId('68471d51f4edaac75f735fba'), ObjectId('68471d51f4edaac75f735fbb'), ObjectId('68471d51f4edaac75f735fbc'), ObjectId('68471d51f4edaac75f735fbd'), ObjectId('68471d51f4edaac75f735fbe'), ObjectId('68471d51f4edaac75f735fbf'), ObjectId('68471d51f4edaac75f735fc0'), ObjectId('68471d51f4edaac75f735fc1'), ObjectId('68471d51f4edaac75f735fc2'), ObjectId('68471d51f4edaac75f735fc3'), ObjectId('68471d51f4edaac75f735fc4'), ObjectId('68471d51f4edaac75f735fc5'), ObjectId('68471d51f4edaac75f735fc6')], acknowledged=True)"
      ]
     },
     "execution_count": 56,
     "metadata": {},
     "output_type": "execute_result"
    }
   ],
   "source": [
    "#20 users (mix of students and instructors)\n",
    "coll_users = []\n",
    "coll_roles = ([\"student\"] * 15 + [\"instructor\"] * 5)\n",
    "\n",
    "for role in coll_roles:\n",
    "    coll_user = {\n",
    "        \"name\": fake.name(),\n",
    "        \"email\": fake.email(),\n",
    "        \"role\": role,\n",
    "        \"created_at\": datetime.now()\n",
    "    }\n",
    "    coll_users.append(coll_user)\n",
    "\n",
    "# Insert into MongoDB\n",
    "db[\"users\"].insert_many(coll_users)"
   ]
  },
  {
   "cell_type": "code",
   "execution_count": null,
   "id": "6ed17cb2",
   "metadata": {},
   "outputs": [],
   "source": []
  },
  {
   "cell_type": "markdown",
   "id": "eba32748",
   "metadata": {},
   "source": [
    "*Create collection for 8 courses across different categories*"
   ]
  },
  {
   "cell_type": "code",
   "execution_count": 58,
   "id": "b192ac81",
   "metadata": {},
   "outputs": [
    {
     "data": {
      "text/plain": [
       "InsertManyResult([ObjectId('68471f77f4edaac75f735fcf'), ObjectId('68471f77f4edaac75f735fd0'), ObjectId('68471f77f4edaac75f735fd1'), ObjectId('68471f77f4edaac75f735fd2'), ObjectId('68471f77f4edaac75f735fd3'), ObjectId('68471f77f4edaac75f735fd4'), ObjectId('68471f77f4edaac75f735fd5'), ObjectId('68471f77f4edaac75f735fd6')], acknowledged=True)"
      ]
     },
     "execution_count": 58,
     "metadata": {},
     "output_type": "execute_result"
    }
   ],
   "source": [
    "#8 courses across different categories\n",
    "course_titles = [\n",
    "    \"Python for Beginners\", \"Data Engineering with Python\", \"MongoDB for Developers\",\n",
    "    \"Big Data Processing with Spark\", \"Machine Learning with scikit-learn\",\n",
    "    \"Deep Learning with TensorFlow\", \"AWS Cloud Fundamentals\", \"Docker for Developers\",\n",
    "    \"Kubernetes for Developers\", \"Git & GitHub for Collaboration\"\n",
    "]\n",
    "\n",
    "coll_courses = []\n",
    "\n",
    "for course_title in course_titles[:8]:  # Pick first 8\n",
    "    course1 = {\n",
    "        \"title\": course_title,\n",
    "        \"description\": fake.paragraph(),\n",
    "    }\n",
    "    coll_courses.append(course1)\n",
    "\n",
    "# Insert into MongoDB\n",
    "db[\"courses\"].insert_many(coll_courses)\n"
   ]
  },
  {
   "cell_type": "code",
   "execution_count": null,
   "id": "a24b3eaa",
   "metadata": {},
   "outputs": [],
   "source": []
  },
  {
   "cell_type": "markdown",
   "id": "83993bf8",
   "metadata": {},
   "source": [
    "*Create collection for 15 enrollments*"
   ]
  },
  {
   "cell_type": "code",
   "execution_count": 59,
   "id": "5d1b4789",
   "metadata": {},
   "outputs": [
    {
     "data": {
      "text/plain": [
       "InsertManyResult([ObjectId('684721e7f4edaac75f735fd7'), ObjectId('684721e7f4edaac75f735fd8'), ObjectId('684721e7f4edaac75f735fd9'), ObjectId('684721e7f4edaac75f735fda'), ObjectId('684721e7f4edaac75f735fdb'), ObjectId('684721e7f4edaac75f735fdc'), ObjectId('684721e7f4edaac75f735fdd'), ObjectId('684721e7f4edaac75f735fde'), ObjectId('684721e7f4edaac75f735fdf'), ObjectId('684721e7f4edaac75f735fe0'), ObjectId('684721e7f4edaac75f735fe1'), ObjectId('684721e7f4edaac75f735fe2'), ObjectId('684721e7f4edaac75f735fe3'), ObjectId('684721e7f4edaac75f735fe4'), ObjectId('684721e7f4edaac75f735fe5')], acknowledged=True)"
      ]
     },
     "execution_count": 59,
     "metadata": {},
     "output_type": "execute_result"
    }
   ],
   "source": [
    "#15 enrollments\n",
    "\n",
    "# Get inserted users and courses from MongoDB\n",
    "enr_users = list(db[\"users\"].find({}))\n",
    "enr_courses = list(db[\"courses\"].find({}))\n",
    "\n",
    "# Filter only student users\n",
    "student_ids = [user[\"_id\"] for user in enr_users if user[\"role\"] == \"student\"]\n",
    "course_ids = [course[\"_id\"] for course in enr_courses]\n",
    "\n",
    "enrollments = []\n",
    "\n",
    "for _ in range(15):\n",
    "    enrollment = {\n",
    "        \"student_id\": random.choice(student_ids),\n",
    "        \"course_id\": random.choice(course_ids),\n",
    "        \"enrolled_on\": datetime.now()\n",
    "    }\n",
    "    enrollments.append(enrollment)\n",
    "\n",
    "# Insert into MongoDB\n",
    "db[\"enrollments\"].insert_many(enrollments)"
   ]
  },
  {
   "cell_type": "code",
   "execution_count": null,
   "id": "ad8d5906",
   "metadata": {},
   "outputs": [],
   "source": []
  },
  {
   "cell_type": "markdown",
   "id": "cd3321ed",
   "metadata": {},
   "source": [
    "*Create collection for 25 lessons*"
   ]
  },
  {
   "cell_type": "code",
   "execution_count": null,
   "id": "4c66d382",
   "metadata": {},
   "outputs": [
    {
     "data": {
      "text/plain": [
       "InsertManyResult([ObjectId('684722abf4edaac75f735fe6'), ObjectId('684722abf4edaac75f735fe7'), ObjectId('684722abf4edaac75f735fe8'), ObjectId('684722abf4edaac75f735fe9'), ObjectId('684722abf4edaac75f735fea'), ObjectId('684722abf4edaac75f735feb'), ObjectId('684722abf4edaac75f735fec'), ObjectId('684722abf4edaac75f735fed'), ObjectId('684722abf4edaac75f735fee'), ObjectId('684722abf4edaac75f735fef'), ObjectId('684722abf4edaac75f735ff0'), ObjectId('684722abf4edaac75f735ff1'), ObjectId('684722abf4edaac75f735ff2'), ObjectId('684722abf4edaac75f735ff3'), ObjectId('684722abf4edaac75f735ff4'), ObjectId('684722abf4edaac75f735ff5'), ObjectId('684722abf4edaac75f735ff6'), ObjectId('684722abf4edaac75f735ff7'), ObjectId('684722abf4edaac75f735ff8'), ObjectId('684722abf4edaac75f735ff9'), ObjectId('684722abf4edaac75f735ffa'), ObjectId('684722abf4edaac75f735ffb'), ObjectId('684722abf4edaac75f735ffc'), ObjectId('684722abf4edaac75f735ffd'), ObjectId('684722abf4edaac75f735ffe')], acknowledged=True)"
      ]
     },
     "execution_count": 60,
     "metadata": {},
     "output_type": "execute_result"
    }
   ],
   "source": [
    "#25 lessons\n",
    "\n",
    "lessons = []\n",
    "\n",
    "# Get existing courses from the DB\n",
    "lesson_courses = list(db[\"courses\"].find({}))\n",
    "\n",
    "for _ in range(25):\n",
    "    lesson = {\n",
    "        \"course_id\": random.choice(lesson_courses)[\"_id\"],\n",
    "        \"title\": random.choice(titles)\n",
    "        ,\n",
    "        \"content\": fake.paragraph(nb_sentences=5),\n",
    "        \"created_at\": datetime.now()\n",
    "    }\n",
    "    lessons.append(lesson)\n",
    "\n",
    "# Insert into MongoDB\n",
    "db[\"lessons\"].insert_many(lessons)"
   ]
  },
  {
   "cell_type": "code",
   "execution_count": null,
   "id": "63c1d3a1",
   "metadata": {},
   "outputs": [],
   "source": []
  },
  {
   "cell_type": "markdown",
   "id": "6c2f6332",
   "metadata": {},
   "source": [
    "*Create collections for 10 assignments*"
   ]
  },
  {
   "cell_type": "code",
   "execution_count": 62,
   "id": "c825cf08",
   "metadata": {},
   "outputs": [
    {
     "data": {
      "text/plain": [
       "InsertManyResult([ObjectId('68472445f4edaac75f736009'), ObjectId('68472445f4edaac75f73600a'), ObjectId('68472445f4edaac75f73600b'), ObjectId('68472445f4edaac75f73600c'), ObjectId('68472445f4edaac75f73600d'), ObjectId('68472445f4edaac75f73600e'), ObjectId('68472445f4edaac75f73600f'), ObjectId('68472445f4edaac75f736010'), ObjectId('68472445f4edaac75f736011'), ObjectId('68472445f4edaac75f736012')], acknowledged=True)"
      ]
     },
     "execution_count": 62,
     "metadata": {},
     "output_type": "execute_result"
    }
   ],
   "source": [
    "#10 assignments\n",
    "\n",
    "assignments = []\n",
    "\n",
    "# Get lessons from DB\n",
    "assn_lessons = list(db[\"lessons\"].find({}))\n",
    "\n",
    "for _ in range(10):\n",
    "    assn_lesson = random.choice(assn_lessons)\n",
    "    assignment = {\n",
    "        \"lesson_id\": lesson[\"_id\"],\n",
    "        \"title\": random.choice(titles),\n",
    "        \"instructions\": fake.paragraph(nb_sentences=3),\n",
    "        \"due_date\": fake.future_datetime(end_date=\"+10d\")\n",
    "    }\n",
    "    assignments.append(assignment)\n",
    "\n",
    "# Insert into MongoDB\n",
    "db[\"assignments\"].insert_many(assignments)"
   ]
  },
  {
   "cell_type": "code",
   "execution_count": 63,
   "id": "c776a55c",
   "metadata": {},
   "outputs": [
    {
     "data": {
      "text/plain": [
       "InsertManyResult([ObjectId('6847253cf4edaac75f736013'), ObjectId('6847253cf4edaac75f736014'), ObjectId('6847253cf4edaac75f736015'), ObjectId('6847253cf4edaac75f736016'), ObjectId('6847253cf4edaac75f736017'), ObjectId('6847253cf4edaac75f736018'), ObjectId('6847253cf4edaac75f736019'), ObjectId('6847253cf4edaac75f73601a'), ObjectId('6847253cf4edaac75f73601b'), ObjectId('6847253cf4edaac75f73601c'), ObjectId('6847253cf4edaac75f73601d'), ObjectId('6847253cf4edaac75f73601e')], acknowledged=True)"
      ]
     },
     "execution_count": 63,
     "metadata": {},
     "output_type": "execute_result"
    }
   ],
   "source": [
    "#12 assignment submissions\n",
    "\n",
    "subm_assignments = list(db[\"assignments\"].find({}))\n",
    "subm_users = list(db[\"users\"].find({\"role\": \"student\"}))\n",
    "\n",
    "submissions = []\n",
    "\n",
    "for _ in range(12):\n",
    "    submission = {\n",
    "        \"assignment_id\": random.choice(subm_assignments)[\"_id\"],\n",
    "        \"sub_student_id\": random.choice(subm_users)[\"_id\"],\n",
    "        \"sub_submitted_on\": datetime.now(),\n",
    "        \"content\": fake.paragraph(nb_sentences=4),\n",
    "        \"grade\": random.choice([\"A\", \"B\", \"C\", \"D\", \"F\"])\n",
    "    }\n",
    "    submissions.append(submission)\n",
    "\n",
    "# Insert into MongoDB\n",
    "db[\"submissions\"].insert_many(submissions)"
   ]
  },
  {
   "cell_type": "code",
   "execution_count": null,
   "id": "adcd0fdd",
   "metadata": {},
   "outputs": [],
   "source": []
  },
  {
   "cell_type": "markdown",
   "id": "3b39fd44",
   "metadata": {},
   "source": [
    "*TASK 2.2 : DATA RELATIONSHIP*"
   ]
  },
  {
   "cell_type": "markdown",
   "id": "536d936b",
   "metadata": {},
   "source": [
    "\n",
    "Proper referential relationships were established between all collections by using consistent and appropriate field references. Specifically:\n",
    "\n",
    " • The enrollments collection references both the users collection (student_id) and the courses collection (course_id) to link students to the courses they are enrolled in.\n",
    "\n",
    " • The courses collection includes a reference to the instructor via instructor_id, which points to the relevant document in the users collection.\n",
    "\n",
    " • The lessons collection is linked to specific courses through course_id, maintaining a clear association between course content and structure.\n",
    "\n",
    " • The assignments collection is also tied to courses using course_id, ensuring each assignment is properly scoped within its course.\n",
    "\n",
    " • The submissions collection uses both assignment_id and student_id to connect student work to specific assignments and users.\n",
    " \n",
    "These field references were implemented using MongoDB ObjectIds to enforce logical connections and support efficient lookups and aggregations across collections.\n"
   ]
  },
  {
   "cell_type": "code",
   "execution_count": null,
   "id": "cde98d4d",
   "metadata": {},
   "outputs": [],
   "source": []
  },
  {
   "cell_type": "markdown",
   "id": "f9a3ea2c",
   "metadata": {},
   "source": [
    "*PART 3: BASIC CRUD OPERATIONS*"
   ]
  },
  {
   "cell_type": "markdown",
   "id": "cdee3766",
   "metadata": {},
   "source": [
    "*TASK 3.1 : Create Operations using pymongo to write python code to perform the following operations*"
   ]
  },
  {
   "cell_type": "markdown",
   "id": "fe3f249b",
   "metadata": {},
   "source": [
    "*1 : Add a new student user*"
   ]
  },
  {
   "cell_type": "code",
   "execution_count": 64,
   "id": "af735f13",
   "metadata": {},
   "outputs": [
    {
     "name": "stdout",
     "output_type": "stream",
     "text": [
      "New student ID: 6847f8ecf4edaac75f73601f\n"
     ]
    },
    {
     "name": "stderr",
     "output_type": "stream",
     "text": [
      "C:\\Users\\hello\\AppData\\Local\\Temp\\ipykernel_5900\\1577251295.py:7: DeprecationWarning: datetime.datetime.utcnow() is deprecated and scheduled for removal in a future version. Use timezone-aware objects to represent datetimes in UTC: datetime.datetime.now(datetime.UTC).\n",
      "  \"created_at\": datetime.utcnow()\n"
     ]
    }
   ],
   "source": [
    "#add a new student user\n",
    "\n",
    "new_student = {\n",
    "    \"name\": \"Tobi Lawal\",\n",
    "    \"email\": \"tobi.lawal@student.com\",\n",
    "    \"role\": \"student\",\n",
    "    \"created_at\": datetime.utcnow()\n",
    "}\n",
    "\n",
    "student_result = db.altuserschema.insert_one(new_student)\n",
    "student_id = student_result.inserted_id\n",
    "print(\"New student ID:\", student_id)"
   ]
  },
  {
   "cell_type": "code",
   "execution_count": null,
   "id": "a641c09d",
   "metadata": {},
   "outputs": [],
   "source": []
  },
  {
   "cell_type": "markdown",
   "id": "1e73e8e3",
   "metadata": {},
   "source": [
    "*2 : Create a new course*"
   ]
  },
  {
   "cell_type": "code",
   "execution_count": 65,
   "id": "5caca723",
   "metadata": {},
   "outputs": [
    {
     "name": "stdout",
     "output_type": "stream",
     "text": [
      "New course ID: 6847f9e8f4edaac75f736020\n"
     ]
    },
    {
     "name": "stderr",
     "output_type": "stream",
     "text": [
      "C:\\Users\\hello\\AppData\\Local\\Temp\\ipykernel_5900\\483359684.py:13: DeprecationWarning: datetime.datetime.utcnow() is deprecated and scheduled for removal in a future version. Use timezone-aware objects to represent datetimes in UTC: datetime.datetime.now(datetime.UTC).\n",
      "  \"created_at\": datetime.utcnow()\n"
     ]
    }
   ],
   "source": [
    "#create a new course\n",
    "\n",
    "# Get the first instructor from the users collection\n",
    "instructor = db.altuserschema.find_one({\"role\": \"instructor\"})\n",
    "\n",
    "if instructor:\n",
    "    new_course = {\n",
    "        \"title\": \"Databases Design Fundamentals\",\n",
    "        \"description\": \"Learning relational and NoSQL DB design.\",\n",
    "        \"category\": \"Database\",\n",
    "        \"instructor_id\": instructor[\"_id\"],\n",
    "        \"price\": 20000,\n",
    "        \"created_at\": datetime.utcnow()\n",
    "    }\n",
    "\n",
    "    course_result = db.courses.insert_one(new_course)\n",
    "    course_id = course_result.inserted_id\n",
    "    print(\"New course ID:\", course_id)\n",
    "else:\n",
    "    print(\"No instructor found. Please add one.\")"
   ]
  },
  {
   "cell_type": "code",
   "execution_count": null,
   "id": "ca0eebc1",
   "metadata": {},
   "outputs": [],
   "source": []
  },
  {
   "cell_type": "markdown",
   "id": "4916cbe9",
   "metadata": {},
   "source": [
    "*3: Enroll a student in a course*"
   ]
  },
  {
   "cell_type": "code",
   "execution_count": null,
   "id": "a2009aaf",
   "metadata": {},
   "outputs": [
    {
     "name": "stdout",
     "output_type": "stream",
     "text": [
      "Enrollment ID: 6847fa76f4edaac75f736021\n"
     ]
    },
    {
     "name": "stderr",
     "output_type": "stream",
     "text": [
      "C:\\Users\\hello\\AppData\\Local\\Temp\\ipykernel_5900\\26592229.py:7: DeprecationWarning: datetime.datetime.utcnow() is deprecated and scheduled for removal in a future version. Use timezone-aware objects to represent datetimes in UTC: datetime.datetime.now(datetime.UTC).\n",
      "  \"enrolled_at\": datetime.utcnow()\n"
     ]
    }
   ],
   "source": [
    "#enroll a student in a course\n",
    "\n",
    "if instructor:\n",
    "    new_enrollment = {\n",
    "        \"user_id\": student_id,\n",
    "        \"course_id\": course_id,\n",
    "        \"enrolled_at\": datetime.utcnow()\n",
    "    }\n",
    "\n",
    "    enroll_result = db.enrollments.insert_one(new_enrollment)\n",
    "    print(\"Enrollment ID:\", enroll_result.inserted_id)"
   ]
  },
  {
   "cell_type": "code",
   "execution_count": null,
   "id": "fb9d9c58",
   "metadata": {},
   "outputs": [],
   "source": []
  },
  {
   "cell_type": "markdown",
   "id": "e55f6243",
   "metadata": {},
   "source": [
    "*4: Add a new lesson to an existing course*"
   ]
  },
  {
   "cell_type": "code",
   "execution_count": 67,
   "id": "4f73700f",
   "metadata": {},
   "outputs": [
    {
     "name": "stdout",
     "output_type": "stream",
     "text": [
      "Lesson ID: 6847fb27f4edaac75f736022\n"
     ]
    },
    {
     "name": "stderr",
     "output_type": "stream",
     "text": [
      "C:\\Users\\hello\\AppData\\Local\\Temp\\ipykernel_5900\\1173252099.py:9: DeprecationWarning: datetime.datetime.utcnow() is deprecated and scheduled for removal in a future version. Use timezone-aware objects to represent datetimes in UTC: datetime.datetime.now(datetime.UTC).\n",
      "  \"created_at\": datetime.utcnow()\n"
     ]
    }
   ],
   "source": [
    "#add a new lesson to an existing course\n",
    "\n",
    "if instructor:\n",
    "    new_lesson = {\n",
    "        \"course_id\": course_id,\n",
    "        \"title\": \"Relational vs NoSQL Databases\",\n",
    "        \"content\": \"Differences, use cases, and trade-offs.\",\n",
    "        \"duration_minutes\": 40,\n",
    "        \"created_at\": datetime.utcnow()\n",
    "    }\n",
    "\n",
    "    lesson_result = db.lessons.insert_one(new_lesson)\n",
    "    print(\"Lesson ID:\", lesson_result.inserted_id)"
   ]
  },
  {
   "cell_type": "code",
   "execution_count": null,
   "id": "852b862d",
   "metadata": {},
   "outputs": [],
   "source": []
  },
  {
   "cell_type": "markdown",
   "id": "e1cc77cd",
   "metadata": {},
   "source": [
    "*TASK 3.2 : READ OPERATIONS*"
   ]
  },
  {
   "cell_type": "markdown",
   "id": "88df3632",
   "metadata": {},
   "source": [
    "*WRITE PYTHON QUERIES TO PERFORM THE FOLOWING*"
   ]
  },
  {
   "cell_type": "markdown",
   "id": "f4d8619f",
   "metadata": {},
   "source": [
    "*1: Find all active students*"
   ]
  },
  {
   "cell_type": "code",
   "execution_count": null,
   "id": "9fbcfeb6",
   "metadata": {},
   "outputs": [
    {
     "name": "stdout",
     "output_type": "stream",
     "text": [
      "{'_id': ObjectId('68471a62f4edaac75f735ec4'), 'user_id': 'U002', 'first_name': 'Eddie', 'last_name': 'Wade', 'date_joined': datetime.datetime(2025, 5, 3, 13, 8, 17), 'role': 'student', 'profile': {'bio': 'Passionate about lifelong learning and sharing knowledge.', 'avatar': 'https://api.dicebear.com/6.x/thumbs/svg?seed=Nova', 'skills': ['SQL', 'Python', 'Docker'], 'is_active': True}}\n",
      "{'_id': ObjectId('68471a62f4edaac75f735ec5'), 'user_id': 'U003', 'first_name': 'William', 'last_name': 'Mcguire', 'date_joined': datetime.datetime(2025, 3, 23, 23, 59, 26), 'role': 'student', 'profile': {'bio': 'Loves to solve problems through technology and data.', 'avatar': 'https://api.dicebear.com/6.x/thumbs/svg?seed=Pixel', 'skills': ['Docker', 'SQL', 'Data Engineering'], 'is_active': True}}\n",
      "{'_id': ObjectId('68471a62f4edaac75f735ec7'), 'user_id': 'U005', 'first_name': 'Kayla', 'last_name': 'Powell', 'date_joined': datetime.datetime(2024, 9, 16, 3, 24, 34), 'role': 'student', 'profile': {'bio': 'Helping students grow into world-class developers.', 'avatar': 'https://api.dicebear.com/6.x/thumbs/svg?seed=Rocket', 'skills': ['Machine Learning', 'Docker', 'JavaScript'], 'is_active': True}}\n",
      "{'_id': ObjectId('68471a62f4edaac75f735ec8'), 'user_id': 'U006', 'first_name': 'Samuel', 'last_name': 'Spencer', 'date_joined': datetime.datetime(2025, 4, 27, 2, 35, 8), 'role': 'student', 'profile': {'bio': 'Committed to creating impactful learning experiences.', 'avatar': 'https://api.dicebear.com/6.x/thumbs/svg?seed=Orion', 'skills': ['JavaScript', 'MongoDB', 'Cloud Computing'], 'is_active': True}}\n",
      "{'_id': ObjectId('68471a62f4edaac75f735ec9'), 'user_id': 'U007', 'first_name': 'Natalie', 'last_name': 'Austin', 'date_joined': datetime.datetime(2024, 9, 12, 4, 25, 6), 'role': 'student', 'profile': {'bio': 'Helping students grow into world-class developers.', 'avatar': 'https://api.dicebear.com/6.x/thumbs/svg?seed=Delta', 'skills': ['APIs', 'Data Engineering', 'MongoDB'], 'is_active': False}}\n",
      "{'_id': ObjectId('68471a62f4edaac75f735ecb'), 'user_id': 'U009', 'first_name': 'Robert', 'last_name': 'Fuller', 'date_joined': datetime.datetime(2025, 4, 2, 10, 46, 1), 'role': 'student', 'profile': {'bio': 'Loves to solve problems through technology and data.', 'avatar': 'https://api.dicebear.com/6.x/thumbs/svg?seed=Nova', 'skills': ['APIs', 'Docker', 'Python'], 'is_active': True}}\n",
      "{'_id': ObjectId('68471a62f4edaac75f735ecc'), 'user_id': 'U010', 'first_name': 'George', 'last_name': 'Barton', 'date_joined': datetime.datetime(2025, 6, 4, 10, 58, 11), 'role': 'student', 'profile': {'bio': 'Committed to creating impactful learning experiences.', 'avatar': 'https://api.dicebear.com/6.x/thumbs/svg?seed=Alpha', 'skills': ['Data Engineering', 'Cloud Computing', 'Python'], 'is_active': True}}\n",
      "{'_id': ObjectId('68471a62f4edaac75f735ecd'), 'user_id': 'U011', 'first_name': 'Alexander', 'last_name': 'Porter', 'date_joined': datetime.datetime(2024, 9, 30, 23, 36, 24), 'role': 'student', 'profile': {'bio': 'Driven by curiosity and a desire to build meaningful things.', 'avatar': 'https://api.dicebear.com/6.x/thumbs/svg?seed=Rocket', 'skills': ['ETL', 'Python', 'SQL'], 'is_active': True}}\n",
      "{'_id': ObjectId('68471a62f4edaac75f735ece'), 'user_id': 'U012', 'first_name': 'Bryan', 'last_name': 'Carney', 'date_joined': datetime.datetime(2025, 4, 25, 2, 56, 7), 'role': 'student', 'profile': {'bio': 'Helping students grow into world-class developers.', 'avatar': 'https://api.dicebear.com/6.x/thumbs/svg?seed=Zeta', 'skills': ['Machine Learning', 'SQL', 'APIs'], 'is_active': False}}\n",
      "{'_id': ObjectId('68471a62f4edaac75f735ecf'), 'user_id': 'U013', 'first_name': 'Taylor', 'last_name': 'Walker', 'date_joined': datetime.datetime(2024, 12, 5, 3, 46, 11), 'role': 'student', 'profile': {'bio': 'Committed to creating impactful learning experiences.', 'avatar': 'https://api.dicebear.com/6.x/thumbs/svg?seed=Beta', 'skills': ['MongoDB', 'Machine Learning', 'ETL'], 'is_active': False}}\n",
      "{'_id': ObjectId('68471a62f4edaac75f735ed2'), 'user_id': 'U016', 'first_name': 'Michael', 'last_name': 'Carson', 'date_joined': datetime.datetime(2024, 6, 27, 2, 26, 59), 'role': 'student', 'profile': {'bio': 'Passionate about lifelong learning and sharing knowledge.', 'avatar': 'https://api.dicebear.com/6.x/thumbs/svg?seed=Zeta', 'skills': ['Docker', 'SQL', 'Python'], 'is_active': True}}\n",
      "{'_id': ObjectId('68471a62f4edaac75f735ed3'), 'user_id': 'U017', 'first_name': 'Andrew', 'last_name': 'Ramirez', 'date_joined': datetime.datetime(2025, 2, 27, 10, 39, 39), 'role': 'student', 'profile': {'bio': 'Loves to solve problems through technology and data.', 'avatar': 'https://api.dicebear.com/6.x/thumbs/svg?seed=Orion', 'skills': ['APIs', 'SQL', 'Python'], 'is_active': True}}\n",
      "{'_id': ObjectId('68471a62f4edaac75f735ed4'), 'user_id': 'U018', 'first_name': 'Michelle', 'last_name': 'Brewer', 'date_joined': datetime.datetime(2024, 12, 25, 17, 24, 2), 'role': 'student', 'profile': {'bio': 'Helping students grow into world-class developers.', 'avatar': 'https://api.dicebear.com/6.x/thumbs/svg?seed=Rocket', 'skills': ['ETL', 'Docker', 'APIs'], 'is_active': False}}\n",
      "{'_id': ObjectId('68471a62f4edaac75f735ed5'), 'user_id': 'U019', 'first_name': 'Ashley', 'last_name': 'Cain', 'date_joined': datetime.datetime(2024, 7, 25, 10, 29, 7), 'role': 'student', 'profile': {'bio': 'Driven by curiosity and a desire to build meaningful things.', 'avatar': 'https://api.dicebear.com/6.x/thumbs/svg?seed=Alpha', 'skills': ['MongoDB', 'Machine Learning', 'Docker'], 'is_active': False}}\n",
      "{'_id': ObjectId('68471a62f4edaac75f735ed7'), 'user_id': 'U021', 'first_name': 'Deborah', 'last_name': 'Kelly', 'date_joined': datetime.datetime(2024, 10, 24, 17, 43, 17), 'role': 'student', 'profile': {'bio': 'Committed to creating impactful learning experiences.', 'avatar': 'https://api.dicebear.com/6.x/thumbs/svg?seed=Pixel', 'skills': ['APIs', 'SQL', 'Docker'], 'is_active': True}}\n",
      "{'_id': ObjectId('68471a62f4edaac75f735ed8'), 'user_id': 'U022', 'first_name': 'Thomas', 'last_name': 'Gross', 'date_joined': datetime.datetime(2025, 1, 20, 2, 34, 21), 'role': 'student', 'profile': {'bio': 'Helping students grow into world-class developers.', 'avatar': 'https://api.dicebear.com/6.x/thumbs/svg?seed=Alpha', 'skills': ['JavaScript', 'Machine Learning', 'Data Engineering'], 'is_active': False}}\n",
      "{'_id': ObjectId('68471a62f4edaac75f735eda'), 'user_id': 'U024', 'first_name': 'Ross', 'last_name': 'Moore', 'date_joined': datetime.datetime(2025, 3, 7, 2, 32, 4), 'role': 'student', 'profile': {'bio': 'Loves to solve problems through technology and data.', 'avatar': 'https://api.dicebear.com/6.x/thumbs/svg?seed=Pixel', 'skills': ['APIs', 'Python', 'Machine Learning'], 'is_active': False}}\n",
      "{'_id': ObjectId('68471a62f4edaac75f735edf'), 'user_id': 'U029', 'first_name': 'Jeffery', 'last_name': 'Bauer', 'date_joined': datetime.datetime(2025, 4, 15, 22, 56, 4), 'role': 'student', 'profile': {'bio': 'Loves to solve problems through technology and data.', 'avatar': 'https://api.dicebear.com/6.x/thumbs/svg?seed=Echo', 'skills': ['SQL', 'ETL', 'Docker'], 'is_active': False}}\n",
      "{'_id': ObjectId('68471a62f4edaac75f735ee0'), 'user_id': 'U030', 'first_name': 'Mark', 'last_name': 'Sandoval', 'date_joined': datetime.datetime(2025, 3, 22, 10, 39, 54), 'role': 'student', 'profile': {'bio': 'Helping students grow into world-class developers.', 'avatar': 'https://api.dicebear.com/6.x/thumbs/svg?seed=Echo', 'skills': ['ETL', 'Machine Learning', 'Docker'], 'is_active': False}}\n",
      "{'_id': ObjectId('68471a62f4edaac75f735ee1'), 'user_id': 'U031', 'first_name': 'Jennifer', 'last_name': 'Mcgee', 'date_joined': datetime.datetime(2025, 2, 27, 7, 17, 54), 'role': 'student', 'profile': {'bio': 'Helping students grow into world-class developers.', 'avatar': 'https://api.dicebear.com/6.x/thumbs/svg?seed=Orion', 'skills': ['Docker', 'ETL', 'MongoDB'], 'is_active': True}}\n",
      "{'_id': ObjectId('68471a62f4edaac75f735ee3'), 'user_id': 'U033', 'first_name': 'Sean', 'last_name': 'Hernandez', 'date_joined': datetime.datetime(2024, 11, 25, 13, 4, 39), 'role': 'student', 'profile': {'bio': 'Committed to creating impactful learning experiences.', 'avatar': 'https://api.dicebear.com/6.x/thumbs/svg?seed=Nova', 'skills': ['Docker', 'JavaScript', 'ETL'], 'is_active': False}}\n",
      "{'_id': ObjectId('68471a62f4edaac75f735ee4'), 'user_id': 'U034', 'first_name': 'Adam', 'last_name': 'Walker', 'date_joined': datetime.datetime(2024, 6, 15, 8, 44, 44), 'role': 'student', 'profile': {'bio': 'Passionate about lifelong learning and sharing knowledge.', 'avatar': 'https://api.dicebear.com/6.x/thumbs/svg?seed=Orion', 'skills': ['APIs', 'JavaScript', 'MongoDB'], 'is_active': False}}\n",
      "{'_id': ObjectId('68471a62f4edaac75f735ee9'), 'user_id': 'U039', 'first_name': 'Natalie', 'last_name': 'Smith', 'date_joined': datetime.datetime(2024, 6, 22, 17, 45, 2), 'role': 'student', 'profile': {'bio': 'Passionate about lifelong learning and sharing knowledge.', 'avatar': 'https://api.dicebear.com/6.x/thumbs/svg?seed=Delta', 'skills': ['SQL', 'Data Engineering', 'JavaScript'], 'is_active': True}}\n",
      "{'_id': ObjectId('68471a62f4edaac75f735eea'), 'user_id': 'U040', 'first_name': 'Robert', 'last_name': 'Cook', 'date_joined': datetime.datetime(2024, 10, 2, 18, 9), 'role': 'student', 'profile': {'bio': 'Driven by curiosity and a desire to build meaningful things.', 'avatar': 'https://api.dicebear.com/6.x/thumbs/svg?seed=Delta', 'skills': ['APIs', 'Docker', 'SQL'], 'is_active': False}}\n",
      "{'_id': ObjectId('68471a62f4edaac75f735eeb'), 'user_id': 'U041', 'first_name': 'Melinda', 'last_name': 'Ford', 'date_joined': datetime.datetime(2024, 11, 22, 11, 16, 9), 'role': 'student', 'profile': {'bio': 'Committed to creating impactful learning experiences.', 'avatar': 'https://api.dicebear.com/6.x/thumbs/svg?seed=Zeta', 'skills': ['SQL', 'Python', 'ETL'], 'is_active': True}}\n",
      "{'_id': ObjectId('68471a62f4edaac75f735eef'), 'user_id': 'U045', 'first_name': 'Brian', 'last_name': 'Jones', 'date_joined': datetime.datetime(2025, 1, 4, 21, 58, 11), 'role': 'student', 'profile': {'bio': 'Passionate about lifelong learning and sharing knowledge.', 'avatar': 'https://api.dicebear.com/6.x/thumbs/svg?seed=Beta', 'skills': ['Python', 'Machine Learning', 'ETL'], 'is_active': True}}\n",
      "{'_id': ObjectId('68471a62f4edaac75f735ef0'), 'user_id': 'U046', 'first_name': 'Thomas', 'last_name': 'White', 'date_joined': datetime.datetime(2025, 2, 16, 5, 56, 54), 'role': 'student', 'profile': {'bio': 'Helping students grow into world-class developers.', 'avatar': 'https://api.dicebear.com/6.x/thumbs/svg?seed=Delta', 'skills': ['Docker', 'Machine Learning', 'Python'], 'is_active': False}}\n",
      "{'_id': ObjectId('68471a62f4edaac75f735ef1'), 'user_id': 'U047', 'first_name': 'David', 'last_name': 'Sexton', 'date_joined': datetime.datetime(2024, 8, 1, 10, 11, 12), 'role': 'student', 'profile': {'bio': 'Passionate about lifelong learning and sharing knowledge.', 'avatar': 'https://api.dicebear.com/6.x/thumbs/svg?seed=Gamma', 'skills': ['Data Engineering', 'JavaScript', 'MongoDB'], 'is_active': False}}\n",
      "{'_id': ObjectId('68471a62f4edaac75f735ef3'), 'user_id': 'U049', 'first_name': 'Julia', 'last_name': 'Thomas', 'date_joined': datetime.datetime(2024, 8, 5, 10, 0, 2), 'role': 'student', 'profile': {'bio': 'Passionate about lifelong learning and sharing knowledge.', 'avatar': 'https://api.dicebear.com/6.x/thumbs/svg?seed=Beta', 'skills': ['JavaScript', 'Machine Learning', 'Cloud Computing'], 'is_active': False}}\n",
      "{'_id': ObjectId('68471a62f4edaac75f735ef4'), 'user_id': 'U050', 'first_name': 'Catherine', 'last_name': 'Bailey', 'date_joined': datetime.datetime(2025, 2, 28, 0, 42, 53), 'role': 'student', 'profile': {'bio': 'Committed to creating impactful learning experiences.', 'avatar': 'https://api.dicebear.com/6.x/thumbs/svg?seed=Pixel', 'skills': ['Data Engineering', 'APIs', 'ETL'], 'is_active': True}}\n",
      "{'_id': ObjectId('68471a62f4edaac75f735ef7'), 'user_id': 'U053', 'first_name': 'Jill', 'last_name': 'Cole', 'date_joined': datetime.datetime(2025, 1, 8, 0, 10, 50), 'role': 'student', 'profile': {'bio': 'Helping students grow into world-class developers.', 'avatar': 'https://api.dicebear.com/6.x/thumbs/svg?seed=Rocket', 'skills': ['Docker', 'Python', 'ETL'], 'is_active': False}}\n",
      "{'_id': ObjectId('68471a62f4edaac75f735ef8'), 'user_id': 'U054', 'first_name': 'Matthew', 'last_name': 'Dyer', 'date_joined': datetime.datetime(2024, 12, 27, 8, 17, 50), 'role': 'student', 'profile': {'bio': 'Passionate about lifelong learning and sharing knowledge.', 'avatar': 'https://api.dicebear.com/6.x/thumbs/svg?seed=Pixel', 'skills': ['APIs', 'Docker', 'ETL'], 'is_active': True}}\n",
      "{'_id': ObjectId('68471a62f4edaac75f735ef9'), 'user_id': 'U055', 'first_name': 'Yvette', 'last_name': 'Waters', 'date_joined': datetime.datetime(2024, 7, 22, 12, 32, 56), 'role': 'student', 'profile': {'bio': 'Driven by curiosity and a desire to build meaningful things.', 'avatar': 'https://api.dicebear.com/6.x/thumbs/svg?seed=Alpha', 'skills': ['Cloud Computing', 'Docker', 'JavaScript'], 'is_active': True}}\n",
      "{'_id': ObjectId('68471a62f4edaac75f735efb'), 'user_id': 'U057', 'first_name': 'Timothy', 'last_name': 'Miller', 'date_joined': datetime.datetime(2025, 3, 18, 10, 26, 52), 'role': 'student', 'profile': {'bio': 'Loves to solve problems through technology and data.', 'avatar': 'https://api.dicebear.com/6.x/thumbs/svg?seed=Beta', 'skills': ['JavaScript', 'ETL', 'APIs'], 'is_active': True}}\n",
      "{'_id': ObjectId('68471a62f4edaac75f735efe'), 'user_id': 'U060', 'first_name': 'Christopher', 'last_name': 'Myers', 'date_joined': datetime.datetime(2025, 4, 7, 7, 47, 5), 'role': 'student', 'profile': {'bio': 'Passionate about lifelong learning and sharing knowledge.', 'avatar': 'https://api.dicebear.com/6.x/thumbs/svg?seed=Nova', 'skills': ['Docker', 'MongoDB', 'Data Engineering'], 'is_active': False}}\n",
      "{'_id': ObjectId('68471a62f4edaac75f735eff'), 'user_id': 'U061', 'first_name': 'Derrick', 'last_name': 'Mosley', 'date_joined': datetime.datetime(2025, 1, 13, 12, 31, 5), 'role': 'student', 'profile': {'bio': 'Loves to solve problems through technology and data.', 'avatar': 'https://api.dicebear.com/6.x/thumbs/svg?seed=Alpha', 'skills': ['Machine Learning', 'MongoDB', 'APIs'], 'is_active': False}}\n",
      "{'_id': ObjectId('68471a62f4edaac75f735f00'), 'user_id': 'U062', 'first_name': 'Derek', 'last_name': 'Nguyen', 'date_joined': datetime.datetime(2025, 4, 27, 14, 59, 45), 'role': 'student', 'profile': {'bio': 'Passionate about lifelong learning and sharing knowledge.', 'avatar': 'https://api.dicebear.com/6.x/thumbs/svg?seed=Orion', 'skills': ['Data Engineering', 'Machine Learning', 'MongoDB'], 'is_active': False}}\n",
      "{'_id': ObjectId('68471a62f4edaac75f735f03'), 'user_id': 'U065', 'first_name': 'Jessica', 'last_name': 'Mcbride', 'date_joined': datetime.datetime(2025, 4, 24, 13, 7, 38), 'role': 'student', 'profile': {'bio': 'Passionate about lifelong learning and sharing knowledge.', 'avatar': 'https://api.dicebear.com/6.x/thumbs/svg?seed=Rocket', 'skills': ['Data Engineering', 'APIs', 'Docker'], 'is_active': True}}\n",
      "{'_id': ObjectId('68471a62f4edaac75f735f04'), 'user_id': 'U066', 'first_name': 'Christian', 'last_name': 'Becker', 'date_joined': datetime.datetime(2024, 12, 21, 22, 37, 55), 'role': 'student', 'profile': {'bio': 'Committed to creating impactful learning experiences.', 'avatar': 'https://api.dicebear.com/6.x/thumbs/svg?seed=Zeta', 'skills': ['MongoDB', 'ETL', 'APIs'], 'is_active': True}}\n",
      "{'_id': ObjectId('68471a62f4edaac75f735f05'), 'user_id': 'U067', 'first_name': 'Sharon', 'last_name': 'Bowman', 'date_joined': datetime.datetime(2024, 8, 6, 16, 42, 10), 'role': 'student', 'profile': {'bio': 'Committed to creating impactful learning experiences.', 'avatar': 'https://api.dicebear.com/6.x/thumbs/svg?seed=Zeta', 'skills': ['ETL', 'Cloud Computing', 'Python'], 'is_active': True}}\n",
      "{'_id': ObjectId('68471a62f4edaac75f735f08'), 'user_id': 'U070', 'first_name': 'Matthew', 'last_name': 'Evans', 'date_joined': datetime.datetime(2024, 7, 17, 9, 9, 12), 'role': 'student', 'profile': {'bio': 'Driven by curiosity and a desire to build meaningful things.', 'avatar': 'https://api.dicebear.com/6.x/thumbs/svg?seed=Beta', 'skills': ['ETL', 'Cloud Computing', 'APIs'], 'is_active': True}}\n",
      "{'_id': ObjectId('68471a62f4edaac75f735f0f'), 'user_id': 'U077', 'first_name': 'Samantha', 'last_name': 'Martinez', 'date_joined': datetime.datetime(2024, 10, 24, 13, 9, 13), 'role': 'student', 'profile': {'bio': 'Driven by curiosity and a desire to build meaningful things.', 'avatar': 'https://api.dicebear.com/6.x/thumbs/svg?seed=Pixel', 'skills': ['Data Engineering', 'APIs', 'Docker'], 'is_active': False}}\n",
      "{'_id': ObjectId('68471a62f4edaac75f735f19'), 'user_id': 'U087', 'first_name': 'Jeffrey', 'last_name': 'Logan', 'date_joined': datetime.datetime(2024, 9, 7, 14, 35, 5), 'role': 'student', 'profile': {'bio': 'Driven by curiosity and a desire to build meaningful things.', 'avatar': 'https://api.dicebear.com/6.x/thumbs/svg?seed=Pixel', 'skills': ['Docker', 'Data Engineering', 'MongoDB'], 'is_active': True}}\n",
      "{'_id': ObjectId('68471a62f4edaac75f735f1b'), 'user_id': 'U089', 'first_name': 'Marc', 'last_name': 'Lewis', 'date_joined': datetime.datetime(2025, 3, 19, 22, 30, 20), 'role': 'student', 'profile': {'bio': 'Passionate about lifelong learning and sharing knowledge.', 'avatar': 'https://api.dicebear.com/6.x/thumbs/svg?seed=Rocket', 'skills': ['Python', 'ETL', 'Data Engineering'], 'is_active': True}}\n",
      "{'_id': ObjectId('68471a62f4edaac75f735f20'), 'user_id': 'U094', 'first_name': 'Taylor', 'last_name': 'Goodwin', 'date_joined': datetime.datetime(2025, 2, 7, 23, 35, 44), 'role': 'student', 'profile': {'bio': 'Loves to solve problems through technology and data.', 'avatar': 'https://api.dicebear.com/6.x/thumbs/svg?seed=Delta', 'skills': ['Machine Learning', 'ETL', 'JavaScript'], 'is_active': False}}\n",
      "{'_id': ObjectId('68471a62f4edaac75f735f21'), 'user_id': 'U095', 'first_name': 'Cole', 'last_name': 'Scott', 'date_joined': datetime.datetime(2025, 5, 22, 8, 50, 55), 'role': 'student', 'profile': {'bio': 'Committed to creating impactful learning experiences.', 'avatar': 'https://api.dicebear.com/6.x/thumbs/svg?seed=Echo', 'skills': ['Python', 'Data Engineering', 'Docker'], 'is_active': False}}\n",
      "{'_id': ObjectId('68471a62f4edaac75f735f25'), 'user_id': 'U099', 'first_name': 'Tyler', 'last_name': 'Mitchell', 'date_joined': datetime.datetime(2024, 10, 25, 11, 4, 38), 'role': 'student', 'profile': {'bio': 'Passionate about lifelong learning and sharing knowledge.', 'avatar': 'https://api.dicebear.com/6.x/thumbs/svg?seed=Pixel', 'skills': ['Python', 'JavaScript', 'Machine Learning'], 'is_active': False}}\n",
      "{'_id': ObjectId('6847f8ecf4edaac75f73601f'), 'name': 'Tobi Lawal', 'email': 'tobi.lawal@student.com', 'role': 'student', 'created_at': datetime.datetime(2025, 6, 10, 9, 20, 44, 136000)}\n"
     ]
    }
   ],
   "source": [
    "#find all active students\n",
    "\n",
    "active_students = list(db.altuserschema.find({\"role\": \"student\"}))\n",
    "for student in active_students:\n",
    "    print(student)"
   ]
  },
  {
   "cell_type": "code",
   "execution_count": null,
   "id": "39f55899",
   "metadata": {},
   "outputs": [],
   "source": []
  },
  {
   "cell_type": "markdown",
   "id": "c4a2f665",
   "metadata": {},
   "source": [
    "*2: Retrieve course details with instructor information*"
   ]
  },
  {
   "cell_type": "code",
   "execution_count": 75,
   "id": "98c22c24",
   "metadata": {},
   "outputs": [
    {
     "name": "stdout",
     "output_type": "stream",
     "text": [
      "{'_id': ObjectId('6847f9e8f4edaac75f736020'), 'title': 'Databases Design Fundamentals', 'description': 'Learning relational and NoSQL DB design.', 'category': 'Database', 'instructor_id': ObjectId('68471a62f4edaac75f735ec3'), 'price': 20000, 'created_at': datetime.datetime(2025, 6, 10, 9, 24, 56, 177000), 'instructor': {'_id': ObjectId('68471a62f4edaac75f735ec3'), 'user_id': 'U001', 'first_name': 'Anna', 'last_name': 'Drake', 'date_joined': datetime.datetime(2024, 11, 19, 13, 21, 10), 'role': 'instructor', 'profile': {'bio': 'Committed to creating impactful learning experiences.', 'avatar': 'https://api.dicebear.com/6.x/thumbs/svg?seed=Rocket', 'skills': ['ETL', 'MongoDB', 'Data Engineering'], 'is_active': False}}}\n"
     ]
    }
   ],
   "source": [
    "#retrieve course details with instructor information\n",
    "\n",
    "\n",
    "course_with_instructor = list(db.courses.aggregate([\n",
    "    {\n",
    "        \"$lookup\": {\n",
    "            \"from\": \"altuserschema\",\n",
    "            \"localField\": \"instructor_id\",\n",
    "            \"foreignField\": \"_id\",\n",
    "            \"as\": \"instructor\"\n",
    "        }\n",
    "    },\n",
    "    {\n",
    "        \"$unwind\": \"$instructor\"\n",
    "    }\n",
    "]))\n",
    "for courses in course_with_instructor:\n",
    "    print(courses)"
   ]
  },
  {
   "cell_type": "code",
   "execution_count": null,
   "id": "97d73d95",
   "metadata": {},
   "outputs": [],
   "source": []
  },
  {
   "cell_type": "markdown",
   "id": "fb36bed7",
   "metadata": {},
   "source": [
    "*3: Get all courses in a specific category*"
   ]
  },
  {
   "cell_type": "code",
   "execution_count": 78,
   "id": "48acd830",
   "metadata": {},
   "outputs": [
    {
     "name": "stdout",
     "output_type": "stream",
     "text": [
      "{'_id': ObjectId('68471a8cf4edaac75f735f2b'), 'course_id': 'C005', 'title': 'Data Engineering with Python', 'description': 'Master cloud infrastructure and deployment using AWS, Docker, and Kubernetes.', 'instructor_id': 'U038', 'category': 'Data Engineering', 'level': 'advanced', 'duration': 53, 'price': 20000, 'tags': ['hands-on', 'quiz-included', 'lifetime-access'], 'created_at': datetime.datetime(2025, 3, 24, 13, 32, 17), 'updated_at': datetime.datetime(2025, 6, 9, 18, 31, 56, 900000), 'is_published': True}\n",
      "{'_id': ObjectId('68471a8cf4edaac75f735f2f'), 'course_id': 'C009', 'title': 'Kubernetes for Developers', 'description': 'Learn to build REST APIs and microservices with Flask and Django.', 'instructor_id': 'U030', 'category': 'Data Engineering', 'level': 'advanced', 'duration': 55, 'price': 20000, 'tags': ['lifetime-access', 'assignment-driven', 'video-tutorials'], 'created_at': datetime.datetime(2025, 1, 9, 20, 40, 32), 'updated_at': datetime.datetime(2025, 6, 9, 18, 31, 56, 900000), 'is_published': True}\n",
      "{'_id': ObjectId('68471a8cf4edaac75f735f38'), 'course_id': 'C018', 'title': 'Kubernetes for Developers', 'description': 'Get started with databases and SQL for data analysis and backend development.', 'instructor_id': 'U001', 'category': 'Data Engineering', 'level': 'intermediate', 'duration': 43, 'price': 10000, 'tags': ['lifetime-access', 'interactive', 'beginner-friendly'], 'created_at': datetime.datetime(2025, 1, 24, 4, 58, 6), 'updated_at': datetime.datetime(2025, 6, 9, 18, 31, 56, 900000), 'is_published': True}\n",
      "{'_id': ObjectId('68471a8cf4edaac75f735f3a'), 'course_id': 'C020', 'title': 'Kubernetes for Developers', 'description': 'Learn to build REST APIs and microservices with Flask and Django.', 'instructor_id': 'U015', 'category': 'Data Engineering', 'level': 'beginner', 'duration': 33, 'price': 20000, 'tags': ['career-ready', 'downloadable-resources', 'quiz-included'], 'created_at': datetime.datetime(2025, 3, 28, 1, 3, 36), 'updated_at': datetime.datetime(2025, 6, 9, 18, 31, 56, 901000), 'is_published': True}\n",
      "{'_id': ObjectId('68471a8cf4edaac75f735f3b'), 'course_id': 'C021', 'title': 'Big Data Processing with Spark', 'description': 'Prepare for a career in AI with deep learning and neural network fundamentals.', 'instructor_id': 'U011', 'category': 'Data Engineering', 'level': 'intermediate', 'duration': 44, 'price': 5000, 'tags': ['interview-prep', 'career-ready', 'downloadable-resources'], 'created_at': datetime.datetime(2025, 4, 26, 18, 45, 30), 'updated_at': datetime.datetime(2025, 6, 9, 18, 31, 56, 901000), 'is_published': False}\n",
      "{'_id': ObjectId('68471a8cf4edaac75f735f3c'), 'course_id': 'C022', 'title': 'Big Data Processing with Spark', 'description': 'Understand core machine learning concepts with hands-on Python projects.', 'instructor_id': 'U025', 'category': 'Data Engineering', 'level': 'advanced', 'duration': 11, 'price': 10000, 'tags': ['assignment-driven', 'downloadable-resources', 'project-based'], 'created_at': datetime.datetime(2025, 1, 15, 9, 15, 28), 'updated_at': datetime.datetime(2025, 6, 9, 18, 31, 56, 901000), 'is_published': True}\n",
      "{'_id': ObjectId('68471a8cf4edaac75f735f43'), 'course_id': 'C029', 'title': 'Git & GitHub for Collaboration', 'description': 'Prepare for a career in AI with deep learning and neural network fundamentals.', 'instructor_id': 'U032', 'category': 'Data Engineering', 'level': 'intermediate', 'duration': 7, 'price': 5000, 'tags': ['certification', 'community-support', 'interview-prep'], 'created_at': datetime.datetime(2025, 4, 9, 12, 40, 22), 'updated_at': datetime.datetime(2025, 6, 9, 18, 31, 56, 901000), 'is_published': False}\n",
      "{'_id': ObjectId('68471a8cf4edaac75f735f4d'), 'course_id': 'C039', 'title': 'Big Data Processing with Spark', 'description': 'Learn how to build scalable data pipelines using modern tools and best practices.', 'instructor_id': 'U008', 'category': 'Data Engineering', 'level': 'beginner', 'duration': 34, 'price': 5000, 'tags': ['project-based', 'interview-prep', 'assignment-driven'], 'created_at': datetime.datetime(2024, 12, 15, 17, 28, 52), 'updated_at': datetime.datetime(2025, 6, 9, 18, 31, 56, 901000), 'is_published': False}\n",
      "{'_id': ObjectId('68471a8cf4edaac75f735f57'), 'course_id': 'C049', 'title': 'Unit Testing in Python', 'description': 'Get started with databases and SQL for data analysis and backend development.', 'instructor_id': 'U002', 'category': 'Data Engineering', 'level': 'advanced', 'duration': 45, 'price': 20000, 'tags': ['project-based', 'beginner-friendly', 'certification'], 'created_at': datetime.datetime(2025, 1, 30, 16, 29, 31), 'updated_at': datetime.datetime(2025, 6, 9, 18, 31, 56, 902000), 'is_published': True}\n",
      "{'_id': ObjectId('68471a8cf4edaac75f735f5e'), 'course_id': 'C056', 'title': 'Data Engineering with Python', 'description': 'Master cloud infrastructure and deployment using AWS, Docker, and Kubernetes.', 'instructor_id': 'U015', 'category': 'Data Engineering', 'level': 'advanced', 'duration': 25, 'price': 0, 'tags': ['interactive', 'real-world', 'quiz-included'], 'created_at': datetime.datetime(2025, 3, 28, 22, 38, 41), 'updated_at': datetime.datetime(2025, 6, 9, 18, 31, 56, 902000), 'is_published': False}\n",
      "{'_id': ObjectId('68471a8cf4edaac75f735f61'), 'course_id': 'C059', 'title': 'Kubernetes for Developers', 'description': 'Understand core machine learning concepts with hands-on Python projects.', 'instructor_id': 'U038', 'category': 'Data Engineering', 'level': 'beginner', 'duration': 47, 'price': 10000, 'tags': ['mentor-supported', 'quiz-included', 'video-tutorials'], 'created_at': datetime.datetime(2025, 3, 28, 6, 7, 39), 'updated_at': datetime.datetime(2025, 6, 9, 18, 31, 56, 902000), 'is_published': False}\n",
      "{'_id': ObjectId('68471a8cf4edaac75f735f6c'), 'course_id': 'C070', 'title': 'Python for Beginners', 'description': 'Master cloud infrastructure and deployment using AWS, Docker, and Kubernetes.', 'instructor_id': 'U006', 'category': 'Data Engineering', 'level': 'beginner', 'duration': 35, 'price': 20000, 'tags': ['community-support', 'quiz-included', 'downloadable-resources'], 'created_at': datetime.datetime(2025, 3, 10, 23, 2, 46), 'updated_at': datetime.datetime(2025, 6, 9, 18, 31, 56, 904000), 'is_published': True}\n",
      "{'_id': ObjectId('68471a8cf4edaac75f735f71'), 'course_id': 'C075', 'title': 'Git & GitHub for Collaboration', 'description': 'Learn how to build scalable data pipelines using modern tools and best practices.', 'instructor_id': 'U024', 'category': 'Data Engineering', 'level': 'beginner', 'duration': 44, 'price': 10000, 'tags': ['downloadable-resources', 'video-tutorials', 'interactive'], 'created_at': datetime.datetime(2025, 6, 4, 12, 14, 57), 'updated_at': datetime.datetime(2025, 6, 9, 18, 31, 56, 904000), 'is_published': False}\n",
      "{'_id': ObjectId('68471a8cf4edaac75f735f77'), 'course_id': 'C081', 'title': 'Big Data Processing with Spark', 'description': 'Understand core machine learning concepts with hands-on Python projects.', 'instructor_id': 'U019', 'category': 'Data Engineering', 'level': 'intermediate', 'duration': 19, 'price': 3000, 'tags': ['beginner-friendly', 'quiz-included', 'downloadable-resources'], 'created_at': datetime.datetime(2025, 2, 7, 5, 1, 38), 'updated_at': datetime.datetime(2025, 6, 9, 18, 31, 56, 904000), 'is_published': False}\n",
      "{'_id': ObjectId('68471a8cf4edaac75f735f79'), 'course_id': 'C083', 'title': 'Building REST APIs with FastAPI', 'description': 'Develop a strong foundation in data engineering with real-world ETL scenarios.', 'instructor_id': 'U030', 'category': 'Data Engineering', 'level': 'intermediate', 'duration': 16, 'price': 5000, 'tags': ['downloadable-resources', 'assignment-driven', 'project-based'], 'created_at': datetime.datetime(2025, 2, 19, 0, 55, 8), 'updated_at': datetime.datetime(2025, 6, 9, 18, 31, 56, 904000), 'is_published': False}\n",
      "{'_id': ObjectId('68471a8cf4edaac75f735f81'), 'course_id': 'C091', 'title': 'Clean Code and Refactoring', 'description': 'Explore modern DevOps workflows, CI/CD pipelines, and monitoring strategies.', 'instructor_id': 'U018', 'category': 'Data Engineering', 'level': 'intermediate', 'duration': 9, 'price': 3000, 'tags': ['project-based', 'real-world', 'interview-prep'], 'created_at': datetime.datetime(2025, 5, 4, 4, 23, 26), 'updated_at': datetime.datetime(2025, 6, 9, 18, 31, 56, 905000), 'is_published': False}\n"
     ]
    }
   ],
   "source": [
    "#get all courses in a specific category\n",
    "\n",
    "category_name = \"Data Engineering\" \n",
    "courses_in_category = list(db.altcourseschema.find({\"category\": category_name}))\n",
    "for cat_course in courses_in_category:\n",
    "    print(cat_course)"
   ]
  },
  {
   "cell_type": "code",
   "execution_count": null,
   "id": "b1d6f772",
   "metadata": {},
   "outputs": [],
   "source": []
  },
  {
   "cell_type": "markdown",
   "id": "a6757278",
   "metadata": {},
   "source": [
    "*4: Find students enrolled in a specific course*"
   ]
  },
  {
   "cell_type": "code",
   "execution_count": null,
   "id": "27183e06",
   "metadata": {},
   "outputs": [],
   "source": [
    "#find students enrolled in a specific course\n",
    "course_id = ObjectId(\"684721e7f4edaac75f735fd8\")\n",
    "\n",
    "# Step 1: Find all enrollments for that course\n",
    "enrollments = db.enrollments.find({\"course_id\": course_id})\n",
    "\n",
    "# Step 2: Get all user IDs from the enrollments\n",
    "student_ids = [enr[\"user_id\"] for enr in enrollments]\n",
    "\n",
    "# Step 3: Fetch student user details\n",
    "students = list(db.enrollments.find({\"_id\": {\"$in\": student_ids}}))\n",
    "for student in students:\n",
    "    print(student)"
   ]
  },
  {
   "cell_type": "code",
   "execution_count": null,
   "id": "664c485b",
   "metadata": {},
   "outputs": [],
   "source": []
  },
  {
   "cell_type": "markdown",
   "id": "a2bae7f9",
   "metadata": {},
   "source": [
    "*5: Search courses by title (case_insensitive, partial match)*"
   ]
  },
  {
   "cell_type": "code",
   "execution_count": null,
   "id": "0731e359",
   "metadata": {},
   "outputs": [],
   "source": [
    "#search courses by title (case_insensitive, partial match)\n",
    "\n",
    "search_term = \"web development\"\n",
    "matching_courses = list(db.altuserschema.find({\n",
    "    \"title\": {\"$regex\": search_term, \"$options\": \"i\"}\n",
    "}))\n",
    "for title_course in matching_courses:\n",
    "    print(title_course)"
   ]
  },
  {
   "cell_type": "code",
   "execution_count": null,
   "id": "805da48e",
   "metadata": {},
   "outputs": [],
   "source": []
  },
  {
   "cell_type": "markdown",
   "id": "fc04127c",
   "metadata": {},
   "source": [
    "*TASK 3.3 : #UPDATE OPERATIONS*"
   ]
  },
  {
   "cell_type": "markdown",
   "id": "0898cfbc",
   "metadata": {},
   "source": [
    "*1: Update a user's profile information*"
   ]
  },
  {
   "cell_type": "code",
   "execution_count": null,
   "id": "897d0bd3",
   "metadata": {},
   "outputs": [
    {
     "name": "stdout",
     "output_type": "stream",
     "text": [
      "Modified count: 1\n"
     ]
    }
   ],
   "source": [
    "#Update a user's profile information\n",
    "\n",
    "user_id = ObjectId('68471a8cf4edaac75f735f2d')\n",
    "\n",
    "update_data = {\n",
    "    \"name\": \"Updated Name\",\n",
    "    \"email\": \"updated.email@example.com\"\n",
    "}\n",
    "\n",
    "result = db.altcourseschema.update_one(\n",
    "    {\"_id\": user_id},\n",
    "    {\"$set\": update_data}\n",
    ")\n",
    "\n",
    "print(\"Modified count:\", result.modified_count)"
   ]
  },
  {
   "cell_type": "code",
   "execution_count": null,
   "id": "f4957c45",
   "metadata": {},
   "outputs": [],
   "source": []
  },
  {
   "cell_type": "markdown",
   "id": "108c14eb",
   "metadata": {},
   "source": [
    "*2: Mark a course as published*"
   ]
  },
  {
   "cell_type": "code",
   "execution_count": null,
   "id": "5413060c",
   "metadata": {},
   "outputs": [
    {
     "name": "stdout",
     "output_type": "stream",
     "text": [
      "Course published: 1\n"
     ]
    }
   ],
   "source": [
    "#Mark a course as published\n",
    "\n",
    "course_id = ObjectId(\"68471a8cf4edaac75f735f2c\")\n",
    "\n",
    "result = db.altcourseschema.update_one(\n",
    "    {\"_id\": course_id},\n",
    "    {\"$set\": {\"is_published\": True}}\n",
    ")\n",
    "\n",
    "print(\"Course published:\", result.modified_count)"
   ]
  },
  {
   "cell_type": "code",
   "execution_count": null,
   "id": "9e6c64db",
   "metadata": {},
   "outputs": [],
   "source": []
  },
  {
   "cell_type": "markdown",
   "id": "a0014d6b",
   "metadata": {},
   "source": [
    "*3: Update assignment grades*"
   ]
  },
  {
   "cell_type": "code",
   "execution_count": 97,
   "id": "a37ef238",
   "metadata": {},
   "outputs": [
    {
     "name": "stdout",
     "output_type": "stream",
     "text": [
      "Assignment grade updated: 1\n"
     ]
    }
   ],
   "source": [
    "#Update assignment grades\n",
    "assignment_id = ObjectId(\"68471a8cf4edaac75f735f32\")\n",
    "\n",
    "result = db.altcourseschema.update_one(\n",
    "    {\"_id\": assignment_id},\n",
    "    {\"$set\": {\"grade\": 85}}  # update to any score\n",
    ")\n",
    "\n",
    "print(\"Assignment grade updated:\", result.modified_count)"
   ]
  },
  {
   "cell_type": "code",
   "execution_count": null,
   "id": "d10121ed",
   "metadata": {},
   "outputs": [],
   "source": []
  },
  {
   "cell_type": "markdown",
   "id": "463cdda4",
   "metadata": {},
   "source": [
    "*4: Add tags to an existing course*"
   ]
  },
  {
   "cell_type": "code",
   "execution_count": 98,
   "id": "7d96fdf0",
   "metadata": {},
   "outputs": [
    {
     "name": "stdout",
     "output_type": "stream",
     "text": [
      "Tags added: 1\n"
     ]
    }
   ],
   "source": [
    "#Add tags to an existing course\n",
    "\n",
    "course_id = ObjectId(\"68471a8cf4edaac75f735f33\")\n",
    "\n",
    "result = db.altcourseschema.update_one(\n",
    "    {\"_id\": course_id},\n",
    "    {\"$addToSet\": {\"tags\": {\"$each\": [\"mongodb\", \"backend\", \"nosql\"]}}}\n",
    ")\n",
    "\n",
    "print(\"Tags added:\", result.modified_count)"
   ]
  },
  {
   "cell_type": "code",
   "execution_count": null,
   "id": "9b1bc312",
   "metadata": {},
   "outputs": [],
   "source": []
  },
  {
   "cell_type": "markdown",
   "id": "b9dc008b",
   "metadata": {},
   "source": [
    "*TASK 3.4 : #DELETE OPERATIONS*"
   ]
  },
  {
   "cell_type": "markdown",
   "id": "38b64915",
   "metadata": {},
   "source": [
    "*1: Remove a user(soft deleting by setting isActive is false)*"
   ]
  },
  {
   "cell_type": "code",
   "execution_count": null,
   "id": "1e6ab322",
   "metadata": {},
   "outputs": [
    {
     "name": "stdout",
     "output_type": "stream",
     "text": [
      "User soft-deleted: 1\n"
     ]
    }
   ],
   "source": [
    "\n",
    "#Remove a user(soft deleting by setting isActive is false)\n",
    "\n",
    "user_id = ObjectId(\"68471a62f4edaac75f735ec5\")\n",
    "\n",
    "result = db.altuserschema.update_one(\n",
    "    {\"_id\": user_id},\n",
    "    {\"$set\": {\"isActive\": False}}\n",
    ")\n",
    "\n",
    "print(\"User soft-deleted:\", result.modified_count)"
   ]
  },
  {
   "cell_type": "code",
   "execution_count": null,
   "id": "2300ed09",
   "metadata": {},
   "outputs": [],
   "source": []
  },
  {
   "cell_type": "markdown",
   "id": "b73d8a02",
   "metadata": {},
   "source": [
    "*2: Delete an enrollment*"
   ]
  },
  {
   "cell_type": "code",
   "execution_count": null,
   "id": "ec689a92",
   "metadata": {},
   "outputs": [
    {
     "name": "stdout",
     "output_type": "stream",
     "text": [
      "Enrollment deleted: 1\n"
     ]
    }
   ],
   "source": [
    "#delete an enrollment\n",
    "enrollment_id = ObjectId(\"68471a62f4edaac75f735ec6\")\n",
    "\n",
    "result = db.altuserschema.delete_one({\"_id\": enrollment_id})\n",
    "\n",
    "print(\"Enrollment deleted:\", result.deleted_count)"
   ]
  },
  {
   "cell_type": "code",
   "execution_count": null,
   "id": "26a23103",
   "metadata": {},
   "outputs": [],
   "source": []
  },
  {
   "cell_type": "markdown",
   "id": "deb50d92",
   "metadata": {},
   "source": [
    "*3: Remove a lesson from a course*"
   ]
  },
  {
   "cell_type": "code",
   "execution_count": 101,
   "id": "ee8d3186",
   "metadata": {},
   "outputs": [
    {
     "name": "stdout",
     "output_type": "stream",
     "text": [
      "Lesson deleted: 1\n"
     ]
    }
   ],
   "source": [
    "#remove a lesson from a course\n",
    "lesson_id = ObjectId(\"684722abf4edaac75f735fe7\")\n",
    "\n",
    "result = db.lessons.delete_one({\"_id\": lesson_id})\n",
    "\n",
    "print(\"Lesson deleted:\", result.deleted_count)"
   ]
  },
  {
   "cell_type": "code",
   "execution_count": null,
   "id": "faee8bcf",
   "metadata": {},
   "outputs": [],
   "source": []
  },
  {
   "cell_type": "markdown",
   "id": "95c8e95c",
   "metadata": {},
   "source": [
    "*PART 4*\n",
    "*: ADVANCED QUERIES AND AGGREGATION*"
   ]
  },
  {
   "cell_type": "markdown",
   "id": "b856004f",
   "metadata": {},
   "source": [
    "\n",
    "*TASK 4.1: COMPLEX QUERIES*"
   ]
  },
  {
   "cell_type": "markdown",
   "id": "07dded17",
   "metadata": {},
   "source": [
    "*1: Find courses with prices between 50 and 200*"
   ]
  },
  {
   "cell_type": "code",
   "execution_count": null,
   "id": "404a85a4",
   "metadata": {},
   "outputs": [
    {
     "name": "stdout",
     "output_type": "stream",
     "text": [
      "{'_id': ObjectId('68471a8cf4edaac75f735f27'), 'course_id': 'C001', 'title': 'Big Data Processing with Spark', 'description': 'This course introduces you to web development using HTML, CSS, and JavaScript.', 'instructor_id': 'U030', 'category': 'AI', 'level': 'beginner', 'duration': 47, 'price': 10000, 'tags': ['project-based', 'quiz-included', 'beginner-friendly'], 'created_at': datetime.datetime(2025, 2, 13, 12, 25), 'updated_at': datetime.datetime(2025, 6, 9, 18, 31, 56, 900000), 'is_published': True}\n",
      "{'_id': ObjectId('68471a8cf4edaac75f735f2a'), 'course_id': 'C004', 'title': 'Building REST APIs with FastAPI', 'description': 'Explore modern DevOps workflows, CI/CD pipelines, and monitoring strategies.', 'instructor_id': 'U022', 'category': 'DevOps', 'level': 'beginner', 'duration': 47, 'price': 5000, 'tags': ['real-world', 'interview-prep', 'lifetime-access'], 'created_at': datetime.datetime(2025, 3, 31, 16, 37, 32), 'updated_at': datetime.datetime(2025, 6, 9, 18, 31, 56, 900000), 'is_published': True}\n",
      "{'_id': ObjectId('68471a8cf4edaac75f735f2b'), 'course_id': 'C005', 'title': 'Data Engineering with Python', 'description': 'Master cloud infrastructure and deployment using AWS, Docker, and Kubernetes.', 'instructor_id': 'U038', 'category': 'Data Engineering', 'level': 'advanced', 'duration': 53, 'price': 20000, 'tags': ['hands-on', 'quiz-included', 'lifetime-access'], 'created_at': datetime.datetime(2025, 3, 24, 13, 32, 17), 'updated_at': datetime.datetime(2025, 6, 9, 18, 31, 56, 900000), 'is_published': True}\n",
      "{'_id': ObjectId('68471a8cf4edaac75f735f2c'), 'course_id': 'C006', 'title': 'Python for Beginners', 'description': 'Explore modern DevOps workflows, CI/CD pipelines, and monitoring strategies.', 'instructor_id': 'U032', 'category': 'Web Development', 'level': 'advanced', 'duration': 50, 'price': 3000, 'tags': ['interactive', 'lifetime-access', 'career-ready'], 'created_at': datetime.datetime(2025, 1, 30, 20, 12, 4), 'updated_at': datetime.datetime(2025, 6, 9, 18, 31, 56, 900000), 'is_published': True}\n",
      "{'_id': ObjectId('68471a8cf4edaac75f735f2d'), 'course_id': 'C007', 'title': 'Deep Learning with TensorFlow', 'description': 'Develop a strong foundation in data engineering with real-world ETL scenarios.', 'instructor_id': 'U020', 'category': 'Web Development', 'level': 'advanced', 'duration': 33, 'price': 10000, 'tags': ['real-world', 'community-support', 'downloadable-resources'], 'created_at': datetime.datetime(2025, 2, 20, 20, 27, 45), 'updated_at': datetime.datetime(2025, 6, 9, 18, 31, 56, 900000), 'is_published': True, 'email': 'updated.email@example.com', 'name': 'Updated Name'}\n",
      "{'_id': ObjectId('68471a8cf4edaac75f735f2e'), 'course_id': 'C008', 'title': 'Kubernetes for Developers', 'description': 'Learn to build REST APIs and microservices with Flask and Django.', 'instructor_id': 'U023', 'category': 'AI', 'level': 'advanced', 'duration': 20, 'price': 3000, 'tags': ['interactive', 'assignment-driven', 'project-based'], 'created_at': datetime.datetime(2025, 4, 25, 22, 12, 24), 'updated_at': datetime.datetime(2025, 6, 9, 18, 31, 56, 900000), 'is_published': True}\n",
      "{'_id': ObjectId('68471a8cf4edaac75f735f2f'), 'course_id': 'C009', 'title': 'Kubernetes for Developers', 'description': 'Learn to build REST APIs and microservices with Flask and Django.', 'instructor_id': 'U030', 'category': 'Data Engineering', 'level': 'advanced', 'duration': 55, 'price': 20000, 'tags': ['lifetime-access', 'assignment-driven', 'video-tutorials'], 'created_at': datetime.datetime(2025, 1, 9, 20, 40, 32), 'updated_at': datetime.datetime(2025, 6, 9, 18, 31, 56, 900000), 'is_published': True}\n",
      "{'_id': ObjectId('68471a8cf4edaac75f735f30'), 'course_id': 'C010', 'title': 'Computer Vision with OpenCV', 'description': 'Prepare for a career in AI with deep learning and neural network fundamentals.', 'instructor_id': 'U001', 'category': 'Cloud Computing', 'level': 'intermediate', 'duration': 46, 'price': 10000, 'tags': ['community-support', 'career-ready', 'beginner-friendly'], 'created_at': datetime.datetime(2025, 2, 27, 8, 37, 14), 'updated_at': datetime.datetime(2025, 6, 9, 18, 31, 56, 900000), 'is_published': True}\n",
      "{'_id': ObjectId('68471a8cf4edaac75f735f31'), 'course_id': 'C011', 'title': 'Deep Learning with TensorFlow', 'description': 'Learn how to build scalable data pipelines using modern tools and best practices.', 'instructor_id': 'U016', 'category': 'Cloud Computing', 'level': 'intermediate', 'duration': 58, 'price': 20000, 'tags': ['real-world', 'hands-on', 'career-ready'], 'created_at': datetime.datetime(2025, 5, 20, 21, 49, 32), 'updated_at': datetime.datetime(2025, 6, 9, 18, 31, 56, 900000), 'is_published': False}\n",
      "{'_id': ObjectId('68471a8cf4edaac75f735f32'), 'course_id': 'C012', 'title': 'Deep Learning with TensorFlow', 'description': 'This course introduces you to web development using HTML, CSS, and JavaScript.', 'instructor_id': 'U015', 'category': 'DevOps', 'level': 'beginner', 'duration': 34, 'price': 5000, 'tags': ['quiz-included', 'assignment-driven', 'hands-on'], 'created_at': datetime.datetime(2025, 3, 10, 4, 8, 57), 'updated_at': datetime.datetime(2025, 6, 9, 18, 31, 56, 900000), 'is_published': True, 'grade': 85}\n",
      "{'_id': ObjectId('68471a8cf4edaac75f735f33'), 'course_id': 'C013', 'title': 'Computer Vision with OpenCV', 'description': 'Learn to build REST APIs and microservices with Flask and Django.', 'instructor_id': 'U039', 'category': 'Cloud Computing', 'level': 'advanced', 'duration': 5, 'price': 20000, 'tags': ['certification', 'beginner-friendly', 'real-world', 'mongodb', 'backend', 'nosql'], 'created_at': datetime.datetime(2025, 2, 25, 9, 55, 58), 'updated_at': datetime.datetime(2025, 6, 9, 18, 31, 56, 900000), 'is_published': False}\n",
      "{'_id': ObjectId('68471a8cf4edaac75f735f34'), 'course_id': 'C014', 'title': 'Data Engineering with Python', 'description': 'Master cloud infrastructure and deployment using AWS, Docker, and Kubernetes.', 'instructor_id': 'U018', 'category': 'Web Development', 'level': 'beginner', 'duration': 58, 'price': 5000, 'tags': ['project-based', 'beginner-friendly', 'quiz-included'], 'created_at': datetime.datetime(2025, 6, 7, 17, 44, 31), 'updated_at': datetime.datetime(2025, 6, 9, 18, 31, 56, 900000), 'is_published': True}\n",
      "{'_id': ObjectId('68471a8cf4edaac75f735f36'), 'course_id': 'C016', 'title': 'AWS Cloud Fundamentals', 'description': 'Prepare for a career in AI with deep learning and neural network fundamentals.', 'instructor_id': 'U039', 'category': 'Web Development', 'level': 'beginner', 'duration': 39, 'price': 5000, 'tags': ['downloadable-resources', 'career-ready', 'assignment-driven'], 'created_at': datetime.datetime(2024, 12, 22, 4, 5, 3), 'updated_at': datetime.datetime(2025, 6, 9, 18, 31, 56, 900000), 'is_published': True}\n",
      "{'_id': ObjectId('68471a8cf4edaac75f735f38'), 'course_id': 'C018', 'title': 'Kubernetes for Developers', 'description': 'Get started with databases and SQL for data analysis and backend development.', 'instructor_id': 'U001', 'category': 'Data Engineering', 'level': 'intermediate', 'duration': 43, 'price': 10000, 'tags': ['lifetime-access', 'interactive', 'beginner-friendly'], 'created_at': datetime.datetime(2025, 1, 24, 4, 58, 6), 'updated_at': datetime.datetime(2025, 6, 9, 18, 31, 56, 900000), 'is_published': True}\n",
      "{'_id': ObjectId('68471a8cf4edaac75f735f3a'), 'course_id': 'C020', 'title': 'Kubernetes for Developers', 'description': 'Learn to build REST APIs and microservices with Flask and Django.', 'instructor_id': 'U015', 'category': 'Data Engineering', 'level': 'beginner', 'duration': 33, 'price': 20000, 'tags': ['career-ready', 'downloadable-resources', 'quiz-included'], 'created_at': datetime.datetime(2025, 3, 28, 1, 3, 36), 'updated_at': datetime.datetime(2025, 6, 9, 18, 31, 56, 901000), 'is_published': True}\n",
      "{'_id': ObjectId('68471a8cf4edaac75f735f3b'), 'course_id': 'C021', 'title': 'Big Data Processing with Spark', 'description': 'Prepare for a career in AI with deep learning and neural network fundamentals.', 'instructor_id': 'U011', 'category': 'Data Engineering', 'level': 'intermediate', 'duration': 44, 'price': 5000, 'tags': ['interview-prep', 'career-ready', 'downloadable-resources'], 'created_at': datetime.datetime(2025, 4, 26, 18, 45, 30), 'updated_at': datetime.datetime(2025, 6, 9, 18, 31, 56, 901000), 'is_published': False}\n",
      "{'_id': ObjectId('68471a8cf4edaac75f735f3c'), 'course_id': 'C022', 'title': 'Big Data Processing with Spark', 'description': 'Understand core machine learning concepts with hands-on Python projects.', 'instructor_id': 'U025', 'category': 'Data Engineering', 'level': 'advanced', 'duration': 11, 'price': 10000, 'tags': ['assignment-driven', 'downloadable-resources', 'project-based'], 'created_at': datetime.datetime(2025, 1, 15, 9, 15, 28), 'updated_at': datetime.datetime(2025, 6, 9, 18, 31, 56, 901000), 'is_published': True}\n",
      "{'_id': ObjectId('68471a8cf4edaac75f735f3d'), 'course_id': 'C023', 'title': 'Building REST APIs with FastAPI', 'description': 'Gain experience in big data technologies like Spark and Hadoop.', 'instructor_id': 'U021', 'category': 'Web Development', 'level': 'intermediate', 'duration': 42, 'price': 20000, 'tags': ['interactive', 'community-support', 'video-tutorials'], 'created_at': datetime.datetime(2025, 3, 14, 1, 8, 4), 'updated_at': datetime.datetime(2025, 6, 9, 18, 31, 56, 901000), 'is_published': False}\n",
      "{'_id': ObjectId('68471a8cf4edaac75f735f3e'), 'course_id': 'C024', 'title': 'Data Engineering with Python', 'description': 'Learn how to build scalable data pipelines using modern tools and best practices.', 'instructor_id': 'U026', 'category': 'Web Development', 'level': 'advanced', 'duration': 29, 'price': 20000, 'tags': ['certification', 'assignment-driven', 'downloadable-resources'], 'created_at': datetime.datetime(2025, 3, 23, 10, 26), 'updated_at': datetime.datetime(2025, 6, 9, 18, 31, 56, 901000), 'is_published': False}\n",
      "{'_id': ObjectId('68471a8cf4edaac75f735f3f'), 'course_id': 'C025', 'title': 'Unit Testing in Python', 'description': 'Develop a strong foundation in data engineering with real-world ETL scenarios.', 'instructor_id': 'U022', 'category': 'Cloud Computing', 'level': 'intermediate', 'duration': 27, 'price': 20000, 'tags': ['hands-on', 'interview-prep', 'downloadable-resources'], 'created_at': datetime.datetime(2024, 12, 18, 6, 0, 48), 'updated_at': datetime.datetime(2025, 6, 9, 18, 31, 56, 901000), 'is_published': True}\n",
      "{'_id': ObjectId('68471a8cf4edaac75f735f40'), 'course_id': 'C026', 'title': 'Machine Learning with scikit-learn', 'description': 'Master cloud infrastructure and deployment using AWS, Docker, and Kubernetes.', 'instructor_id': 'U018', 'category': 'AI', 'level': 'advanced', 'duration': 57, 'price': 20000, 'tags': ['certification', 'mentor-supported', 'downloadable-resources'], 'created_at': datetime.datetime(2025, 3, 27, 19, 33, 40), 'updated_at': datetime.datetime(2025, 6, 9, 18, 31, 56, 901000), 'is_published': True}\n",
      "{'_id': ObjectId('68471a8cf4edaac75f735f41'), 'course_id': 'C027', 'title': 'Data Visualization with Seaborn', 'description': 'Gain experience in big data technologies like Spark and Hadoop.', 'instructor_id': 'U025', 'category': 'Cloud Computing', 'level': 'beginner', 'duration': 50, 'price': 5000, 'tags': ['video-tutorials', 'assignment-driven', 'beginner-friendly'], 'created_at': datetime.datetime(2025, 4, 13, 3, 59, 14), 'updated_at': datetime.datetime(2025, 6, 9, 18, 31, 56, 901000), 'is_published': True}\n",
      "{'_id': ObjectId('68471a8cf4edaac75f735f42'), 'course_id': 'C028', 'title': 'Deep Learning with TensorFlow', 'description': 'Get started with databases and SQL for data analysis and backend development.', 'instructor_id': 'U015', 'category': 'Web Development', 'level': 'advanced', 'duration': 16, 'price': 5000, 'tags': ['lifetime-access', 'certification', 'mentor-supported'], 'created_at': datetime.datetime(2025, 2, 25, 15, 36, 53), 'updated_at': datetime.datetime(2025, 6, 9, 18, 31, 56, 901000), 'is_published': False}\n",
      "{'_id': ObjectId('68471a8cf4edaac75f735f43'), 'course_id': 'C029', 'title': 'Git & GitHub for Collaboration', 'description': 'Prepare for a career in AI with deep learning and neural network fundamentals.', 'instructor_id': 'U032', 'category': 'Data Engineering', 'level': 'intermediate', 'duration': 7, 'price': 5000, 'tags': ['certification', 'community-support', 'interview-prep'], 'created_at': datetime.datetime(2025, 4, 9, 12, 40, 22), 'updated_at': datetime.datetime(2025, 6, 9, 18, 31, 56, 901000), 'is_published': False}\n",
      "{'_id': ObjectId('68471a8cf4edaac75f735f44'), 'course_id': 'C030', 'title': 'Git & GitHub for Collaboration', 'description': 'Prepare for a career in AI with deep learning and neural network fundamentals.', 'instructor_id': 'U035', 'category': 'Web Development', 'level': 'intermediate', 'duration': 43, 'price': 3000, 'tags': ['video-tutorials', 'beginner-friendly', 'certification'], 'created_at': datetime.datetime(2025, 1, 6, 23, 31, 37), 'updated_at': datetime.datetime(2025, 6, 9, 18, 31, 56, 901000), 'is_published': False}\n",
      "{'_id': ObjectId('68471a8cf4edaac75f735f45'), 'course_id': 'C031', 'title': 'Deep Learning with TensorFlow', 'description': 'Master cloud infrastructure and deployment using AWS, Docker, and Kubernetes.', 'instructor_id': 'U023', 'category': 'Cloud Computing', 'level': 'beginner', 'duration': 34, 'price': 3000, 'tags': ['downloadable-resources', 'assignment-driven', 'community-support'], 'created_at': datetime.datetime(2025, 5, 2, 20, 34, 24), 'updated_at': datetime.datetime(2025, 6, 9, 18, 31, 56, 901000), 'is_published': False}\n",
      "{'_id': ObjectId('68471a8cf4edaac75f735f46'), 'course_id': 'C032', 'title': 'Unit Testing in Python', 'description': 'Master cloud infrastructure and deployment using AWS, Docker, and Kubernetes.', 'instructor_id': 'U005', 'category': 'DevOps', 'level': 'intermediate', 'duration': 18, 'price': 20000, 'tags': ['hands-on', 'lifetime-access', 'downloadable-resources'], 'created_at': datetime.datetime(2024, 12, 14, 8, 42, 15), 'updated_at': datetime.datetime(2025, 6, 9, 18, 31, 56, 901000), 'is_published': False}\n",
      "{'_id': ObjectId('68471a8cf4edaac75f735f47'), 'course_id': 'C033', 'title': 'Data Engineering with Python', 'description': 'Gain experience in big data technologies like Spark and Hadoop.', 'instructor_id': 'U010', 'category': 'Web Development', 'level': 'intermediate', 'duration': 32, 'price': 3000, 'tags': ['community-support', 'assignment-driven', 'certification'], 'created_at': datetime.datetime(2025, 5, 30, 17, 39, 41), 'updated_at': datetime.datetime(2025, 6, 9, 18, 31, 56, 901000), 'is_published': True}\n",
      "{'_id': ObjectId('68471a8cf4edaac75f735f48'), 'course_id': 'C034', 'title': 'Deploying Applications with Docker', 'description': 'Master cloud infrastructure and deployment using AWS, Docker, and Kubernetes.', 'instructor_id': 'U024', 'category': 'Cloud Computing', 'level': 'advanced', 'duration': 22, 'price': 10000, 'tags': ['community-support', 'quiz-included', 'lifetime-access'], 'created_at': datetime.datetime(2024, 12, 23, 15, 39, 53), 'updated_at': datetime.datetime(2025, 6, 9, 18, 31, 56, 901000), 'is_published': False}\n",
      "{'_id': ObjectId('68471a8cf4edaac75f735f49'), 'course_id': 'C035', 'title': 'Computer Vision with OpenCV', 'description': 'Explore modern DevOps workflows, CI/CD pipelines, and monitoring strategies.', 'instructor_id': 'U006', 'category': 'Cloud Computing', 'level': 'advanced', 'duration': 58, 'price': 20000, 'tags': ['beginner-friendly', 'interactive', 'career-ready'], 'created_at': datetime.datetime(2024, 12, 22, 6, 26, 29), 'updated_at': datetime.datetime(2025, 6, 9, 18, 31, 56, 901000), 'is_published': False}\n",
      "{'_id': ObjectId('68471a8cf4edaac75f735f4a'), 'course_id': 'C036', 'title': 'Clean Code and Refactoring', 'description': 'This course introduces you to web development using HTML, CSS, and JavaScript.', 'instructor_id': 'U010', 'category': 'Web Development', 'level': 'intermediate', 'duration': 54, 'price': 5000, 'tags': ['mentor-supported', 'real-world', 'career-ready'], 'created_at': datetime.datetime(2025, 4, 28, 21, 27, 49), 'updated_at': datetime.datetime(2025, 6, 9, 18, 31, 56, 901000), 'is_published': True}\n",
      "{'_id': ObjectId('68471a8cf4edaac75f735f4b'), 'course_id': 'C037', 'title': 'Computer Vision with OpenCV', 'description': 'Get started with databases and SQL for data analysis and backend development.', 'instructor_id': 'U015', 'category': 'DevOps', 'level': 'advanced', 'duration': 9, 'price': 20000, 'tags': ['community-support', 'quiz-included', 'assignment-driven'], 'created_at': datetime.datetime(2025, 4, 5, 6, 14, 19), 'updated_at': datetime.datetime(2025, 6, 9, 18, 31, 56, 901000), 'is_published': False}\n",
      "{'_id': ObjectId('68471a8cf4edaac75f735f4c'), 'course_id': 'C038', 'title': 'AWS Cloud Fundamentals', 'description': 'This course introduces you to web development using HTML, CSS, and JavaScript.', 'instructor_id': 'U021', 'category': 'Cloud Computing', 'level': 'intermediate', 'duration': 17, 'price': 5000, 'tags': ['interactive', 'quiz-included', 'real-world'], 'created_at': datetime.datetime(2025, 1, 27, 8, 16, 26), 'updated_at': datetime.datetime(2025, 6, 9, 18, 31, 56, 901000), 'is_published': True}\n",
      "{'_id': ObjectId('68471a8cf4edaac75f735f4d'), 'course_id': 'C039', 'title': 'Big Data Processing with Spark', 'description': 'Learn how to build scalable data pipelines using modern tools and best practices.', 'instructor_id': 'U008', 'category': 'Data Engineering', 'level': 'beginner', 'duration': 34, 'price': 5000, 'tags': ['project-based', 'interview-prep', 'assignment-driven'], 'created_at': datetime.datetime(2024, 12, 15, 17, 28, 52), 'updated_at': datetime.datetime(2025, 6, 9, 18, 31, 56, 901000), 'is_published': False}\n",
      "{'_id': ObjectId('68471a8cf4edaac75f735f4e'), 'course_id': 'C040', 'title': 'Machine Learning with scikit-learn', 'description': 'Learn to build REST APIs and microservices with Flask and Django.', 'instructor_id': 'U005', 'category': 'Cloud Computing', 'level': 'beginner', 'duration': 10, 'price': 5000, 'tags': ['real-world', 'lifetime-access', 'interactive'], 'created_at': datetime.datetime(2025, 5, 17, 21, 57, 13), 'updated_at': datetime.datetime(2025, 6, 9, 18, 31, 56, 901000), 'is_published': False}\n",
      "{'_id': ObjectId('68471a8cf4edaac75f735f4f'), 'course_id': 'C041', 'title': 'Big Data Processing with Spark', 'description': 'Master cloud infrastructure and deployment using AWS, Docker, and Kubernetes.', 'instructor_id': 'U007', 'category': 'DevOps', 'level': 'beginner', 'duration': 51, 'price': 3000, 'tags': ['quiz-included', 'project-based', 'certification'], 'created_at': datetime.datetime(2025, 4, 14, 5, 57, 29), 'updated_at': datetime.datetime(2025, 6, 9, 18, 31, 56, 901000), 'is_published': True}\n",
      "{'_id': ObjectId('68471a8cf4edaac75f735f50'), 'course_id': 'C042', 'title': 'MongoDB for Developers', 'description': 'Master cloud infrastructure and deployment using AWS, Docker, and Kubernetes.', 'instructor_id': 'U009', 'category': 'Web Development', 'level': 'beginner', 'duration': 27, 'price': 10000, 'tags': ['career-ready', 'interactive', 'interview-prep'], 'created_at': datetime.datetime(2025, 2, 9, 16, 0, 12), 'updated_at': datetime.datetime(2025, 6, 9, 18, 31, 56, 901000), 'is_published': True}\n",
      "{'_id': ObjectId('68471a8cf4edaac75f735f51'), 'course_id': 'C043', 'title': 'Clean Code and Refactoring', 'description': 'Learn how to build scalable data pipelines using modern tools and best practices.', 'instructor_id': 'U013', 'category': 'AI', 'level': 'advanced', 'duration': 21, 'price': 10000, 'tags': ['hands-on', 'assignment-driven', 'community-support'], 'created_at': datetime.datetime(2025, 4, 8, 18, 26, 43), 'updated_at': datetime.datetime(2025, 6, 9, 18, 31, 56, 901000), 'is_published': True}\n",
      "{'_id': ObjectId('68471a8cf4edaac75f735f53'), 'course_id': 'C045', 'title': 'Data Visualization with Seaborn', 'description': 'Understand core machine learning concepts with hands-on Python projects.', 'instructor_id': 'U009', 'category': 'Cloud Computing', 'level': 'intermediate', 'duration': 52, 'price': 20000, 'tags': ['downloadable-resources', 'beginner-friendly', 'certification'], 'created_at': datetime.datetime(2025, 6, 8, 12, 31, 29), 'updated_at': datetime.datetime(2025, 6, 9, 18, 31, 56, 902000), 'is_published': False}\n",
      "{'_id': ObjectId('68471a8cf4edaac75f735f54'), 'course_id': 'C046', 'title': 'Kubernetes for Developers', 'description': 'Explore modern DevOps workflows, CI/CD pipelines, and monitoring strategies.', 'instructor_id': 'U029', 'category': 'AI', 'level': 'intermediate', 'duration': 52, 'price': 10000, 'tags': ['assignment-driven', 'beginner-friendly', 'certification'], 'created_at': datetime.datetime(2025, 3, 1, 4, 6, 45), 'updated_at': datetime.datetime(2025, 6, 9, 18, 31, 56, 902000), 'is_published': False}\n",
      "{'_id': ObjectId('68471a8cf4edaac75f735f55'), 'course_id': 'C047', 'title': 'MongoDB for Developers', 'description': 'Gain experience in big data technologies like Spark and Hadoop.', 'instructor_id': 'U021', 'category': 'AI', 'level': 'intermediate', 'duration': 24, 'price': 5000, 'tags': ['community-support', 'real-world', 'certification'], 'created_at': datetime.datetime(2025, 3, 22, 4, 26, 11), 'updated_at': datetime.datetime(2025, 6, 9, 18, 31, 56, 902000), 'is_published': False}\n",
      "{'_id': ObjectId('68471a8cf4edaac75f735f56'), 'course_id': 'C048', 'title': 'Building REST APIs with FastAPI', 'description': 'Prepare for a career in AI with deep learning and neural network fundamentals.', 'instructor_id': 'U017', 'category': 'DevOps', 'level': 'beginner', 'duration': 45, 'price': 10000, 'tags': ['community-support', 'lifetime-access', 'real-world'], 'created_at': datetime.datetime(2025, 2, 10, 16, 18, 7), 'updated_at': datetime.datetime(2025, 6, 9, 18, 31, 56, 902000), 'is_published': False}\n",
      "{'_id': ObjectId('68471a8cf4edaac75f735f57'), 'course_id': 'C049', 'title': 'Unit Testing in Python', 'description': 'Get started with databases and SQL for data analysis and backend development.', 'instructor_id': 'U002', 'category': 'Data Engineering', 'level': 'advanced', 'duration': 45, 'price': 20000, 'tags': ['project-based', 'beginner-friendly', 'certification'], 'created_at': datetime.datetime(2025, 1, 30, 16, 29, 31), 'updated_at': datetime.datetime(2025, 6, 9, 18, 31, 56, 902000), 'is_published': True}\n",
      "{'_id': ObjectId('68471a8cf4edaac75f735f58'), 'course_id': 'C050', 'title': 'Computer Vision with OpenCV', 'description': 'Learn to build REST APIs and microservices with Flask and Django.', 'instructor_id': 'U028', 'category': 'AI', 'level': 'intermediate', 'duration': 28, 'price': 3000, 'tags': ['community-support', 'lifetime-access', 'assignment-driven'], 'created_at': datetime.datetime(2025, 1, 19, 14, 12, 4), 'updated_at': datetime.datetime(2025, 6, 9, 18, 31, 56, 902000), 'is_published': True}\n",
      "{'_id': ObjectId('68471a8cf4edaac75f735f59'), 'course_id': 'C051', 'title': 'Machine Learning with scikit-learn', 'description': 'Master cloud infrastructure and deployment using AWS, Docker, and Kubernetes.', 'instructor_id': 'U017', 'category': 'AI', 'level': 'beginner', 'duration': 60, 'price': 5000, 'tags': ['hands-on', 'interview-prep', 'mentor-supported'], 'created_at': datetime.datetime(2025, 4, 5, 12, 14, 49), 'updated_at': datetime.datetime(2025, 6, 9, 18, 31, 56, 902000), 'is_published': True}\n",
      "{'_id': ObjectId('68471a8cf4edaac75f735f5a'), 'course_id': 'C052', 'title': 'Machine Learning with scikit-learn', 'description': 'Explore modern DevOps workflows, CI/CD pipelines, and monitoring strategies.', 'instructor_id': 'U031', 'category': 'Cloud Computing', 'level': 'beginner', 'duration': 49, 'price': 10000, 'tags': ['career-ready', 'community-support', 'lifetime-access'], 'created_at': datetime.datetime(2025, 1, 7, 22, 36, 11), 'updated_at': datetime.datetime(2025, 6, 9, 18, 31, 56, 902000), 'is_published': False}\n",
      "{'_id': ObjectId('68471a8cf4edaac75f735f5c'), 'course_id': 'C054', 'title': 'Git & GitHub for Collaboration', 'description': 'Learn how to build scalable data pipelines using modern tools and best practices.', 'instructor_id': 'U011', 'category': 'Cloud Computing', 'level': 'intermediate', 'duration': 31, 'price': 20000, 'tags': ['lifetime-access', 'real-world', 'interactive'], 'created_at': datetime.datetime(2025, 5, 18, 15, 55, 56), 'updated_at': datetime.datetime(2025, 6, 9, 18, 31, 56, 902000), 'is_published': True}\n",
      "{'_id': ObjectId('68471a8cf4edaac75f735f5f'), 'course_id': 'C057', 'title': 'Computer Vision with OpenCV', 'description': 'Master cloud infrastructure and deployment using AWS, Docker, and Kubernetes.', 'instructor_id': 'U026', 'category': 'DevOps', 'level': 'advanced', 'duration': 21, 'price': 10000, 'tags': ['mentor-supported', 'real-world', 'quiz-included'], 'created_at': datetime.datetime(2025, 5, 20, 17, 5, 59), 'updated_at': datetime.datetime(2025, 6, 9, 18, 31, 56, 902000), 'is_published': False}\n",
      "{'_id': ObjectId('68471a8cf4edaac75f735f60'), 'course_id': 'C058', 'title': 'Kubernetes for Developers', 'description': 'Learn to build REST APIs and microservices with Flask and Django.', 'instructor_id': 'U024', 'category': 'DevOps', 'level': 'advanced', 'duration': 49, 'price': 3000, 'tags': ['assignment-driven', 'video-tutorials', 'mentor-supported'], 'created_at': datetime.datetime(2025, 5, 3, 15, 31, 31), 'updated_at': datetime.datetime(2025, 6, 9, 18, 31, 56, 902000), 'is_published': False}\n",
      "{'_id': ObjectId('68471a8cf4edaac75f735f61'), 'course_id': 'C059', 'title': 'Kubernetes for Developers', 'description': 'Understand core machine learning concepts with hands-on Python projects.', 'instructor_id': 'U038', 'category': 'Data Engineering', 'level': 'beginner', 'duration': 47, 'price': 10000, 'tags': ['mentor-supported', 'quiz-included', 'video-tutorials'], 'created_at': datetime.datetime(2025, 3, 28, 6, 7, 39), 'updated_at': datetime.datetime(2025, 6, 9, 18, 31, 56, 902000), 'is_published': False}\n",
      "{'_id': ObjectId('68471a8cf4edaac75f735f62'), 'course_id': 'C060', 'title': 'Computer Vision with OpenCV', 'description': 'Get started with databases and SQL for data analysis and backend development.', 'instructor_id': 'U020', 'category': 'Web Development', 'level': 'beginner', 'duration': 51, 'price': 5000, 'tags': ['quiz-included', 'real-world', 'assignment-driven'], 'created_at': datetime.datetime(2025, 2, 2, 15, 32, 28), 'updated_at': datetime.datetime(2025, 6, 9, 18, 31, 56, 902000), 'is_published': False}\n",
      "{'_id': ObjectId('68471a8cf4edaac75f735f64'), 'course_id': 'C062', 'title': 'Git & GitHub for Collaboration', 'description': 'Understand core machine learning concepts with hands-on Python projects.', 'instructor_id': 'U009', 'category': 'Web Development', 'level': 'advanced', 'duration': 56, 'price': 10000, 'tags': ['hands-on', 'assignment-driven', 'real-world'], 'created_at': datetime.datetime(2025, 3, 26, 0, 11, 50), 'updated_at': datetime.datetime(2025, 6, 9, 18, 31, 56, 902000), 'is_published': True}\n",
      "{'_id': ObjectId('68471a8cf4edaac75f735f65'), 'course_id': 'C063', 'title': 'Kubernetes for Developers', 'description': 'Master cloud infrastructure and deployment using AWS, Docker, and Kubernetes.', 'instructor_id': 'U009', 'category': 'DevOps', 'level': 'beginner', 'duration': 60, 'price': 10000, 'tags': ['interview-prep', 'interactive', 'video-tutorials'], 'created_at': datetime.datetime(2025, 2, 6, 21, 43, 32), 'updated_at': datetime.datetime(2025, 6, 9, 18, 31, 56, 904000), 'is_published': False}\n",
      "{'_id': ObjectId('68471a8cf4edaac75f735f66'), 'course_id': 'C064', 'title': 'Kubernetes for Developers', 'description': 'Learn to build REST APIs and microservices with Flask and Django.', 'instructor_id': 'U028', 'category': 'Web Development', 'level': 'beginner', 'duration': 20, 'price': 10000, 'tags': ['lifetime-access', 'beginner-friendly', 'interview-prep'], 'created_at': datetime.datetime(2025, 3, 30, 15, 16, 30), 'updated_at': datetime.datetime(2025, 6, 9, 18, 31, 56, 904000), 'is_published': True}\n",
      "{'_id': ObjectId('68471a8cf4edaac75f735f67'), 'course_id': 'C065', 'title': 'Computer Vision with OpenCV', 'description': 'Master cloud infrastructure and deployment using AWS, Docker, and Kubernetes.', 'instructor_id': 'U011', 'category': 'DevOps', 'level': 'advanced', 'duration': 54, 'price': 3000, 'tags': ['hands-on', 'project-based', 'quiz-included'], 'created_at': datetime.datetime(2024, 12, 29, 12, 59), 'updated_at': datetime.datetime(2025, 6, 9, 18, 31, 56, 904000), 'is_published': True}\n",
      "{'_id': ObjectId('68471a8cf4edaac75f735f68'), 'course_id': 'C066', 'title': 'Git & GitHub for Collaboration', 'description': 'Develop a strong foundation in data engineering with real-world ETL scenarios.', 'instructor_id': 'U039', 'category': 'Cloud Computing', 'level': 'beginner', 'duration': 31, 'price': 10000, 'tags': ['video-tutorials', 'certification', 'career-ready'], 'created_at': datetime.datetime(2025, 2, 13, 17, 17, 33), 'updated_at': datetime.datetime(2025, 6, 9, 18, 31, 56, 904000), 'is_published': True}\n",
      "{'_id': ObjectId('68471a8cf4edaac75f735f69'), 'course_id': 'C067', 'title': 'Machine Learning with scikit-learn', 'description': 'Develop a strong foundation in data engineering with real-world ETL scenarios.', 'instructor_id': 'U036', 'category': 'Cloud Computing', 'level': 'intermediate', 'duration': 59, 'price': 5000, 'tags': ['project-based', 'mentor-supported', 'career-ready'], 'created_at': datetime.datetime(2024, 12, 16, 1, 3, 37), 'updated_at': datetime.datetime(2025, 6, 9, 18, 31, 56, 904000), 'is_published': False}\n",
      "{'_id': ObjectId('68471a8cf4edaac75f735f6a'), 'course_id': 'C068', 'title': 'Data Visualization with Seaborn', 'description': 'Prepare for a career in AI with deep learning and neural network fundamentals.', 'instructor_id': 'U040', 'category': 'AI', 'level': 'advanced', 'duration': 34, 'price': 3000, 'tags': ['community-support', 'assignment-driven', 'downloadable-resources'], 'created_at': datetime.datetime(2025, 3, 20, 11, 20, 12), 'updated_at': datetime.datetime(2025, 6, 9, 18, 31, 56, 904000), 'is_published': True}\n",
      "{'_id': ObjectId('68471a8cf4edaac75f735f6b'), 'course_id': 'C069', 'title': 'Machine Learning with scikit-learn', 'description': 'This course introduces you to web development using HTML, CSS, and JavaScript.', 'instructor_id': 'U009', 'category': 'Web Development', 'level': 'beginner', 'duration': 59, 'price': 5000, 'tags': ['mentor-supported', 'downloadable-resources', 'video-tutorials'], 'created_at': datetime.datetime(2025, 3, 7, 22, 22, 32), 'updated_at': datetime.datetime(2025, 6, 9, 18, 31, 56, 904000), 'is_published': True}\n",
      "{'_id': ObjectId('68471a8cf4edaac75f735f6c'), 'course_id': 'C070', 'title': 'Python for Beginners', 'description': 'Master cloud infrastructure and deployment using AWS, Docker, and Kubernetes.', 'instructor_id': 'U006', 'category': 'Data Engineering', 'level': 'beginner', 'duration': 35, 'price': 20000, 'tags': ['community-support', 'quiz-included', 'downloadable-resources'], 'created_at': datetime.datetime(2025, 3, 10, 23, 2, 46), 'updated_at': datetime.datetime(2025, 6, 9, 18, 31, 56, 904000), 'is_published': True}\n",
      "{'_id': ObjectId('68471a8cf4edaac75f735f6d'), 'course_id': 'C071', 'title': 'Deep Learning with TensorFlow', 'description': 'Prepare for a career in AI with deep learning and neural network fundamentals.', 'instructor_id': 'U028', 'category': 'DevOps', 'level': 'intermediate', 'duration': 54, 'price': 20000, 'tags': ['lifetime-access', 'video-tutorials', 'mentor-supported'], 'created_at': datetime.datetime(2025, 4, 18, 16, 39, 42), 'updated_at': datetime.datetime(2025, 6, 9, 18, 31, 56, 904000), 'is_published': True}\n",
      "{'_id': ObjectId('68471a8cf4edaac75f735f6e'), 'course_id': 'C072', 'title': 'Big Data Processing with Spark', 'description': 'Get started with databases and SQL for data analysis and backend development.', 'instructor_id': 'U014', 'category': 'AI', 'level': 'beginner', 'duration': 35, 'price': 5000, 'tags': ['downloadable-resources', 'quiz-included', 'real-world'], 'created_at': datetime.datetime(2025, 3, 20, 3, 24, 20), 'updated_at': datetime.datetime(2025, 6, 9, 18, 31, 56, 904000), 'is_published': False}\n",
      "{'_id': ObjectId('68471a8cf4edaac75f735f6f'), 'course_id': 'C073', 'title': 'Building REST APIs with FastAPI', 'description': 'Master cloud infrastructure and deployment using AWS, Docker, and Kubernetes.', 'instructor_id': 'U012', 'category': 'DevOps', 'level': 'intermediate', 'duration': 48, 'price': 3000, 'tags': ['beginner-friendly', 'interview-prep', 'assignment-driven'], 'created_at': datetime.datetime(2025, 1, 27, 6, 56, 22), 'updated_at': datetime.datetime(2025, 6, 9, 18, 31, 56, 904000), 'is_published': False}\n",
      "{'_id': ObjectId('68471a8cf4edaac75f735f70'), 'course_id': 'C074', 'title': 'Deep Learning with TensorFlow', 'description': 'Develop a strong foundation in data engineering with real-world ETL scenarios.', 'instructor_id': 'U021', 'category': 'Web Development', 'level': 'beginner', 'duration': 35, 'price': 5000, 'tags': ['interview-prep', 'downloadable-resources', 'career-ready'], 'created_at': datetime.datetime(2025, 5, 9, 19, 7, 22), 'updated_at': datetime.datetime(2025, 6, 9, 18, 31, 56, 904000), 'is_published': False}\n",
      "{'_id': ObjectId('68471a8cf4edaac75f735f71'), 'course_id': 'C075', 'title': 'Git & GitHub for Collaboration', 'description': 'Learn how to build scalable data pipelines using modern tools and best practices.', 'instructor_id': 'U024', 'category': 'Data Engineering', 'level': 'beginner', 'duration': 44, 'price': 10000, 'tags': ['downloadable-resources', 'video-tutorials', 'interactive'], 'created_at': datetime.datetime(2025, 6, 4, 12, 14, 57), 'updated_at': datetime.datetime(2025, 6, 9, 18, 31, 56, 904000), 'is_published': False}\n",
      "{'_id': ObjectId('68471a8cf4edaac75f735f72'), 'course_id': 'C076', 'title': 'Git & GitHub for Collaboration', 'description': 'Develop a strong foundation in data engineering with real-world ETL scenarios.', 'instructor_id': 'U019', 'category': 'Web Development', 'level': 'intermediate', 'duration': 45, 'price': 3000, 'tags': ['real-world', 'interview-prep', 'hands-on'], 'created_at': datetime.datetime(2025, 4, 1, 1, 57, 51), 'updated_at': datetime.datetime(2025, 6, 9, 18, 31, 56, 904000), 'is_published': False}\n",
      "{'_id': ObjectId('68471a8cf4edaac75f735f73'), 'course_id': 'C077', 'title': 'Machine Learning with scikit-learn', 'description': 'Understand core machine learning concepts with hands-on Python projects.', 'instructor_id': 'U001', 'category': 'DevOps', 'level': 'intermediate', 'duration': 32, 'price': 5000, 'tags': ['beginner-friendly', 'quiz-included', 'career-ready'], 'created_at': datetime.datetime(2025, 3, 25, 22, 16, 11), 'updated_at': datetime.datetime(2025, 6, 9, 18, 31, 56, 904000), 'is_published': True}\n",
      "{'_id': ObjectId('68471a8cf4edaac75f735f74'), 'course_id': 'C078', 'title': 'Computer Vision with OpenCV', 'description': 'Explore modern DevOps workflows, CI/CD pipelines, and monitoring strategies.', 'instructor_id': 'U020', 'category': 'DevOps', 'level': 'advanced', 'duration': 55, 'price': 20000, 'tags': ['mentor-supported', 'lifetime-access', 'video-tutorials'], 'created_at': datetime.datetime(2025, 3, 6, 23, 6, 6), 'updated_at': datetime.datetime(2025, 6, 9, 18, 31, 56, 904000), 'is_published': True}\n",
      "{'_id': ObjectId('68471a8cf4edaac75f735f75'), 'course_id': 'C079', 'title': 'Big Data Processing with Spark', 'description': 'Understand core machine learning concepts with hands-on Python projects.', 'instructor_id': 'U020', 'category': 'DevOps', 'level': 'intermediate', 'duration': 39, 'price': 20000, 'tags': ['beginner-friendly', 'community-support', 'interactive'], 'created_at': datetime.datetime(2024, 12, 28, 18, 28, 30), 'updated_at': datetime.datetime(2025, 6, 9, 18, 31, 56, 904000), 'is_published': False}\n",
      "{'_id': ObjectId('68471a8cf4edaac75f735f76'), 'course_id': 'C080', 'title': 'Python for Beginners', 'description': 'Prepare for a career in AI with deep learning and neural network fundamentals.', 'instructor_id': 'U029', 'category': 'AI', 'level': 'beginner', 'duration': 45, 'price': 20000, 'tags': ['mentor-supported', 'career-ready', 'quiz-included'], 'created_at': datetime.datetime(2025, 3, 3, 17, 6, 37), 'updated_at': datetime.datetime(2025, 6, 9, 18, 31, 56, 904000), 'is_published': True}\n",
      "{'_id': ObjectId('68471a8cf4edaac75f735f77'), 'course_id': 'C081', 'title': 'Big Data Processing with Spark', 'description': 'Understand core machine learning concepts with hands-on Python projects.', 'instructor_id': 'U019', 'category': 'Data Engineering', 'level': 'intermediate', 'duration': 19, 'price': 3000, 'tags': ['beginner-friendly', 'quiz-included', 'downloadable-resources'], 'created_at': datetime.datetime(2025, 2, 7, 5, 1, 38), 'updated_at': datetime.datetime(2025, 6, 9, 18, 31, 56, 904000), 'is_published': False}\n",
      "{'_id': ObjectId('68471a8cf4edaac75f735f78'), 'course_id': 'C082', 'title': 'Unit Testing in Python', 'description': 'Gain experience in big data technologies like Spark and Hadoop.', 'instructor_id': 'U020', 'category': 'DevOps', 'level': 'intermediate', 'duration': 36, 'price': 5000, 'tags': ['certification', 'assignment-driven', 'project-based'], 'created_at': datetime.datetime(2025, 1, 23, 17, 13, 18), 'updated_at': datetime.datetime(2025, 6, 9, 18, 31, 56, 904000), 'is_published': False}\n",
      "{'_id': ObjectId('68471a8cf4edaac75f735f79'), 'course_id': 'C083', 'title': 'Building REST APIs with FastAPI', 'description': 'Develop a strong foundation in data engineering with real-world ETL scenarios.', 'instructor_id': 'U030', 'category': 'Data Engineering', 'level': 'intermediate', 'duration': 16, 'price': 5000, 'tags': ['downloadable-resources', 'assignment-driven', 'project-based'], 'created_at': datetime.datetime(2025, 2, 19, 0, 55, 8), 'updated_at': datetime.datetime(2025, 6, 9, 18, 31, 56, 904000), 'is_published': False}\n",
      "{'_id': ObjectId('68471a8cf4edaac75f735f7a'), 'course_id': 'C084', 'title': 'Clean Code and Refactoring', 'description': 'Develop a strong foundation in data engineering with real-world ETL scenarios.', 'instructor_id': 'U014', 'category': 'AI', 'level': 'intermediate', 'duration': 41, 'price': 5000, 'tags': ['certification', 'interactive', 'interview-prep'], 'created_at': datetime.datetime(2025, 2, 5, 5, 19, 54), 'updated_at': datetime.datetime(2025, 6, 9, 18, 31, 56, 904000), 'is_published': True}\n",
      "{'_id': ObjectId('68471a8cf4edaac75f735f7c'), 'course_id': 'C086', 'title': 'Kubernetes for Developers', 'description': 'Learn to build REST APIs and microservices with Flask and Django.', 'instructor_id': 'U021', 'category': 'AI', 'level': 'intermediate', 'duration': 25, 'price': 20000, 'tags': ['interactive', 'lifetime-access', 'project-based'], 'created_at': datetime.datetime(2025, 4, 21, 10, 18, 19), 'updated_at': datetime.datetime(2025, 6, 9, 18, 31, 56, 904000), 'is_published': False}\n",
      "{'_id': ObjectId('68471a8cf4edaac75f735f7e'), 'course_id': 'C088', 'title': 'Kubernetes for Developers', 'description': 'Gain experience in big data technologies like Spark and Hadoop.', 'instructor_id': 'U023', 'category': 'Web Development', 'level': 'advanced', 'duration': 8, 'price': 3000, 'tags': ['real-world', 'hands-on', 'community-support'], 'created_at': datetime.datetime(2025, 2, 12, 14, 59, 57), 'updated_at': datetime.datetime(2025, 6, 9, 18, 31, 56, 905000), 'is_published': False}\n",
      "{'_id': ObjectId('68471a8cf4edaac75f735f7f'), 'course_id': 'C089', 'title': 'Deploying Applications with Docker', 'description': 'Get started with databases and SQL for data analysis and backend development.', 'instructor_id': 'U035', 'category': 'Cloud Computing', 'level': 'intermediate', 'duration': 38, 'price': 10000, 'tags': ['project-based', 'interview-prep', 'video-tutorials'], 'created_at': datetime.datetime(2024, 12, 22, 18, 24, 8), 'updated_at': datetime.datetime(2025, 6, 9, 18, 31, 56, 905000), 'is_published': True}\n",
      "{'_id': ObjectId('68471a8cf4edaac75f735f80'), 'course_id': 'C090', 'title': 'Unit Testing in Python', 'description': 'Understand core machine learning concepts with hands-on Python projects.', 'instructor_id': 'U014', 'category': 'Web Development', 'level': 'beginner', 'duration': 46, 'price': 20000, 'tags': ['community-support', 'downloadable-resources', 'interactive'], 'created_at': datetime.datetime(2025, 6, 9, 9, 39, 17), 'updated_at': datetime.datetime(2025, 6, 9, 18, 31, 56, 905000), 'is_published': True}\n",
      "{'_id': ObjectId('68471a8cf4edaac75f735f81'), 'course_id': 'C091', 'title': 'Clean Code and Refactoring', 'description': 'Explore modern DevOps workflows, CI/CD pipelines, and monitoring strategies.', 'instructor_id': 'U018', 'category': 'Data Engineering', 'level': 'intermediate', 'duration': 9, 'price': 3000, 'tags': ['project-based', 'real-world', 'interview-prep'], 'created_at': datetime.datetime(2025, 5, 4, 4, 23, 26), 'updated_at': datetime.datetime(2025, 6, 9, 18, 31, 56, 905000), 'is_published': False}\n",
      "{'_id': ObjectId('68471a8cf4edaac75f735f82'), 'course_id': 'C092', 'title': 'Unit Testing in Python', 'description': 'Get started with databases and SQL for data analysis and backend development.', 'instructor_id': 'U016', 'category': 'Web Development', 'level': 'beginner', 'duration': 18, 'price': 3000, 'tags': ['lifetime-access', 'certification', 'community-support'], 'created_at': datetime.datetime(2025, 5, 23, 5, 58, 51), 'updated_at': datetime.datetime(2025, 6, 9, 18, 31, 56, 905000), 'is_published': False}\n",
      "{'_id': ObjectId('68471a8cf4edaac75f735f83'), 'course_id': 'C093', 'title': 'Git & GitHub for Collaboration', 'description': 'Get started with databases and SQL for data analysis and backend development.', 'instructor_id': 'U038', 'category': 'AI', 'level': 'intermediate', 'duration': 47, 'price': 5000, 'tags': ['community-support', 'lifetime-access', 'project-based'], 'created_at': datetime.datetime(2025, 1, 8, 2, 25, 31), 'updated_at': datetime.datetime(2025, 6, 9, 18, 31, 56, 905000), 'is_published': True}\n",
      "{'_id': ObjectId('68471a8cf4edaac75f735f84'), 'course_id': 'C094', 'title': 'Data Visualization with Seaborn', 'description': 'This course introduces you to web development using HTML, CSS, and JavaScript.', 'instructor_id': 'U002', 'category': 'Web Development', 'level': 'beginner', 'duration': 48, 'price': 5000, 'tags': ['video-tutorials', 'interview-prep', 'beginner-friendly'], 'created_at': datetime.datetime(2025, 3, 6, 0, 39, 8), 'updated_at': datetime.datetime(2025, 6, 9, 18, 31, 56, 905000), 'is_published': False}\n",
      "{'_id': ObjectId('68471a8cf4edaac75f735f85'), 'course_id': 'C095', 'title': 'MongoDB for Developers', 'description': 'Master cloud infrastructure and deployment using AWS, Docker, and Kubernetes.', 'instructor_id': 'U012', 'category': 'DevOps', 'level': 'advanced', 'duration': 50, 'price': 3000, 'tags': ['project-based', 'mentor-supported', 'career-ready'], 'created_at': datetime.datetime(2025, 4, 23, 6, 37, 22), 'updated_at': datetime.datetime(2025, 6, 9, 18, 31, 56, 905000), 'is_published': False}\n",
      "{'_id': ObjectId('68471a8cf4edaac75f735f86'), 'course_id': 'C096', 'title': 'Computer Vision with OpenCV', 'description': 'Learn how to build scalable data pipelines using modern tools and best practices.', 'instructor_id': 'U029', 'category': 'Web Development', 'level': 'advanced', 'duration': 60, 'price': 10000, 'tags': ['interactive', 'real-world', 'career-ready'], 'created_at': datetime.datetime(2025, 1, 4, 5, 19, 44), 'updated_at': datetime.datetime(2025, 6, 9, 18, 31, 56, 905000), 'is_published': True}\n",
      "{'_id': ObjectId('68471a8cf4edaac75f735f87'), 'course_id': 'C097', 'title': 'Big Data Processing with Spark', 'description': 'Learn how to build scalable data pipelines using modern tools and best practices.', 'instructor_id': 'U004', 'category': 'Cloud Computing', 'level': 'intermediate', 'duration': 12, 'price': 20000, 'tags': ['mentor-supported', 'career-ready', 'real-world'], 'created_at': datetime.datetime(2024, 12, 17, 14, 36, 2), 'updated_at': datetime.datetime(2025, 6, 9, 18, 31, 56, 905000), 'is_published': False}\n",
      "{'_id': ObjectId('68471a8cf4edaac75f735f88'), 'course_id': 'C098', 'title': 'Building REST APIs with FastAPI', 'description': 'Gain experience in big data technologies like Spark and Hadoop.', 'instructor_id': 'U033', 'category': 'Cloud Computing', 'level': 'beginner', 'duration': 38, 'price': 20000, 'tags': ['hands-on', 'interactive', 'downloadable-resources'], 'created_at': datetime.datetime(2025, 1, 16, 13, 28, 50), 'updated_at': datetime.datetime(2025, 6, 9, 18, 31, 56, 905000), 'is_published': True}\n",
      "{'_id': ObjectId('68471a8cf4edaac75f735f89'), 'course_id': 'C099', 'title': 'Python for Beginners', 'description': 'Prepare for a career in AI with deep learning and neural network fundamentals.', 'instructor_id': 'U010', 'category': 'Web Development', 'level': 'advanced', 'duration': 59, 'price': 3000, 'tags': ['video-tutorials', 'beginner-friendly', 'project-based'], 'created_at': datetime.datetime(2025, 5, 27, 16, 20, 42), 'updated_at': datetime.datetime(2025, 6, 9, 18, 31, 56, 905000), 'is_published': True}\n",
      "{'_id': ObjectId('68471a8cf4edaac75f735f8a'), 'course_id': 'C100', 'title': 'Data Visualization with Seaborn', 'description': 'Prepare for a career in AI with deep learning and neural network fundamentals.', 'instructor_id': 'U010', 'category': 'Cloud Computing', 'level': 'beginner', 'duration': 6, 'price': 20000, 'tags': ['video-tutorials', 'interactive', 'project-based'], 'created_at': datetime.datetime(2025, 4, 20, 6, 3, 47), 'updated_at': datetime.datetime(2025, 6, 9, 18, 31, 56, 905000), 'is_published': True}\n"
     ]
    }
   ],
   "source": [
    "#Here, i instead used prices between 3000 ans 20000 because that was the prices i inputed at the beginning of my code\n",
    "\n",
    "courses_in_range = list(db.altcourseschema.find({\n",
    "    \"price\": {\"$gte\": 3000, \"$lte\": 20000}\n",
    "}))\n",
    "\n",
    "for rang_course in courses_in_range:\n",
    "    print(rang_course)"
   ]
  },
  {
   "cell_type": "code",
   "execution_count": null,
   "id": "0d9a1505",
   "metadata": {},
   "outputs": [],
   "source": []
  },
  {
   "cell_type": "markdown",
   "id": "6976641f",
   "metadata": {},
   "source": [
    "*2: Get users who joined in the last 6 months*"
   ]
  },
  {
   "cell_type": "code",
   "execution_count": 107,
   "id": "fbe40726",
   "metadata": {},
   "outputs": [
    {
     "name": "stdout",
     "output_type": "stream",
     "text": [
      "{'_id': ObjectId('6847f8ecf4edaac75f73601f'), 'name': 'Tobi Lawal', 'email': 'tobi.lawal@student.com', 'role': 'student', 'created_at': datetime.datetime(2025, 6, 10, 9, 20, 44, 136000)}\n"
     ]
    },
    {
     "name": "stderr",
     "output_type": "stream",
     "text": [
      "C:\\Users\\hello\\AppData\\Local\\Temp\\ipykernel_5900\\4195029415.py:3: DeprecationWarning: datetime.datetime.utcnow() is deprecated and scheduled for removal in a future version. Use timezone-aware objects to represent datetimes in UTC: datetime.datetime.now(datetime.UTC).\n",
      "  six_months_ago = datetime.utcnow() - timedelta(days=180)\n"
     ]
    }
   ],
   "source": [
    "#get users who joined in the last 6 months\n",
    "\n",
    "six_months_ago = datetime.utcnow() - timedelta(days=180)\n",
    "\n",
    "recent_users = list(db.altuserschema.find({\n",
    "    \"created_at\": {\"$gte\": six_months_ago}\n",
    "}))\n",
    "\n",
    "for user_rec in recent_users:\n",
    "    print(user_rec)"
   ]
  },
  {
   "cell_type": "code",
   "execution_count": null,
   "id": "e7d91db6",
   "metadata": {},
   "outputs": [],
   "source": []
  },
  {
   "cell_type": "markdown",
   "id": "eaeb57b7",
   "metadata": {},
   "source": [
    "*3: Find courses that have specific tags using $in operators*"
   ]
  },
  {
   "cell_type": "code",
   "execution_count": 108,
   "id": "e1f67078",
   "metadata": {},
   "outputs": [
    {
     "name": "stdout",
     "output_type": "stream",
     "text": [
      "{'_id': ObjectId('68471a8cf4edaac75f735f27'), 'course_id': 'C001', 'title': 'Big Data Processing with Spark', 'description': 'This course introduces you to web development using HTML, CSS, and JavaScript.', 'instructor_id': 'U030', 'category': 'AI', 'level': 'beginner', 'duration': 47, 'price': 10000, 'tags': ['project-based', 'quiz-included', 'beginner-friendly'], 'created_at': datetime.datetime(2025, 2, 13, 12, 25), 'updated_at': datetime.datetime(2025, 6, 9, 18, 31, 56, 900000), 'is_published': True}\n",
      "{'_id': ObjectId('68471a8cf4edaac75f735f2a'), 'course_id': 'C004', 'title': 'Building REST APIs with FastAPI', 'description': 'Explore modern DevOps workflows, CI/CD pipelines, and monitoring strategies.', 'instructor_id': 'U022', 'category': 'DevOps', 'level': 'beginner', 'duration': 47, 'price': 5000, 'tags': ['real-world', 'interview-prep', 'lifetime-access'], 'created_at': datetime.datetime(2025, 3, 31, 16, 37, 32), 'updated_at': datetime.datetime(2025, 6, 9, 18, 31, 56, 900000), 'is_published': True}\n",
      "{'_id': ObjectId('68471a8cf4edaac75f735f2b'), 'course_id': 'C005', 'title': 'Data Engineering with Python', 'description': 'Master cloud infrastructure and deployment using AWS, Docker, and Kubernetes.', 'instructor_id': 'U038', 'category': 'Data Engineering', 'level': 'advanced', 'duration': 53, 'price': 20000, 'tags': ['hands-on', 'quiz-included', 'lifetime-access'], 'created_at': datetime.datetime(2025, 3, 24, 13, 32, 17), 'updated_at': datetime.datetime(2025, 6, 9, 18, 31, 56, 900000), 'is_published': True}\n",
      "{'_id': ObjectId('68471a8cf4edaac75f735f2c'), 'course_id': 'C006', 'title': 'Python for Beginners', 'description': 'Explore modern DevOps workflows, CI/CD pipelines, and monitoring strategies.', 'instructor_id': 'U032', 'category': 'Web Development', 'level': 'advanced', 'duration': 50, 'price': 3000, 'tags': ['interactive', 'lifetime-access', 'career-ready'], 'created_at': datetime.datetime(2025, 1, 30, 20, 12, 4), 'updated_at': datetime.datetime(2025, 6, 9, 18, 31, 56, 900000), 'is_published': True}\n",
      "{'_id': ObjectId('68471a8cf4edaac75f735f2d'), 'course_id': 'C007', 'title': 'Deep Learning with TensorFlow', 'description': 'Develop a strong foundation in data engineering with real-world ETL scenarios.', 'instructor_id': 'U020', 'category': 'Web Development', 'level': 'advanced', 'duration': 33, 'price': 10000, 'tags': ['real-world', 'community-support', 'downloadable-resources'], 'created_at': datetime.datetime(2025, 2, 20, 20, 27, 45), 'updated_at': datetime.datetime(2025, 6, 9, 18, 31, 56, 900000), 'is_published': True, 'email': 'updated.email@example.com', 'name': 'Updated Name'}\n",
      "{'_id': ObjectId('68471a8cf4edaac75f735f2e'), 'course_id': 'C008', 'title': 'Kubernetes for Developers', 'description': 'Learn to build REST APIs and microservices with Flask and Django.', 'instructor_id': 'U023', 'category': 'AI', 'level': 'advanced', 'duration': 20, 'price': 3000, 'tags': ['interactive', 'assignment-driven', 'project-based'], 'created_at': datetime.datetime(2025, 4, 25, 22, 12, 24), 'updated_at': datetime.datetime(2025, 6, 9, 18, 31, 56, 900000), 'is_published': True}\n",
      "{'_id': ObjectId('68471a8cf4edaac75f735f30'), 'course_id': 'C010', 'title': 'Computer Vision with OpenCV', 'description': 'Prepare for a career in AI with deep learning and neural network fundamentals.', 'instructor_id': 'U001', 'category': 'Cloud Computing', 'level': 'intermediate', 'duration': 46, 'price': 10000, 'tags': ['community-support', 'career-ready', 'beginner-friendly'], 'created_at': datetime.datetime(2025, 2, 27, 8, 37, 14), 'updated_at': datetime.datetime(2025, 6, 9, 18, 31, 56, 900000), 'is_published': True}\n",
      "{'_id': ObjectId('68471a8cf4edaac75f735f31'), 'course_id': 'C011', 'title': 'Deep Learning with TensorFlow', 'description': 'Learn how to build scalable data pipelines using modern tools and best practices.', 'instructor_id': 'U016', 'category': 'Cloud Computing', 'level': 'intermediate', 'duration': 58, 'price': 20000, 'tags': ['real-world', 'hands-on', 'career-ready'], 'created_at': datetime.datetime(2025, 5, 20, 21, 49, 32), 'updated_at': datetime.datetime(2025, 6, 9, 18, 31, 56, 900000), 'is_published': False}\n",
      "{'_id': ObjectId('68471a8cf4edaac75f735f32'), 'course_id': 'C012', 'title': 'Deep Learning with TensorFlow', 'description': 'This course introduces you to web development using HTML, CSS, and JavaScript.', 'instructor_id': 'U015', 'category': 'DevOps', 'level': 'beginner', 'duration': 34, 'price': 5000, 'tags': ['quiz-included', 'assignment-driven', 'hands-on'], 'created_at': datetime.datetime(2025, 3, 10, 4, 8, 57), 'updated_at': datetime.datetime(2025, 6, 9, 18, 31, 56, 900000), 'is_published': True, 'grade': 85}\n",
      "{'_id': ObjectId('68471a8cf4edaac75f735f33'), 'course_id': 'C013', 'title': 'Computer Vision with OpenCV', 'description': 'Learn to build REST APIs and microservices with Flask and Django.', 'instructor_id': 'U039', 'category': 'Cloud Computing', 'level': 'advanced', 'duration': 5, 'price': 20000, 'tags': ['certification', 'beginner-friendly', 'real-world', 'mongodb', 'backend', 'nosql'], 'created_at': datetime.datetime(2025, 2, 25, 9, 55, 58), 'updated_at': datetime.datetime(2025, 6, 9, 18, 31, 56, 900000), 'is_published': False}\n",
      "{'_id': ObjectId('68471a8cf4edaac75f735f34'), 'course_id': 'C014', 'title': 'Data Engineering with Python', 'description': 'Master cloud infrastructure and deployment using AWS, Docker, and Kubernetes.', 'instructor_id': 'U018', 'category': 'Web Development', 'level': 'beginner', 'duration': 58, 'price': 5000, 'tags': ['project-based', 'beginner-friendly', 'quiz-included'], 'created_at': datetime.datetime(2025, 6, 7, 17, 44, 31), 'updated_at': datetime.datetime(2025, 6, 9, 18, 31, 56, 900000), 'is_published': True}\n",
      "{'_id': ObjectId('68471a8cf4edaac75f735f35'), 'course_id': 'C015', 'title': 'Kubernetes for Developers', 'description': 'Understand core machine learning concepts with hands-on Python projects.', 'instructor_id': 'U013', 'category': 'AI', 'level': 'intermediate', 'duration': 55, 'price': 0, 'tags': ['project-based', 'interactive', 'beginner-friendly'], 'created_at': datetime.datetime(2025, 4, 11, 22, 0, 5), 'updated_at': datetime.datetime(2025, 6, 9, 18, 31, 56, 900000), 'is_published': False}\n",
      "{'_id': ObjectId('68471a8cf4edaac75f735f36'), 'course_id': 'C016', 'title': 'AWS Cloud Fundamentals', 'description': 'Prepare for a career in AI with deep learning and neural network fundamentals.', 'instructor_id': 'U039', 'category': 'Web Development', 'level': 'beginner', 'duration': 39, 'price': 5000, 'tags': ['downloadable-resources', 'career-ready', 'assignment-driven'], 'created_at': datetime.datetime(2024, 12, 22, 4, 5, 3), 'updated_at': datetime.datetime(2025, 6, 9, 18, 31, 56, 900000), 'is_published': True}\n",
      "{'_id': ObjectId('68471a8cf4edaac75f735f37'), 'course_id': 'C017', 'title': 'AWS Cloud Fundamentals', 'description': 'This course introduces you to web development using HTML, CSS, and JavaScript.', 'instructor_id': 'U014', 'category': 'Web Development', 'level': 'intermediate', 'duration': 54, 'price': 0, 'tags': ['hands-on', 'beginner-friendly', 'project-based'], 'created_at': datetime.datetime(2024, 12, 12, 15, 8, 16), 'updated_at': datetime.datetime(2025, 6, 9, 18, 31, 56, 900000), 'is_published': True}\n",
      "{'_id': ObjectId('68471a8cf4edaac75f735f39'), 'course_id': 'C019', 'title': 'Data Engineering with Python', 'description': 'Prepare for a career in AI with deep learning and neural network fundamentals.', 'instructor_id': 'U016', 'category': 'DevOps', 'level': 'advanced', 'duration': 21, 'price': 0, 'tags': ['project-based', 'downloadable-resources', 'mentor-supported'], 'created_at': datetime.datetime(2025, 5, 22, 9, 24, 33), 'updated_at': datetime.datetime(2025, 6, 9, 18, 31, 56, 900000), 'is_published': False}\n",
      "{'_id': ObjectId('68471a8cf4edaac75f735f3a'), 'course_id': 'C020', 'title': 'Kubernetes for Developers', 'description': 'Learn to build REST APIs and microservices with Flask and Django.', 'instructor_id': 'U015', 'category': 'Data Engineering', 'level': 'beginner', 'duration': 33, 'price': 20000, 'tags': ['career-ready', 'downloadable-resources', 'quiz-included'], 'created_at': datetime.datetime(2025, 3, 28, 1, 3, 36), 'updated_at': datetime.datetime(2025, 6, 9, 18, 31, 56, 901000), 'is_published': True}\n",
      "{'_id': ObjectId('68471a8cf4edaac75f735f3b'), 'course_id': 'C021', 'title': 'Big Data Processing with Spark', 'description': 'Prepare for a career in AI with deep learning and neural network fundamentals.', 'instructor_id': 'U011', 'category': 'Data Engineering', 'level': 'intermediate', 'duration': 44, 'price': 5000, 'tags': ['interview-prep', 'career-ready', 'downloadable-resources'], 'created_at': datetime.datetime(2025, 4, 26, 18, 45, 30), 'updated_at': datetime.datetime(2025, 6, 9, 18, 31, 56, 901000), 'is_published': False}\n",
      "{'_id': ObjectId('68471a8cf4edaac75f735f3c'), 'course_id': 'C022', 'title': 'Big Data Processing with Spark', 'description': 'Understand core machine learning concepts with hands-on Python projects.', 'instructor_id': 'U025', 'category': 'Data Engineering', 'level': 'advanced', 'duration': 11, 'price': 10000, 'tags': ['assignment-driven', 'downloadable-resources', 'project-based'], 'created_at': datetime.datetime(2025, 1, 15, 9, 15, 28), 'updated_at': datetime.datetime(2025, 6, 9, 18, 31, 56, 901000), 'is_published': True}\n",
      "{'_id': ObjectId('68471a8cf4edaac75f735f3f'), 'course_id': 'C025', 'title': 'Unit Testing in Python', 'description': 'Develop a strong foundation in data engineering with real-world ETL scenarios.', 'instructor_id': 'U022', 'category': 'Cloud Computing', 'level': 'intermediate', 'duration': 27, 'price': 20000, 'tags': ['hands-on', 'interview-prep', 'downloadable-resources'], 'created_at': datetime.datetime(2024, 12, 18, 6, 0, 48), 'updated_at': datetime.datetime(2025, 6, 9, 18, 31, 56, 901000), 'is_published': True}\n",
      "{'_id': ObjectId('68471a8cf4edaac75f735f46'), 'course_id': 'C032', 'title': 'Unit Testing in Python', 'description': 'Master cloud infrastructure and deployment using AWS, Docker, and Kubernetes.', 'instructor_id': 'U005', 'category': 'DevOps', 'level': 'intermediate', 'duration': 18, 'price': 20000, 'tags': ['hands-on', 'lifetime-access', 'downloadable-resources'], 'created_at': datetime.datetime(2024, 12, 14, 8, 42, 15), 'updated_at': datetime.datetime(2025, 6, 9, 18, 31, 56, 901000), 'is_published': False}\n",
      "{'_id': ObjectId('68471a8cf4edaac75f735f49'), 'course_id': 'C035', 'title': 'Computer Vision with OpenCV', 'description': 'Explore modern DevOps workflows, CI/CD pipelines, and monitoring strategies.', 'instructor_id': 'U006', 'category': 'Cloud Computing', 'level': 'advanced', 'duration': 58, 'price': 20000, 'tags': ['beginner-friendly', 'interactive', 'career-ready'], 'created_at': datetime.datetime(2024, 12, 22, 6, 26, 29), 'updated_at': datetime.datetime(2025, 6, 9, 18, 31, 56, 901000), 'is_published': False}\n",
      "{'_id': ObjectId('68471a8cf4edaac75f735f4a'), 'course_id': 'C036', 'title': 'Clean Code and Refactoring', 'description': 'This course introduces you to web development using HTML, CSS, and JavaScript.', 'instructor_id': 'U010', 'category': 'Web Development', 'level': 'intermediate', 'duration': 54, 'price': 5000, 'tags': ['mentor-supported', 'real-world', 'career-ready'], 'created_at': datetime.datetime(2025, 4, 28, 21, 27, 49), 'updated_at': datetime.datetime(2025, 6, 9, 18, 31, 56, 901000), 'is_published': True}\n",
      "{'_id': ObjectId('68471a8cf4edaac75f735f4c'), 'course_id': 'C038', 'title': 'AWS Cloud Fundamentals', 'description': 'This course introduces you to web development using HTML, CSS, and JavaScript.', 'instructor_id': 'U021', 'category': 'Cloud Computing', 'level': 'intermediate', 'duration': 17, 'price': 5000, 'tags': ['interactive', 'quiz-included', 'real-world'], 'created_at': datetime.datetime(2025, 1, 27, 8, 16, 26), 'updated_at': datetime.datetime(2025, 6, 9, 18, 31, 56, 901000), 'is_published': True}\n",
      "{'_id': ObjectId('68471a8cf4edaac75f735f4d'), 'course_id': 'C039', 'title': 'Big Data Processing with Spark', 'description': 'Learn how to build scalable data pipelines using modern tools and best practices.', 'instructor_id': 'U008', 'category': 'Data Engineering', 'level': 'beginner', 'duration': 34, 'price': 5000, 'tags': ['project-based', 'interview-prep', 'assignment-driven'], 'created_at': datetime.datetime(2024, 12, 15, 17, 28, 52), 'updated_at': datetime.datetime(2025, 6, 9, 18, 31, 56, 901000), 'is_published': False}\n",
      "{'_id': ObjectId('68471a8cf4edaac75f735f4e'), 'course_id': 'C040', 'title': 'Machine Learning with scikit-learn', 'description': 'Learn to build REST APIs and microservices with Flask and Django.', 'instructor_id': 'U005', 'category': 'Cloud Computing', 'level': 'beginner', 'duration': 10, 'price': 5000, 'tags': ['real-world', 'lifetime-access', 'interactive'], 'created_at': datetime.datetime(2025, 5, 17, 21, 57, 13), 'updated_at': datetime.datetime(2025, 6, 9, 18, 31, 56, 901000), 'is_published': False}\n",
      "{'_id': ObjectId('68471a8cf4edaac75f735f4f'), 'course_id': 'C041', 'title': 'Big Data Processing with Spark', 'description': 'Master cloud infrastructure and deployment using AWS, Docker, and Kubernetes.', 'instructor_id': 'U007', 'category': 'DevOps', 'level': 'beginner', 'duration': 51, 'price': 3000, 'tags': ['quiz-included', 'project-based', 'certification'], 'created_at': datetime.datetime(2025, 4, 14, 5, 57, 29), 'updated_at': datetime.datetime(2025, 6, 9, 18, 31, 56, 901000), 'is_published': True}\n",
      "{'_id': ObjectId('68471a8cf4edaac75f735f50'), 'course_id': 'C042', 'title': 'MongoDB for Developers', 'description': 'Master cloud infrastructure and deployment using AWS, Docker, and Kubernetes.', 'instructor_id': 'U009', 'category': 'Web Development', 'level': 'beginner', 'duration': 27, 'price': 10000, 'tags': ['career-ready', 'interactive', 'interview-prep'], 'created_at': datetime.datetime(2025, 2, 9, 16, 0, 12), 'updated_at': datetime.datetime(2025, 6, 9, 18, 31, 56, 901000), 'is_published': True}\n",
      "{'_id': ObjectId('68471a8cf4edaac75f735f51'), 'course_id': 'C043', 'title': 'Clean Code and Refactoring', 'description': 'Learn how to build scalable data pipelines using modern tools and best practices.', 'instructor_id': 'U013', 'category': 'AI', 'level': 'advanced', 'duration': 21, 'price': 10000, 'tags': ['hands-on', 'assignment-driven', 'community-support'], 'created_at': datetime.datetime(2025, 4, 8, 18, 26, 43), 'updated_at': datetime.datetime(2025, 6, 9, 18, 31, 56, 901000), 'is_published': True}\n",
      "{'_id': ObjectId('68471a8cf4edaac75f735f52'), 'course_id': 'C044', 'title': 'MongoDB for Developers', 'description': 'Get started with databases and SQL for data analysis and backend development.', 'instructor_id': 'U030', 'category': 'Cloud Computing', 'level': 'intermediate', 'duration': 31, 'price': 0, 'tags': ['career-ready', 'interactive', 'interview-prep'], 'created_at': datetime.datetime(2025, 5, 27, 22, 54, 34), 'updated_at': datetime.datetime(2025, 6, 9, 18, 31, 56, 901000), 'is_published': True}\n",
      "{'_id': ObjectId('68471a8cf4edaac75f735f55'), 'course_id': 'C047', 'title': 'MongoDB for Developers', 'description': 'Gain experience in big data technologies like Spark and Hadoop.', 'instructor_id': 'U021', 'category': 'AI', 'level': 'intermediate', 'duration': 24, 'price': 5000, 'tags': ['community-support', 'real-world', 'certification'], 'created_at': datetime.datetime(2025, 3, 22, 4, 26, 11), 'updated_at': datetime.datetime(2025, 6, 9, 18, 31, 56, 902000), 'is_published': False}\n",
      "{'_id': ObjectId('68471a8cf4edaac75f735f56'), 'course_id': 'C048', 'title': 'Building REST APIs with FastAPI', 'description': 'Prepare for a career in AI with deep learning and neural network fundamentals.', 'instructor_id': 'U017', 'category': 'DevOps', 'level': 'beginner', 'duration': 45, 'price': 10000, 'tags': ['community-support', 'lifetime-access', 'real-world'], 'created_at': datetime.datetime(2025, 2, 10, 16, 18, 7), 'updated_at': datetime.datetime(2025, 6, 9, 18, 31, 56, 902000), 'is_published': False}\n",
      "{'_id': ObjectId('68471a8cf4edaac75f735f57'), 'course_id': 'C049', 'title': 'Unit Testing in Python', 'description': 'Get started with databases and SQL for data analysis and backend development.', 'instructor_id': 'U002', 'category': 'Data Engineering', 'level': 'advanced', 'duration': 45, 'price': 20000, 'tags': ['project-based', 'beginner-friendly', 'certification'], 'created_at': datetime.datetime(2025, 1, 30, 16, 29, 31), 'updated_at': datetime.datetime(2025, 6, 9, 18, 31, 56, 902000), 'is_published': True}\n",
      "{'_id': ObjectId('68471a8cf4edaac75f735f59'), 'course_id': 'C051', 'title': 'Machine Learning with scikit-learn', 'description': 'Master cloud infrastructure and deployment using AWS, Docker, and Kubernetes.', 'instructor_id': 'U017', 'category': 'AI', 'level': 'beginner', 'duration': 60, 'price': 5000, 'tags': ['hands-on', 'interview-prep', 'mentor-supported'], 'created_at': datetime.datetime(2025, 4, 5, 12, 14, 49), 'updated_at': datetime.datetime(2025, 6, 9, 18, 31, 56, 902000), 'is_published': True}\n",
      "{'_id': ObjectId('68471a8cf4edaac75f735f5a'), 'course_id': 'C052', 'title': 'Machine Learning with scikit-learn', 'description': 'Explore modern DevOps workflows, CI/CD pipelines, and monitoring strategies.', 'instructor_id': 'U031', 'category': 'Cloud Computing', 'level': 'beginner', 'duration': 49, 'price': 10000, 'tags': ['career-ready', 'community-support', 'lifetime-access'], 'created_at': datetime.datetime(2025, 1, 7, 22, 36, 11), 'updated_at': datetime.datetime(2025, 6, 9, 18, 31, 56, 902000), 'is_published': False}\n",
      "{'_id': ObjectId('68471a8cf4edaac75f735f5b'), 'course_id': 'C053', 'title': 'Big Data Processing with Spark', 'description': 'This course introduces you to web development using HTML, CSS, and JavaScript.', 'instructor_id': 'U015', 'category': 'Cloud Computing', 'level': 'intermediate', 'duration': 41, 'price': 0, 'tags': ['hands-on', 'lifetime-access', 'interactive'], 'created_at': datetime.datetime(2025, 3, 11, 17, 17, 40), 'updated_at': datetime.datetime(2025, 6, 9, 18, 31, 56, 902000), 'is_published': True}\n",
      "{'_id': ObjectId('68471a8cf4edaac75f735f5c'), 'course_id': 'C054', 'title': 'Git & GitHub for Collaboration', 'description': 'Learn how to build scalable data pipelines using modern tools and best practices.', 'instructor_id': 'U011', 'category': 'Cloud Computing', 'level': 'intermediate', 'duration': 31, 'price': 20000, 'tags': ['lifetime-access', 'real-world', 'interactive'], 'created_at': datetime.datetime(2025, 5, 18, 15, 55, 56), 'updated_at': datetime.datetime(2025, 6, 9, 18, 31, 56, 902000), 'is_published': True}\n",
      "{'_id': ObjectId('68471a8cf4edaac75f735f5d'), 'course_id': 'C055', 'title': 'Python for Beginners', 'description': 'Learn to build REST APIs and microservices with Flask and Django.', 'instructor_id': 'U017', 'category': 'DevOps', 'level': 'advanced', 'duration': 13, 'price': 0, 'tags': ['interview-prep', 'real-world', 'assignment-driven'], 'created_at': datetime.datetime(2025, 5, 23, 11, 15, 59), 'updated_at': datetime.datetime(2025, 6, 9, 18, 31, 56, 902000), 'is_published': True}\n",
      "{'_id': ObjectId('68471a8cf4edaac75f735f5e'), 'course_id': 'C056', 'title': 'Data Engineering with Python', 'description': 'Master cloud infrastructure and deployment using AWS, Docker, and Kubernetes.', 'instructor_id': 'U015', 'category': 'Data Engineering', 'level': 'advanced', 'duration': 25, 'price': 0, 'tags': ['interactive', 'real-world', 'quiz-included'], 'created_at': datetime.datetime(2025, 3, 28, 22, 38, 41), 'updated_at': datetime.datetime(2025, 6, 9, 18, 31, 56, 902000), 'is_published': False}\n",
      "{'_id': ObjectId('68471a8cf4edaac75f735f5f'), 'course_id': 'C057', 'title': 'Computer Vision with OpenCV', 'description': 'Master cloud infrastructure and deployment using AWS, Docker, and Kubernetes.', 'instructor_id': 'U026', 'category': 'DevOps', 'level': 'advanced', 'duration': 21, 'price': 10000, 'tags': ['mentor-supported', 'real-world', 'quiz-included'], 'created_at': datetime.datetime(2025, 5, 20, 17, 5, 59), 'updated_at': datetime.datetime(2025, 6, 9, 18, 31, 56, 902000), 'is_published': False}\n",
      "{'_id': ObjectId('68471a8cf4edaac75f735f62'), 'course_id': 'C060', 'title': 'Computer Vision with OpenCV', 'description': 'Get started with databases and SQL for data analysis and backend development.', 'instructor_id': 'U020', 'category': 'Web Development', 'level': 'beginner', 'duration': 51, 'price': 5000, 'tags': ['quiz-included', 'real-world', 'assignment-driven'], 'created_at': datetime.datetime(2025, 2, 2, 15, 32, 28), 'updated_at': datetime.datetime(2025, 6, 9, 18, 31, 56, 902000), 'is_published': False}\n",
      "{'_id': ObjectId('68471a8cf4edaac75f735f64'), 'course_id': 'C062', 'title': 'Git & GitHub for Collaboration', 'description': 'Understand core machine learning concepts with hands-on Python projects.', 'instructor_id': 'U009', 'category': 'Web Development', 'level': 'advanced', 'duration': 56, 'price': 10000, 'tags': ['hands-on', 'assignment-driven', 'real-world'], 'created_at': datetime.datetime(2025, 3, 26, 0, 11, 50), 'updated_at': datetime.datetime(2025, 6, 9, 18, 31, 56, 902000), 'is_published': True}\n",
      "{'_id': ObjectId('68471a8cf4edaac75f735f67'), 'course_id': 'C065', 'title': 'Computer Vision with OpenCV', 'description': 'Master cloud infrastructure and deployment using AWS, Docker, and Kubernetes.', 'instructor_id': 'U011', 'category': 'DevOps', 'level': 'advanced', 'duration': 54, 'price': 3000, 'tags': ['hands-on', 'project-based', 'quiz-included'], 'created_at': datetime.datetime(2024, 12, 29, 12, 59), 'updated_at': datetime.datetime(2025, 6, 9, 18, 31, 56, 904000), 'is_published': True}\n",
      "{'_id': ObjectId('68471a8cf4edaac75f735f68'), 'course_id': 'C066', 'title': 'Git & GitHub for Collaboration', 'description': 'Develop a strong foundation in data engineering with real-world ETL scenarios.', 'instructor_id': 'U039', 'category': 'Cloud Computing', 'level': 'beginner', 'duration': 31, 'price': 10000, 'tags': ['video-tutorials', 'certification', 'career-ready'], 'created_at': datetime.datetime(2025, 2, 13, 17, 17, 33), 'updated_at': datetime.datetime(2025, 6, 9, 18, 31, 56, 904000), 'is_published': True}\n",
      "{'_id': ObjectId('68471a8cf4edaac75f735f69'), 'course_id': 'C067', 'title': 'Machine Learning with scikit-learn', 'description': 'Develop a strong foundation in data engineering with real-world ETL scenarios.', 'instructor_id': 'U036', 'category': 'Cloud Computing', 'level': 'intermediate', 'duration': 59, 'price': 5000, 'tags': ['project-based', 'mentor-supported', 'career-ready'], 'created_at': datetime.datetime(2024, 12, 16, 1, 3, 37), 'updated_at': datetime.datetime(2025, 6, 9, 18, 31, 56, 904000), 'is_published': False}\n",
      "{'_id': ObjectId('68471a8cf4edaac75f735f6e'), 'course_id': 'C072', 'title': 'Big Data Processing with Spark', 'description': 'Get started with databases and SQL for data analysis and backend development.', 'instructor_id': 'U014', 'category': 'AI', 'level': 'beginner', 'duration': 35, 'price': 5000, 'tags': ['downloadable-resources', 'quiz-included', 'real-world'], 'created_at': datetime.datetime(2025, 3, 20, 3, 24, 20), 'updated_at': datetime.datetime(2025, 6, 9, 18, 31, 56, 904000), 'is_published': False}\n",
      "{'_id': ObjectId('68471a8cf4edaac75f735f70'), 'course_id': 'C074', 'title': 'Deep Learning with TensorFlow', 'description': 'Develop a strong foundation in data engineering with real-world ETL scenarios.', 'instructor_id': 'U021', 'category': 'Web Development', 'level': 'beginner', 'duration': 35, 'price': 5000, 'tags': ['interview-prep', 'downloadable-resources', 'career-ready'], 'created_at': datetime.datetime(2025, 5, 9, 19, 7, 22), 'updated_at': datetime.datetime(2025, 6, 9, 18, 31, 56, 904000), 'is_published': False}\n",
      "{'_id': ObjectId('68471a8cf4edaac75f735f72'), 'course_id': 'C076', 'title': 'Git & GitHub for Collaboration', 'description': 'Develop a strong foundation in data engineering with real-world ETL scenarios.', 'instructor_id': 'U019', 'category': 'Web Development', 'level': 'intermediate', 'duration': 45, 'price': 3000, 'tags': ['real-world', 'interview-prep', 'hands-on'], 'created_at': datetime.datetime(2025, 4, 1, 1, 57, 51), 'updated_at': datetime.datetime(2025, 6, 9, 18, 31, 56, 904000), 'is_published': False}\n",
      "{'_id': ObjectId('68471a8cf4edaac75f735f73'), 'course_id': 'C077', 'title': 'Machine Learning with scikit-learn', 'description': 'Understand core machine learning concepts with hands-on Python projects.', 'instructor_id': 'U001', 'category': 'DevOps', 'level': 'intermediate', 'duration': 32, 'price': 5000, 'tags': ['beginner-friendly', 'quiz-included', 'career-ready'], 'created_at': datetime.datetime(2025, 3, 25, 22, 16, 11), 'updated_at': datetime.datetime(2025, 6, 9, 18, 31, 56, 904000), 'is_published': True}\n",
      "{'_id': ObjectId('68471a8cf4edaac75f735f76'), 'course_id': 'C080', 'title': 'Python for Beginners', 'description': 'Prepare for a career in AI with deep learning and neural network fundamentals.', 'instructor_id': 'U029', 'category': 'AI', 'level': 'beginner', 'duration': 45, 'price': 20000, 'tags': ['mentor-supported', 'career-ready', 'quiz-included'], 'created_at': datetime.datetime(2025, 3, 3, 17, 6, 37), 'updated_at': datetime.datetime(2025, 6, 9, 18, 31, 56, 904000), 'is_published': True}\n",
      "{'_id': ObjectId('68471a8cf4edaac75f735f78'), 'course_id': 'C082', 'title': 'Unit Testing in Python', 'description': 'Gain experience in big data technologies like Spark and Hadoop.', 'instructor_id': 'U020', 'category': 'DevOps', 'level': 'intermediate', 'duration': 36, 'price': 5000, 'tags': ['certification', 'assignment-driven', 'project-based'], 'created_at': datetime.datetime(2025, 1, 23, 17, 13, 18), 'updated_at': datetime.datetime(2025, 6, 9, 18, 31, 56, 904000), 'is_published': False}\n",
      "{'_id': ObjectId('68471a8cf4edaac75f735f79'), 'course_id': 'C083', 'title': 'Building REST APIs with FastAPI', 'description': 'Develop a strong foundation in data engineering with real-world ETL scenarios.', 'instructor_id': 'U030', 'category': 'Data Engineering', 'level': 'intermediate', 'duration': 16, 'price': 5000, 'tags': ['downloadable-resources', 'assignment-driven', 'project-based'], 'created_at': datetime.datetime(2025, 2, 19, 0, 55, 8), 'updated_at': datetime.datetime(2025, 6, 9, 18, 31, 56, 904000), 'is_published': False}\n",
      "{'_id': ObjectId('68471a8cf4edaac75f735f7c'), 'course_id': 'C086', 'title': 'Kubernetes for Developers', 'description': 'Learn to build REST APIs and microservices with Flask and Django.', 'instructor_id': 'U021', 'category': 'AI', 'level': 'intermediate', 'duration': 25, 'price': 20000, 'tags': ['interactive', 'lifetime-access', 'project-based'], 'created_at': datetime.datetime(2025, 4, 21, 10, 18, 19), 'updated_at': datetime.datetime(2025, 6, 9, 18, 31, 56, 904000), 'is_published': False}\n",
      "{'_id': ObjectId('68471a8cf4edaac75f735f7d'), 'course_id': 'C087', 'title': 'Building REST APIs with FastAPI', 'description': 'Develop a strong foundation in data engineering with real-world ETL scenarios.', 'instructor_id': 'U035', 'category': 'AI', 'level': 'advanced', 'duration': 48, 'price': 0, 'tags': ['career-ready', 'lifetime-access', 'mentor-supported'], 'created_at': datetime.datetime(2025, 3, 29, 2, 23, 14), 'updated_at': datetime.datetime(2025, 6, 9, 18, 31, 56, 904000), 'is_published': True}\n",
      "{'_id': ObjectId('68471a8cf4edaac75f735f7e'), 'course_id': 'C088', 'title': 'Kubernetes for Developers', 'description': 'Gain experience in big data technologies like Spark and Hadoop.', 'instructor_id': 'U023', 'category': 'Web Development', 'level': 'advanced', 'duration': 8, 'price': 3000, 'tags': ['real-world', 'hands-on', 'community-support'], 'created_at': datetime.datetime(2025, 2, 12, 14, 59, 57), 'updated_at': datetime.datetime(2025, 6, 9, 18, 31, 56, 905000), 'is_published': False}\n",
      "{'_id': ObjectId('68471a8cf4edaac75f735f7f'), 'course_id': 'C089', 'title': 'Deploying Applications with Docker', 'description': 'Get started with databases and SQL for data analysis and backend development.', 'instructor_id': 'U035', 'category': 'Cloud Computing', 'level': 'intermediate', 'duration': 38, 'price': 10000, 'tags': ['project-based', 'interview-prep', 'video-tutorials'], 'created_at': datetime.datetime(2024, 12, 22, 18, 24, 8), 'updated_at': datetime.datetime(2025, 6, 9, 18, 31, 56, 905000), 'is_published': True}\n",
      "{'_id': ObjectId('68471a8cf4edaac75f735f81'), 'course_id': 'C091', 'title': 'Clean Code and Refactoring', 'description': 'Explore modern DevOps workflows, CI/CD pipelines, and monitoring strategies.', 'instructor_id': 'U018', 'category': 'Data Engineering', 'level': 'intermediate', 'duration': 9, 'price': 3000, 'tags': ['project-based', 'real-world', 'interview-prep'], 'created_at': datetime.datetime(2025, 5, 4, 4, 23, 26), 'updated_at': datetime.datetime(2025, 6, 9, 18, 31, 56, 905000), 'is_published': False}\n",
      "{'_id': ObjectId('68471a8cf4edaac75f735f83'), 'course_id': 'C093', 'title': 'Git & GitHub for Collaboration', 'description': 'Get started with databases and SQL for data analysis and backend development.', 'instructor_id': 'U038', 'category': 'AI', 'level': 'intermediate', 'duration': 47, 'price': 5000, 'tags': ['community-support', 'lifetime-access', 'project-based'], 'created_at': datetime.datetime(2025, 1, 8, 2, 25, 31), 'updated_at': datetime.datetime(2025, 6, 9, 18, 31, 56, 905000), 'is_published': True}\n",
      "{'_id': ObjectId('68471a8cf4edaac75f735f85'), 'course_id': 'C095', 'title': 'MongoDB for Developers', 'description': 'Master cloud infrastructure and deployment using AWS, Docker, and Kubernetes.', 'instructor_id': 'U012', 'category': 'DevOps', 'level': 'advanced', 'duration': 50, 'price': 3000, 'tags': ['project-based', 'mentor-supported', 'career-ready'], 'created_at': datetime.datetime(2025, 4, 23, 6, 37, 22), 'updated_at': datetime.datetime(2025, 6, 9, 18, 31, 56, 905000), 'is_published': False}\n",
      "{'_id': ObjectId('68471a8cf4edaac75f735f86'), 'course_id': 'C096', 'title': 'Computer Vision with OpenCV', 'description': 'Learn how to build scalable data pipelines using modern tools and best practices.', 'instructor_id': 'U029', 'category': 'Web Development', 'level': 'advanced', 'duration': 60, 'price': 10000, 'tags': ['interactive', 'real-world', 'career-ready'], 'created_at': datetime.datetime(2025, 1, 4, 5, 19, 44), 'updated_at': datetime.datetime(2025, 6, 9, 18, 31, 56, 905000), 'is_published': True}\n",
      "{'_id': ObjectId('68471a8cf4edaac75f735f87'), 'course_id': 'C097', 'title': 'Big Data Processing with Spark', 'description': 'Learn how to build scalable data pipelines using modern tools and best practices.', 'instructor_id': 'U004', 'category': 'Cloud Computing', 'level': 'intermediate', 'duration': 12, 'price': 20000, 'tags': ['mentor-supported', 'career-ready', 'real-world'], 'created_at': datetime.datetime(2024, 12, 17, 14, 36, 2), 'updated_at': datetime.datetime(2025, 6, 9, 18, 31, 56, 905000), 'is_published': False}\n",
      "{'_id': ObjectId('68471a8cf4edaac75f735f88'), 'course_id': 'C098', 'title': 'Building REST APIs with FastAPI', 'description': 'Gain experience in big data technologies like Spark and Hadoop.', 'instructor_id': 'U033', 'category': 'Cloud Computing', 'level': 'beginner', 'duration': 38, 'price': 20000, 'tags': ['hands-on', 'interactive', 'downloadable-resources'], 'created_at': datetime.datetime(2025, 1, 16, 13, 28, 50), 'updated_at': datetime.datetime(2025, 6, 9, 18, 31, 56, 905000), 'is_published': True}\n",
      "{'_id': ObjectId('68471a8cf4edaac75f735f89'), 'course_id': 'C099', 'title': 'Python for Beginners', 'description': 'Prepare for a career in AI with deep learning and neural network fundamentals.', 'instructor_id': 'U010', 'category': 'Web Development', 'level': 'advanced', 'duration': 59, 'price': 3000, 'tags': ['video-tutorials', 'beginner-friendly', 'project-based'], 'created_at': datetime.datetime(2025, 5, 27, 16, 20, 42), 'updated_at': datetime.datetime(2025, 6, 9, 18, 31, 56, 905000), 'is_published': True}\n",
      "{'_id': ObjectId('68471a8cf4edaac75f735f8a'), 'course_id': 'C100', 'title': 'Data Visualization with Seaborn', 'description': 'Prepare for a career in AI with deep learning and neural network fundamentals.', 'instructor_id': 'U010', 'category': 'Cloud Computing', 'level': 'beginner', 'duration': 6, 'price': 20000, 'tags': ['video-tutorials', 'interactive', 'project-based'], 'created_at': datetime.datetime(2025, 4, 20, 6, 3, 47), 'updated_at': datetime.datetime(2025, 6, 9, 18, 31, 56, 905000), 'is_published': True}\n"
     ]
    }
   ],
   "source": [
    "#find courses that have specific tags using $in operators\n",
    "\n",
    "tags_to_find = [\"project-based\", \"career-ready\", \"hands-on\", \"real-world\",]\n",
    "\n",
    "matched_courses = list(db.altcourseschema.find({\n",
    "    \"tags\": {\"$in\": tags_to_find}\n",
    "}))\n",
    "\n",
    "for tag_course in matched_courses:\n",
    "    print(tag_course)"
   ]
  },
  {
   "cell_type": "code",
   "execution_count": null,
   "id": "f5867513",
   "metadata": {},
   "outputs": [],
   "source": []
  },
  {
   "cell_type": "markdown",
   "id": "fddccbe8",
   "metadata": {},
   "source": [
    "*4: Retrieve assignments with due dates in the next week*"
   ]
  },
  {
   "cell_type": "code",
   "execution_count": 109,
   "id": "a3dd967c",
   "metadata": {},
   "outputs": [
    {
     "name": "stdout",
     "output_type": "stream",
     "text": [
      "{'_id': ObjectId('6847240bf4edaac75f735fff'), 'lesson_id': ObjectId('684722abf4edaac75f735ffe'), 'title': 'Apply current time.', 'instructions': 'Both issue his else. Again hour wait husband book short coach financial. Million keep edge budget others born thought.', 'due_date': datetime.datetime(2025, 6, 12, 19, 6, 35)}\n",
      "{'_id': ObjectId('6847240bf4edaac75f736002'), 'lesson_id': ObjectId('684722abf4edaac75f735ffe'), 'title': 'Interest base your.', 'instructions': 'Study without source activity.', 'due_date': datetime.datetime(2025, 6, 17, 1, 37, 5)}\n",
      "{'_id': ObjectId('6847240bf4edaac75f736003'), 'lesson_id': ObjectId('684722abf4edaac75f735ffe'), 'title': 'Rise return major.', 'instructions': 'Eye buy vote tree. Provide dog TV. Agreement product growth choice.', 'due_date': datetime.datetime(2025, 6, 16, 3, 56, 47)}\n",
      "{'_id': ObjectId('6847240bf4edaac75f736004'), 'lesson_id': ObjectId('684722abf4edaac75f735ffe'), 'title': 'Student majority camera.', 'instructions': 'Time term hit.', 'due_date': datetime.datetime(2025, 6, 17, 0, 49, 9)}\n",
      "{'_id': ObjectId('6847240bf4edaac75f736005'), 'lesson_id': ObjectId('684722abf4edaac75f735ffe'), 'title': 'Article company fine adult meet.', 'instructions': 'Describe investment food husband. Father laugh part no his ground. Congress approach floor anything.', 'due_date': datetime.datetime(2025, 6, 12, 15, 39)}\n",
      "{'_id': ObjectId('6847240bf4edaac75f736006'), 'lesson_id': ObjectId('684722abf4edaac75f735ffe'), 'title': 'Image arrive go policy.', 'instructions': 'Soon series they home cost. Answer enjoy red maintain service. Safe point message present million indeed.', 'due_date': datetime.datetime(2025, 6, 16, 12, 23, 9)}\n",
      "{'_id': ObjectId('6847240bf4edaac75f736007'), 'lesson_id': ObjectId('684722abf4edaac75f735ffe'), 'title': 'Line quality beat can.', 'instructions': 'Commercial one enjoy about. Majority leg suggest wish allow action. Hotel another pick since.', 'due_date': datetime.datetime(2025, 6, 17, 4, 51, 24)}\n",
      "{'_id': ObjectId('6847240bf4edaac75f736008'), 'lesson_id': ObjectId('684722abf4edaac75f735ffe'), 'title': 'Believe start enjoy.', 'instructions': 'History bill both imagine safe any.', 'due_date': datetime.datetime(2025, 6, 11, 1, 11, 4)}\n",
      "{'_id': ObjectId('68472445f4edaac75f736009'), 'lesson_id': ObjectId('684722abf4edaac75f735ffe'), 'title': 'Kubernetes for Developers', 'instructions': 'Democratic that it something method whether. Next rate morning maybe. Just like measure during together away situation.', 'due_date': datetime.datetime(2025, 6, 12, 1, 53, 25)}\n",
      "{'_id': ObjectId('68472445f4edaac75f73600a'), 'lesson_id': ObjectId('684722abf4edaac75f735ffe'), 'title': 'Big Data Processing with Spark', 'instructions': 'Fast no month would. Wife now role.', 'due_date': datetime.datetime(2025, 6, 15, 14, 2, 58)}\n",
      "{'_id': ObjectId('68472445f4edaac75f73600b'), 'lesson_id': ObjectId('684722abf4edaac75f735ffe'), 'title': 'Deploying Applications with Docker', 'instructions': 'Last safe affect popular piece. Cause pass experience economic change garden.', 'due_date': datetime.datetime(2025, 6, 16, 15, 33, 51)}\n",
      "{'_id': ObjectId('68472445f4edaac75f73600c'), 'lesson_id': ObjectId('684722abf4edaac75f735ffe'), 'title': 'Machine Learning with scikit-learn', 'instructions': 'Run open for perform successful. Position call television. Event record huge family later.', 'due_date': datetime.datetime(2025, 6, 13, 20, 34, 24)}\n",
      "{'_id': ObjectId('68472445f4edaac75f73600d'), 'lesson_id': ObjectId('684722abf4edaac75f735ffe'), 'title': 'Data Engineering with Python', 'instructions': 'Feeling true hour near professional. Real probably rise everything. Quickly about least similar test deep camera time.', 'due_date': datetime.datetime(2025, 6, 10, 23, 58, 57)}\n",
      "{'_id': ObjectId('68472445f4edaac75f73600e'), 'lesson_id': ObjectId('684722abf4edaac75f735ffe'), 'title': 'Data Engineering with Python', 'instructions': 'Front activity wait receive. Cost situation same huge. Medical rest force star card it remain.', 'due_date': datetime.datetime(2025, 6, 12, 9, 55, 53)}\n",
      "{'_id': ObjectId('68472445f4edaac75f73600f'), 'lesson_id': ObjectId('684722abf4edaac75f735ffe'), 'title': 'Data Engineering with Python', 'instructions': 'Ball save nature cause might different serve education. Myself off ever modern realize. Administration election lay performance suffer.', 'due_date': datetime.datetime(2025, 6, 10, 23, 16, 42)}\n",
      "{'_id': ObjectId('68472445f4edaac75f736010'), 'lesson_id': ObjectId('684722abf4edaac75f735ffe'), 'title': 'Data Visualization with Seaborn', 'instructions': 'Far upon always might relationship decade member. Mean push hand reveal get nor popular push. Item article mind state force interesting bit sit.', 'due_date': datetime.datetime(2025, 6, 12, 15, 41, 31)}\n"
     ]
    },
    {
     "name": "stderr",
     "output_type": "stream",
     "text": [
      "C:\\Users\\hello\\AppData\\Local\\Temp\\ipykernel_5900\\4248832681.py:3: DeprecationWarning: datetime.datetime.utcnow() is deprecated and scheduled for removal in a future version. Use timezone-aware objects to represent datetimes in UTC: datetime.datetime.now(datetime.UTC).\n",
      "  now = datetime.utcnow()\n"
     ]
    }
   ],
   "source": [
    "#Retrieve assignments with due dates in the next week\n",
    "\n",
    "now = datetime.utcnow()\n",
    "next_week = now + timedelta(days=7)\n",
    "\n",
    "upcoming_assignments = list(db.assignments.find({\n",
    "    \"due_date\": {\"$gte\": now, \"$lte\": next_week}\n",
    "}))\n",
    "\n",
    "for ret_assignment in upcoming_assignments:\n",
    "    print(ret_assignment)"
   ]
  },
  {
   "cell_type": "code",
   "execution_count": null,
   "id": "58b93579",
   "metadata": {},
   "outputs": [],
   "source": []
  },
  {
   "cell_type": "markdown",
   "id": "8cea299a",
   "metadata": {},
   "source": [
    "*TASK 4.2 : AGGREGATION PIPELINE*"
   ]
  },
  {
   "cell_type": "markdown",
   "id": "21e9ac3d",
   "metadata": {},
   "source": [
    "\n",
    "COURSE ENROLLMENT STATISTIC"
   ]
  },
  {
   "cell_type": "markdown",
   "id": "a7582175",
   "metadata": {},
   "source": [
    "*1 : Count total enrollment per course*"
   ]
  },
  {
   "cell_type": "code",
   "execution_count": 112,
   "id": "b4ee85d8",
   "metadata": {},
   "outputs": [
    {
     "name": "stdout",
     "output_type": "stream",
     "text": [
      "{'_id': ObjectId('68471f77f4edaac75f735fd1'), 'total_enrollments': 2}\n",
      "{'_id': ObjectId('68471f77f4edaac75f735fd6'), 'total_enrollments': 1}\n",
      "{'_id': ObjectId('68471f77f4edaac75f735fcf'), 'total_enrollments': 1}\n",
      "{'_id': ObjectId('68471efef4edaac75f735fc8'), 'total_enrollments': 2}\n",
      "{'_id': ObjectId('68471efef4edaac75f735fcc'), 'total_enrollments': 3}\n",
      "{'_id': ObjectId('68471f77f4edaac75f735fd3'), 'total_enrollments': 1}\n",
      "{'_id': ObjectId('68471efef4edaac75f735fce'), 'total_enrollments': 2}\n",
      "{'_id': ObjectId('68471efef4edaac75f735fc7'), 'total_enrollments': 2}\n",
      "{'_id': ObjectId('68471f77f4edaac75f735fd0'), 'total_enrollments': 1}\n",
      "{'_id': ObjectId('6847f9e8f4edaac75f736020'), 'total_enrollments': 1}\n"
     ]
    }
   ],
   "source": [
    "#Count total enrollment per course\n",
    "\n",
    "pipeline = [\n",
    "    {\n",
    "        \"$group\": {\n",
    "            \"_id\": \"$course_id\",\n",
    "            \"total_enrollments\": {\"$sum\": 1}\n",
    "        }\n",
    "    },\n",
    "    {\n",
    "        \"$lookup\": {\n",
    "            \"from\": \"courses\",\n",
    "            \"localField\": \"_id\",\n",
    "            \"foreignField\": \"_id\",\n",
    "            \"as\": \"course_info\"\n",
    "        }\n",
    "    },\n",
    "    {\n",
    "        \"$unwind\": \"$course_info\"\n",
    "    },\n",
    "    {\n",
    "        \"$project\": {\n",
    "            \"course_name\": \"$course_info.name\",\n",
    "            \"total_enrollments\": 1\n",
    "        }\n",
    "    }\n",
    "]\n",
    "\n",
    "result = list(db.enrollments.aggregate(pipeline))\n",
    "for doc in result:\n",
    "    print(doc)"
   ]
  },
  {
   "cell_type": "code",
   "execution_count": null,
   "id": "cac5475d",
   "metadata": {},
   "outputs": [],
   "source": []
  },
  {
   "cell_type": "markdown",
   "id": "75f9c3a1",
   "metadata": {},
   "source": [
    "*2: Calculate average course rating*"
   ]
  },
  {
   "cell_type": "code",
   "execution_count": 115,
   "id": "1abbaf3a",
   "metadata": {},
   "outputs": [
    {
     "name": "stdout",
     "output_type": "stream",
     "text": [
      "{'_id': ObjectId('68471efef4edaac75f735fc7'), 'average_rating': None}\n",
      "{'_id': ObjectId('68471efef4edaac75f735fc8'), 'average_rating': None}\n",
      "{'_id': ObjectId('68471efef4edaac75f735fc9'), 'average_rating': None}\n",
      "{'_id': ObjectId('68471efef4edaac75f735fca'), 'average_rating': None}\n",
      "{'_id': ObjectId('68471efef4edaac75f735fcb'), 'average_rating': None}\n",
      "{'_id': ObjectId('68471efef4edaac75f735fcc'), 'average_rating': None}\n",
      "{'_id': ObjectId('68471efef4edaac75f735fcd'), 'average_rating': None}\n",
      "{'_id': ObjectId('68471efef4edaac75f735fce'), 'average_rating': None}\n",
      "{'_id': ObjectId('68471f77f4edaac75f735fcf'), 'average_rating': None}\n",
      "{'_id': ObjectId('68471f77f4edaac75f735fd0'), 'average_rating': None}\n",
      "{'_id': ObjectId('68471f77f4edaac75f735fd1'), 'average_rating': None}\n",
      "{'_id': ObjectId('68471f77f4edaac75f735fd2'), 'average_rating': None}\n",
      "{'_id': ObjectId('68471f77f4edaac75f735fd3'), 'average_rating': None}\n",
      "{'_id': ObjectId('68471f77f4edaac75f735fd4'), 'average_rating': None}\n",
      "{'_id': ObjectId('68471f77f4edaac75f735fd5'), 'average_rating': None}\n",
      "{'_id': ObjectId('68471f77f4edaac75f735fd6'), 'average_rating': None}\n",
      "{'_id': ObjectId('6847f9e8f4edaac75f736020'), 'average_rating': None}\n"
     ]
    }
   ],
   "source": [
    "#Calculate average course rating\n",
    "\n",
    "pipeline = [\n",
    "    {\n",
    "        \"$project\": {\n",
    "            \"name\": 1,\n",
    "            \"average_rating\": {\"$avg\": \"$ratings\"}\n",
    "        }\n",
    "    }\n",
    "]\n",
    "\n",
    "result = list(db.courses.aggregate(pipeline))\n",
    "for doc in result:\n",
    "    print(doc)"
   ]
  },
  {
   "cell_type": "code",
   "execution_count": null,
   "id": "c8db47ae",
   "metadata": {},
   "outputs": [],
   "source": []
  },
  {
   "cell_type": "markdown",
   "id": "7262033e",
   "metadata": {},
   "source": [
    "*3: Group by course category*"
   ]
  },
  {
   "cell_type": "code",
   "execution_count": 117,
   "id": "6404e427",
   "metadata": {},
   "outputs": [
    {
     "name": "stdout",
     "output_type": "stream",
     "text": [
      "{'courses': [], 'count': 16, 'category': None}\n",
      "{'courses': [], 'count': 1, 'category': 'Database'}\n"
     ]
    }
   ],
   "source": [
    "#Group by course category\n",
    "\n",
    "pipeline = [\n",
    "    {\n",
    "        \"$group\": {\n",
    "            \"_id\": \"$category\",\n",
    "            \"courses\": {\"$push\": \"$name\"},\n",
    "            \"count\": {\"$sum\": 1}\n",
    "        }\n",
    "    },\n",
    "    {\n",
    "        \"$project\": {\n",
    "            \"category\": \"$_id\",\n",
    "            \"courses\": 1,\n",
    "            \"count\": 1,\n",
    "            \"_id\": 0\n",
    "        }\n",
    "    }\n",
    "]\n",
    "\n",
    "result = list(db.courses.aggregate(pipeline))\n",
    "for doc in result:\n",
    "    print(doc)"
   ]
  },
  {
   "cell_type": "code",
   "execution_count": null,
   "id": "697bf0e9",
   "metadata": {},
   "outputs": [],
   "source": []
  },
  {
   "cell_type": "markdown",
   "id": "d00b4804",
   "metadata": {},
   "source": [
    "*STUDENT PERFORMANCE ANALYSIS*"
   ]
  },
  {
   "cell_type": "markdown",
   "id": "c91f1507",
   "metadata": {},
   "source": [
    "*1: Average grade per student*"
   ]
  },
  {
   "cell_type": "code",
   "execution_count": null,
   "id": "805cc567",
   "metadata": {},
   "outputs": [],
   "source": [
    "#Average grade per student \n",
    "\n",
    "pipeline = [\n",
    "    {\n",
    "        \"$group\": {\n",
    "            \"_id\": \"$student_id\",\n",
    "            \"average_grade\": {\"$avg\": \"$grade\"}\n",
    "        }\n",
    "    },\n",
    "    {\n",
    "        \"$lookup\": {\n",
    "            \"from\": \"users\",\n",
    "            \"localField\": \"_id\",\n",
    "            \"foreignField\": \"_id\",\n",
    "            \"as\": \"student_info\"\n",
    "        }\n",
    "    },\n",
    "    {\n",
    "        \"$unwind\": \"$student_info\"\n",
    "    },\n",
    "    {\n",
    "        \"$project\": {\n",
    "            \"student_name\": \"$student_info.name\",\n",
    "            \"average_grade\": 1\n",
    "        }\n",
    "    }\n",
    "]\n",
    "\n",
    "result = list(db.submissions.aggregate(pipeline))\n",
    "for doc in result:\n",
    "    print(doc)"
   ]
  },
  {
   "cell_type": "code",
   "execution_count": null,
   "id": "65d3075d",
   "metadata": {},
   "outputs": [],
   "source": []
  },
  {
   "cell_type": "markdown",
   "id": "9e139bfd",
   "metadata": {},
   "source": [
    "*2: Completion rate by courses*"
   ]
  },
  {
   "cell_type": "code",
   "execution_count": 129,
   "id": "c6f4e3b3",
   "metadata": {},
   "outputs": [],
   "source": [
    "#Completion rate by courses\n",
    "\n",
    "pipeline = [\n",
    "    {\n",
    "        \"$lookup\": {\n",
    "            \"from\": \"assignments\",\n",
    "            \"localField\": \"assignment_id\",\n",
    "            \"foreignField\": \"_id\",\n",
    "            \"as\": \"assignment_info\"\n",
    "        }\n",
    "    },\n",
    "    {\n",
    "        \"$unwind\": \"$assignment_info\"\n",
    "    },\n",
    "    {\n",
    "        \"$group\": {\n",
    "            \"_id\": \"$assignment_info.course_id\",\n",
    "            \"total_submissions\": {\"$sum\": 1},\n",
    "            \"unique_students\": {\"$addToSet\": \"$student_id\"},\n",
    "            \"total_assignments\": {\"$addToSet\": \"$assignment_info._id\"}\n",
    "        }\n",
    "    },\n",
    "    {\n",
    "        \"$project\": {\n",
    "            \"course_id\": \"$_id\",\n",
    "            \"num_students\": {\"$size\": \"$unique_students\"},\n",
    "            \"num_assignments\": {\"$size\": \"$total_assignments\"},\n",
    "            \"total_submissions\": 1,\n",
    "            \"completion_rate\": {\n",
    "                \"$divide\": [\n",
    "                    \"$total_submissions\",\n",
    "                    {\"$multiply\": [{\"$size\": \"$unique_students\"}, {\"$size\": \"$total_assignments\"}]}\n",
    "                ]\n",
    "            }\n",
    "        }\n",
    "    }\n",
    "]\n",
    "\n",
    "comp_result = list(db.assignments.aggregate(pipeline))\n",
    "for doc in result:\n",
    "    print(doc)"
   ]
  },
  {
   "cell_type": "code",
   "execution_count": null,
   "id": "91dc79d3",
   "metadata": {},
   "outputs": [],
   "source": []
  },
  {
   "cell_type": "markdown",
   "id": "2661fd7f",
   "metadata": {},
   "source": [
    "*3: Top performing student*"
   ]
  },
  {
   "cell_type": "code",
   "execution_count": 148,
   "id": "afabdf6d",
   "metadata": {},
   "outputs": [],
   "source": [
    "#Top performing student\n",
    "\n",
    "\n",
    "pipeline = [\n",
    "    {\n",
    "        \"$lookup\": {\n",
    "            \"from\": \"courses\",\n",
    "            \"localField\": \"courseId\",\n",
    "            \"foreignField\": \"_id\",\n",
    "            \"as\": \"course\"\n",
    "        }\n",
    "    },\n",
    "    {\n",
    "        \"$unwind\": \"$course\"\n",
    "    },\n",
    "    {\n",
    "        \"$group\": {\n",
    "            \"_id\": \"$course.instructorId\",\n",
    "            \"students\": { \"$addToSet\": \"$studentId\" },\n",
    "            \"totalRevenue\": { \"$sum\": \"$pricePaid\" },\n",
    "            \"courseIds\": { \"$addToSet\": \"$course._id\" }\n",
    "        }\n",
    "    },\n",
    "    {\n",
    "        \"$project\": {\n",
    "            \"instructorId\": \"$_id\",\n",
    "            \"totalStudents\": { \"$size\": \"$students\" },\n",
    "            \"totalRevenue\": 1,\n",
    "            \"courseIds\": 1,\n",
    "            \"_id\": 0\n",
    "        }\n",
    "    },\n",
    "    {\n",
    "        \"$lookup\": {\n",
    "            \"from\": \"courses\",\n",
    "            \"localField\": \"courseIds\",\n",
    "            \"foreignField\": \"_id\",\n",
    "            \"as\": \"courses\"\n",
    "        }\n",
    "    },\n",
    "    {\n",
    "        \"$addFields\": {\n",
    "            \"avgRating\": { \"$avg\": \"$courses.averageRating\" }\n",
    "        }\n",
    "    },\n",
    "    {\n",
    "        \"$project\": {\n",
    "            \"instructorId\": 1,\n",
    "            \"totalStudents\": 1,\n",
    "            \"totalRevenue\": 1,\n",
    "            \"avgRating\": 1\n",
    "        }\n",
    "    }\n",
    "]\n",
    "\n",
    "# Run the aggregation\n",
    "results = db.enrollments.aggregate(pipeline)\n",
    "\n",
    "# Print results\n",
    "for doc in results:\n",
    "    print(doc)"
   ]
  },
  {
   "cell_type": "code",
   "execution_count": null,
   "id": "c1c7a5e8",
   "metadata": {},
   "outputs": [],
   "source": []
  },
  {
   "cell_type": "markdown",
   "id": "2db7e7a2",
   "metadata": {},
   "source": [
    "*INSTRUCTOR ANALYSIS*"
   ]
  },
  {
   "cell_type": "markdown",
   "id": "e4d11858",
   "metadata": {},
   "source": [
    "*1: Total student taught by each instructor*"
   ]
  },
  {
   "cell_type": "code",
   "execution_count": null,
   "id": "3acae504",
   "metadata": {},
   "outputs": [],
   "source": [
    "\n",
    "#Total student taught by each instructor\n",
    "\n",
    "\n",
    "pipeline = [\n",
    "    {\n",
    "        \"$lookup\": {\n",
    "            \"from\": \"courses\",\n",
    "            \"localField\": \"courseId\",\n",
    "            \"foreignField\": \"_id\",\n",
    "            \"as\": \"lok_course\"\n",
    "        }\n",
    "    },\n",
    "    {\n",
    "        \"$unwind\": \"$lok_course\"\n",
    "    },\n",
    "    {\n",
    "        \"$group\": {\n",
    "            \"_id\": \"$lok_course.instructorId\",\n",
    "            \"students\": { \"$addToSet\": \"$studentId\" },\n",
    "            \"totalRevenue\": { \"$sum\": \"$pricePaid\" },\n",
    "            \"courseIds\": { \"$addToSet\": \"$course._id\" }\n",
    "        }\n",
    "    },\n",
    "    {\n",
    "        \"$project\": {\n",
    "            \"instructorId\": \"$_id\",\n",
    "            \"totalStudents\": { \"$size\": \"$students\" },\n",
    "            \"totalRevenue\": 1,\n",
    "            \"courseIds\": 1,\n",
    "            \"_id\": 0\n",
    "        }\n",
    "    },\n",
    "    {\n",
    "        \"$lookup\": {\n",
    "            \"from\": \"courses\",\n",
    "            \"localField\": \"courseIds\",\n",
    "            \"foreignField\": \"_id\",\n",
    "            \"as\": \"lok_courses\"\n",
    "        }\n",
    "    },\n",
    "    {\n",
    "        \"$addFields\": {\n",
    "            \"avgRating\": { \"$avg\": \"$lok_courses.averageRating\" }\n",
    "        }\n",
    "    },\n",
    "    {\n",
    "        \"$project\": {\n",
    "            \"instructorId\": 1,\n",
    "            \"totalStudents\": 1,\n",
    "            \"totalRevenue\": 1,\n",
    "            \"avgRating\": 1\n",
    "        }\n",
    "    }\n",
    "]\n",
    "\n",
    "# Run the aggregation\n",
    "lok_results = db.altcourseschema.aggregate(pipeline)\n",
    "\n",
    "# Print results\n",
    "for doc in lok_results:\n",
    "    print(doc)"
   ]
  },
  {
   "cell_type": "code",
   "execution_count": null,
   "id": "13c65f72",
   "metadata": {},
   "outputs": [],
   "source": []
  },
  {
   "cell_type": "markdown",
   "id": "ed746f8a",
   "metadata": {},
   "source": [
    "*2: Average course rating per instructor*"
   ]
  },
  {
   "cell_type": "code",
   "execution_count": 149,
   "id": "6eeda444",
   "metadata": {},
   "outputs": [
    {
     "name": "stdout",
     "output_type": "stream",
     "text": [
      "{'instructor_id': None, 'avgRating': None}\n",
      "{'instructor_id': ObjectId('68471a62f4edaac75f735ec3'), 'avgRating': None}\n"
     ]
    }
   ],
   "source": [
    "#Average course rating per instructor\n",
    "\n",
    "pipeline = [\n",
    "    {\n",
    "        \"$group\": {\n",
    "            \"_id\": \"$instructor_id\",\n",
    "            \"avgRating\": { \"$avg\": \"$rating\" }\n",
    "        }\n",
    "    },\n",
    "    {\n",
    "        \"$project\": {\n",
    "            \"instructor_id\": \"$_id\",\n",
    "            \"avgRating\": { \"$round\": [\"$avgRating\", 2] },\n",
    "            \"_id\": 0\n",
    "        }\n",
    "    }\n",
    "]\n",
    "\n",
    "results = db.courses.aggregate(pipeline)\n",
    "\n",
    "for doc in results:\n",
    "    print(doc)"
   ]
  },
  {
   "cell_type": "code",
   "execution_count": null,
   "id": "9cb8ebcb",
   "metadata": {},
   "outputs": [],
   "source": []
  },
  {
   "cell_type": "markdown",
   "id": "31ee89dc",
   "metadata": {},
   "source": [
    "*3: Revenue generated per instructor*"
   ]
  },
  {
   "cell_type": "code",
   "execution_count": null,
   "id": "e196af69",
   "metadata": {},
   "outputs": [
    {
     "name": "stdout",
     "output_type": "stream",
     "text": [
      "{'revenue': 0, 'instructor_id': None}\n",
      "{'revenue': 20000, 'instructor_id': ObjectId('68471a62f4edaac75f735ec3')}\n"
     ]
    }
   ],
   "source": [
    "#Revenue generated per instructor\n",
    "pipeline = [\n",
    "    {\n",
    "        \"$lookup\": {\n",
    "            \"from\": \"courses\",\n",
    "            \"localField\": \"course_id\",       # Matches enrollment.course_id\n",
    "            \"foreignField\": \"_id\",           # Matches course._id\n",
    "            \"as\": \"course\"\n",
    "        }\n",
    "    },\n",
    "    {\n",
    "        \"$unwind\": \"$course\"\n",
    "    },\n",
    "    {\n",
    "        \"$group\": {\n",
    "            \"_id\": \"$course.instructor_id\",\n",
    "            \"revenue\": { \"$sum\": \"$course.price\" }\n",
    "        }\n",
    "    },\n",
    "    {\n",
    "        \"$project\": {\n",
    "            \"instructor_id\": \"$_id\",\n",
    "            \"revenue\": 1,\n",
    "            \"_id\": 0\n",
    "        }\n",
    "    }\n",
    "]\n",
    "\n",
    "results = db.enrollments.aggregate(pipeline)\n",
    "\n",
    "for doc in results:\n",
    "    print(doc)"
   ]
  },
  {
   "cell_type": "code",
   "execution_count": null,
   "id": "c562f03a",
   "metadata": {},
   "outputs": [],
   "source": []
  },
  {
   "cell_type": "markdown",
   "id": "5aa40cb6",
   "metadata": {},
   "source": [
    "*ADVANCED ANALYTICS*"
   ]
  },
  {
   "cell_type": "markdown",
   "id": "b4124e4a",
   "metadata": {},
   "source": [
    "*1: Monthly enrollment trends*"
   ]
  },
  {
   "cell_type": "code",
   "execution_count": null,
   "id": "4086f1b8",
   "metadata": {},
   "outputs": [
    {
     "name": "stdout",
     "output_type": "stream",
     "text": [
      "{'_id': {'year': None, 'month': None}, 'totalEnrollments': 15}\n",
      "{'_id': {'year': 2025, 'month': 6}, 'totalEnrollments': 1}\n"
     ]
    }
   ],
   "source": [
    "#Monthly enrollment trends\n",
    "\n",
    "pipeline = [\n",
    "    {\n",
    "        \"$group\": {\n",
    "            \"_id\": {\n",
    "                \"year\": { \"$year\": \"$enrolled_at\" },\n",
    "                \"month\": { \"$month\": \"$enrolled_at\" }\n",
    "            },\n",
    "            \"totalEnrollments\": { \"$sum\": 1 }\n",
    "        }\n",
    "    },\n",
    "    {\n",
    "        \"$sort\": {\n",
    "            \"_id.year\": 1,\n",
    "            \"_id.month\": 1\n",
    "        }\n",
    "    }\n",
    "]\n",
    "\n",
    "results = db.enrollments.aggregate(pipeline)\n",
    "\n",
    "for doc in results:\n",
    "    print(doc)"
   ]
  },
  {
   "cell_type": "code",
   "execution_count": null,
   "id": "2d72fdbe",
   "metadata": {},
   "outputs": [],
   "source": []
  },
  {
   "cell_type": "markdown",
   "id": "dc9ff9e5",
   "metadata": {},
   "source": [
    "*2: Most popular course categories*"
   ]
  },
  {
   "cell_type": "code",
   "execution_count": 152,
   "id": "134ed6bc",
   "metadata": {},
   "outputs": [
    {
     "name": "stdout",
     "output_type": "stream",
     "text": [
      "{'_id': None, 'enrollments': 15}\n",
      "{'_id': 'Database', 'enrollments': 1}\n"
     ]
    }
   ],
   "source": [
    "#Most popular course categories\n",
    "\n",
    "\n",
    "pipeline = [\n",
    "    {\n",
    "        \"$lookup\": {\n",
    "            \"from\": \"courses\",\n",
    "            \"localField\": \"course_id\",        # or \"courseId\", if that's your field\n",
    "            \"foreignField\": \"_id\",\n",
    "            \"as\": \"course\"\n",
    "        }\n",
    "    },\n",
    "    {\n",
    "        \"$unwind\": \"$course\"\n",
    "    },\n",
    "    {\n",
    "        \"$group\": {\n",
    "            \"_id\": \"$course.category\",\n",
    "            \"enrollments\": { \"$sum\": 1 }\n",
    "        }\n",
    "    },\n",
    "    {\n",
    "        \"$sort\": { \"enrollments\": -1 }\n",
    "    },\n",
    "    {\n",
    "        \"$limit\": 5\n",
    "    }\n",
    "]\n",
    "\n",
    "results = db.enrollments.aggregate(pipeline)\n",
    "\n",
    "for doc in results:\n",
    "    print(doc)"
   ]
  },
  {
   "cell_type": "code",
   "execution_count": null,
   "id": "44e7d0d1",
   "metadata": {},
   "outputs": [],
   "source": []
  },
  {
   "cell_type": "markdown",
   "id": "47616523",
   "metadata": {},
   "source": [
    "*3: Student engagement metrics*"
   ]
  },
  {
   "cell_type": "code",
   "execution_count": 153,
   "id": "ad18245a",
   "metadata": {},
   "outputs": [
    {
     "name": "stdout",
     "output_type": "stream",
     "text": [
      "{'avgSubmissionsPerStudent': 12.0}\n"
     ]
    }
   ],
   "source": [
    "#Student engagement metrics\n",
    "\n",
    "\n",
    "pipeline = [\n",
    "    {\n",
    "        \"$group\": {\n",
    "            \"_id\": \"$student_id\",\n",
    "            \"submissionsCount\": { \"$sum\": 1 }\n",
    "        }\n",
    "    },\n",
    "    {\n",
    "        \"$group\": {\n",
    "            \"_id\": None,\n",
    "            \"avgSubmissionsPerStudent\": { \"$avg\": \"$submissionsCount\" }\n",
    "        }\n",
    "    },\n",
    "    {\n",
    "        \"$project\": {\n",
    "            \"_id\": 0,\n",
    "            \"avgSubmissionsPerStudent\": 1\n",
    "        }\n",
    "    }\n",
    "]\n",
    "\n",
    "results = db.submissions.aggregate(pipeline)\n",
    "\n",
    "for doc in results:\n",
    "    print(doc)"
   ]
  },
  {
   "cell_type": "code",
   "execution_count": null,
   "id": "2c51d7fa",
   "metadata": {},
   "outputs": [],
   "source": []
  },
  {
   "cell_type": "markdown",
   "id": "17d34e05",
   "metadata": {},
   "source": [
    "*EXTRAS: MORE METRICS QUERIES*"
   ]
  },
  {
   "cell_type": "markdown",
   "id": "5a717a43",
   "metadata": {},
   "source": [
    "*Active vs inactive*"
   ]
  },
  {
   "cell_type": "code",
   "execution_count": 155,
   "id": "d9d25983",
   "metadata": {},
   "outputs": [
    {
     "name": "stdout",
     "output_type": "stream",
     "text": [
      "{'count': 1, 'status': 'Active'}\n"
     ]
    },
    {
     "name": "stderr",
     "output_type": "stream",
     "text": [
      "C:\\Users\\hello\\AppData\\Local\\Temp\\ipykernel_5900\\3901167558.py:4: DeprecationWarning: datetime.datetime.utcnow() is deprecated and scheduled for removal in a future version. Use timezone-aware objects to represent datetimes in UTC: datetime.datetime.now(datetime.UTC).\n",
      "  now = datetime.utcnow()  # Current datetime to compare against\n"
     ]
    }
   ],
   "source": [
    "#Active vs inactive\n",
    "\n",
    "\n",
    "now = datetime.utcnow()  # Current datetime to compare against\n",
    "\n",
    "pipeline = [\n",
    "    {\n",
    "        \"$group\": {\n",
    "            \"_id\": \"$student_id\",\n",
    "            \"lastActivity\": { \"$max\": \"$submitted_at\" }\n",
    "        }\n",
    "    },\n",
    "    {\n",
    "        \"$project\": {\n",
    "            \"daysSinceLastActivity\": {\n",
    "                \"$divide\": [\n",
    "                    { \"$subtract\": [now, \"$lastActivity\"] },\n",
    "                    1000 * 60 * 60 * 24  # ms to days\n",
    "                ]\n",
    "            }\n",
    "        }\n",
    "    },\n",
    "    {\n",
    "        \"$group\": {\n",
    "            \"_id\": {\n",
    "                \"isActive\": { \"$lt\": [\"$daysSinceLastActivity\", 30] }\n",
    "            },\n",
    "            \"count\": { \"$sum\": 1 }\n",
    "        }\n",
    "    },\n",
    "    {\n",
    "        \"$project\": {\n",
    "            \"_id\": 0,\n",
    "            \"status\": {\n",
    "                \"$cond\": {\n",
    "                    \"if\": \"$_id.isActive\",\n",
    "                    \"then\": \"Active\",\n",
    "                    \"else\": \"Inactive\"\n",
    "                }\n",
    "            },\n",
    "            \"count\": 1\n",
    "        }\n",
    "    }\n",
    "]\n",
    "\n",
    "results = db.submissions.aggregate(pipeline)\n",
    "\n",
    "for doc in results:\n",
    "    print(doc)"
   ]
  },
  {
   "cell_type": "code",
   "execution_count": null,
   "id": "f6aa5186",
   "metadata": {},
   "outputs": [],
   "source": []
  },
  {
   "cell_type": "markdown",
   "id": "afe29d17",
   "metadata": {},
   "source": [
    "*PART 5: INDEXING AND PERFORMANCE*"
   ]
  },
  {
   "cell_type": "markdown",
   "id": "c651c96b",
   "metadata": {},
   "source": [
    "\n",
    "TASK 5.1: INDEX CALCULATION"
   ]
  },
  {
   "cell_type": "markdown",
   "id": "084e300f",
   "metadata": {},
   "source": [
    "*1: User email lookup*"
   ]
  },
  {
   "cell_type": "code",
   "execution_count": 158,
   "id": "0e90b6ae",
   "metadata": {},
   "outputs": [
    {
     "data": {
      "text/plain": [
       "'email_1'"
      ]
     },
     "execution_count": 158,
     "metadata": {},
     "output_type": "execute_result"
    }
   ],
   "source": [
    "#User email lookup\n",
    "db.users.create_index(\n",
    "    [(\"email\", 1)],\n",
    "    unique=True\n",
    ")"
   ]
  },
  {
   "cell_type": "code",
   "execution_count": null,
   "id": "d860350b",
   "metadata": {},
   "outputs": [],
   "source": []
  },
  {
   "cell_type": "markdown",
   "id": "554363e7",
   "metadata": {},
   "source": [
    "*2: Courses search by title and category*"
   ]
  },
  {
   "cell_type": "code",
   "execution_count": 159,
   "id": "653d9c90",
   "metadata": {},
   "outputs": [
    {
     "data": {
      "text/plain": [
       "'title_1_category_1'"
      ]
     },
     "execution_count": 159,
     "metadata": {},
     "output_type": "execute_result"
    }
   ],
   "source": [
    "#Courses search by title and category\n",
    "\n",
    "db.courses.create_index([\n",
    "    (\"title\", 1),\n",
    "    (\"category\", 1)\n",
    "])"
   ]
  },
  {
   "cell_type": "code",
   "execution_count": null,
   "id": "a383563e",
   "metadata": {},
   "outputs": [],
   "source": []
  },
  {
   "cell_type": "markdown",
   "id": "a12846eb",
   "metadata": {},
   "source": [
    "*3: Assignment queries by due date*"
   ]
  },
  {
   "cell_type": "code",
   "execution_count": 160,
   "id": "d4922013",
   "metadata": {},
   "outputs": [
    {
     "data": {
      "text/plain": [
       "'due_date_1'"
      ]
     },
     "execution_count": 160,
     "metadata": {},
     "output_type": "execute_result"
    }
   ],
   "source": [
    "#Assignment queries by due date\n",
    "\n",
    "db.assignments.create_index(\n",
    "    [(\"due_date\", 1)]\n",
    ")"
   ]
  },
  {
   "cell_type": "code",
   "execution_count": null,
   "id": "5d4d154d",
   "metadata": {},
   "outputs": [],
   "source": []
  },
  {
   "cell_type": "markdown",
   "id": "d2e9c7f5",
   "metadata": {},
   "source": [
    "*4: Enrollemt queries by student and courses*"
   ]
  },
  {
   "cell_type": "code",
   "execution_count": 161,
   "id": "3e583ee8",
   "metadata": {},
   "outputs": [
    {
     "data": {
      "text/plain": [
       "'student_id_1_course_id_1'"
      ]
     },
     "execution_count": 161,
     "metadata": {},
     "output_type": "execute_result"
    }
   ],
   "source": [
    "#Enrollemt queries by student and courses\n",
    "\n",
    "db.enrollments.create_index([\n",
    "    (\"student_id\", 1),\n",
    "    (\"course_id\", 1)\n",
    "])"
   ]
  },
  {
   "cell_type": "code",
   "execution_count": null,
   "id": "6d7e6fc4",
   "metadata": {},
   "outputs": [],
   "source": []
  },
  {
   "cell_type": "markdown",
   "id": "19715ca8",
   "metadata": {},
   "source": [
    "*TASK 5.2 : QUERY OPTIMIZATION*"
   ]
  },
  {
   "cell_type": "markdown",
   "id": "fdc381c4",
   "metadata": {},
   "source": [
    "*1: Analyze query performance using explain() method in PyMongo*"
   ]
  },
  {
   "cell_type": "code",
   "execution_count": null,
   "id": "59ef2bac",
   "metadata": {},
   "outputs": [
    {
     "name": "stdout",
     "output_type": "stream",
     "text": [
      "{'command': {'$db': 'eduhub_db',\n",
      "             'filter': {'email': 'john@example.com'},\n",
      "             'find': 'users'},\n",
      " 'executionStats': {'allPlansExecution': [],\n",
      "                    'executionStages': {'docsExamined': 0,\n",
      "                                        'indexName': 'email_1',\n",
      "                                        'isCached': False,\n",
      "                                        'keyPattern': '{ email: 1 }',\n",
      "                                        'keysExamined': 0,\n",
      "                                        'nReturned': 0,\n",
      "                                        'stage': 'EXPRESS_IXSCAN'},\n",
      "                    'executionSuccess': True,\n",
      "                    'executionTimeMillis': 0,\n",
      "                    'nReturned': 0,\n",
      "                    'totalDocsExamined': 0,\n",
      "                    'totalKeysExamined': 0},\n",
      " 'explainVersion': '1',\n",
      " 'ok': 1.0,\n",
      " 'queryPlanner': {'indexFilterSet': False,\n",
      "                  'maxIndexedAndSolutionsReached': False,\n",
      "                  'maxIndexedOrSolutionsReached': False,\n",
      "                  'maxScansToExplodeReached': False,\n",
      "                  'namespace': 'eduhub_db.users',\n",
      "                  'optimizationTimeMillis': 0,\n",
      "                  'parsedQuery': {'email': {'$eq': 'john@example.com'}},\n",
      "                  'planCacheKey': '1E950542',\n",
      "                  'planCacheShapeHash': 'ED28E3D2',\n",
      "                  'prunedSimilarIndexes': False,\n",
      "                  'queryHash': 'ED28E3D2',\n",
      "                  'rejectedPlans': [],\n",
      "                  'winningPlan': {'indexName': 'email_1',\n",
      "                                  'isCached': False,\n",
      "                                  'keyPattern': '{ email: 1 }',\n",
      "                                  'stage': 'EXPRESS_IXSCAN'}},\n",
      " 'queryShapeHash': '13B5689DF2E437921787A21BC857ED38433A6454800A5CDB2C6D83C1DE8F5197',\n",
      " 'serverInfo': {'gitVersion': '7f52660c14217ed2c8d3240f823a2291a4fe6abd',\n",
      "                'host': 'FeyiArmstrong',\n",
      "                'port': 27017,\n",
      "                'version': '8.0.8'},\n",
      " 'serverParameters': {'internalDocumentSourceGroupMaxMemoryBytes': 104857600,\n",
      "                      'internalDocumentSourceSetWindowFieldsMaxMemoryBytes': 104857600,\n",
      "                      'internalLookupStageIntermediateDocumentMaxSizeBytes': 104857600,\n",
      "                      'internalQueryFacetBufferSizeBytes': 104857600,\n",
      "                      'internalQueryFacetMaxOutputDocSizeBytes': 104857600,\n",
      "                      'internalQueryFrameworkControl': 'trySbeRestricted',\n",
      "                      'internalQueryMaxAddToSetBytes': 104857600,\n",
      "                      'internalQueryMaxBlockingSortMemoryUsageBytes': 104857600,\n",
      "                      'internalQueryPlannerIgnoreIndexWithCollationForRegex': 1,\n",
      "                      'internalQueryProhibitBlockingMergeOnMongoS': 0}}\n"
     ]
    }
   ],
   "source": [
    "#Analyze query performance using explain() method in PyMongo\n",
    "from pprint import pprint\n",
    "query = { \"email\": \"john@example.com\" }\n",
    "\n",
    "# Use explain to analyze the query execution\n",
    "explain_result = db.users.find(query).explain()\n",
    "\n",
    "# Pretty print the output\n",
    "pprint(explain_result)"
   ]
  },
  {
   "cell_type": "code",
   "execution_count": null,
   "id": "01742b84",
   "metadata": {},
   "outputs": [],
   "source": []
  },
  {
   "cell_type": "markdown",
   "id": "4ad2f54c",
   "metadata": {},
   "source": [
    "*2 : Optimize at least 3 slow queries*"
   ]
  },
  {
   "cell_type": "markdown",
   "id": "fabe6d9f",
   "metadata": {},
   "source": [
    "*a: Query 1: Find User by Email*"
   ]
  },
  {
   "cell_type": "code",
   "execution_count": null,
   "id": "35782e37",
   "metadata": {},
   "outputs": [
    {
     "data": {
      "text/plain": [
       "'email_1'"
      ]
     },
     "execution_count": 164,
     "metadata": {},
     "output_type": "execute_result"
    }
   ],
   "source": [
    "\n",
    "#Query 1: Find User by Email (Slow without Index)\n",
    "\n",
    "db.users.find_one({\"email\": \"john@example.com\"})\n",
    "\n",
    "\n",
    "#Result\n",
    "\n",
    "db.users.create_index([(\"email\", 1)], unique=True)\n"
   ]
  },
  {
   "cell_type": "code",
   "execution_count": null,
   "id": "b2d56ca4",
   "metadata": {},
   "outputs": [],
   "source": []
  },
  {
   "cell_type": "markdown",
   "id": "374919d3",
   "metadata": {},
   "source": [
    "*b: Query 2 :Search Courses by Title and Category*"
   ]
  },
  {
   "cell_type": "code",
   "execution_count": null,
   "id": "d4db84e9",
   "metadata": {},
   "outputs": [
    {
     "data": {
      "text/plain": [
       "'title_1_category_1'"
      ]
     },
     "execution_count": 168,
     "metadata": {},
     "output_type": "execute_result"
    }
   ],
   "source": [
    "#Query 2 :Search Courses by Title and Category\n",
    "\n",
    "query2 = { \"title\": \"Intro to Python\", \"category\": \"Programming\" }\n",
    "\n",
    "#optimization\n",
    "db.courses.create_index([(\"title\", 1), (\"category\", 1)])\n"
   ]
  },
  {
   "cell_type": "code",
   "execution_count": null,
   "id": "e95f579c",
   "metadata": {},
   "outputs": [],
   "source": []
  },
  {
   "cell_type": "markdown",
   "id": "f8f6b33a",
   "metadata": {},
   "source": [
    "*c: Query 3: Filter Assignments by Due Date*"
   ]
  },
  {
   "cell_type": "code",
   "execution_count": 169,
   "id": "561e9c71",
   "metadata": {},
   "outputs": [
    {
     "data": {
      "text/plain": [
       "'due_date_1'"
      ]
     },
     "execution_count": 169,
     "metadata": {},
     "output_type": "execute_result"
    }
   ],
   "source": [
    "#Query 3: Filter Assignments by Due Date\n",
    "\n",
    "db.assignments.find({\"due_date\": {\"$lt\": datetime(2025, 7, 1)}})\n",
    "\n",
    "\n",
    "#Fixing\n",
    "\n",
    "db.assignments.create_index([(\"due_date\", 1)])"
   ]
  },
  {
   "cell_type": "code",
   "execution_count": null,
   "id": "693cee36",
   "metadata": {},
   "outputs": [],
   "source": []
  },
  {
   "cell_type": "markdown",
   "id": "3503c5b2",
   "metadata": {},
   "source": [
    "*3: Document the performance improvements using python timing functions*"
   ]
  },
  {
   "cell_type": "code",
   "execution_count": 170,
   "id": "c196df80",
   "metadata": {},
   "outputs": [
    {
     "name": "stdout",
     "output_type": "stream",
     "text": [
      "Query took: 0.0219 seconds\n"
     ]
    }
   ],
   "source": [
    "#Document the performance improvements using python timing functions\n",
    "\n",
    "\n",
    "import time\n",
    "\n",
    "start = time.time()\n",
    "list(db.assignments.find({\"due_date\": {\"$lt\": datetime(2025, 7, 1)}}))\n",
    "end = time.time()\n",
    "\n",
    "print(f\"Query took: {end - start:.4f} seconds\")"
   ]
  },
  {
   "cell_type": "code",
   "execution_count": null,
   "id": "90cfb457",
   "metadata": {},
   "outputs": [],
   "source": []
  },
  {
   "cell_type": "markdown",
   "id": "ffbfcba6",
   "metadata": {},
   "source": [
    "*PART 6 : DATA VALIDATION AND ERROR HANDLING*"
   ]
  },
  {
   "cell_type": "markdown",
   "id": "152ed937",
   "metadata": {},
   "source": [
    "*TASK 6.1 : SCHEMA VALIDATION*"
   ]
  },
  {
   "cell_type": "markdown",
   "id": "db4899ec",
   "metadata": {},
   "source": [
    "Schema Validation Summary\n",
    "\n",
    "Schema validation was fully implemented at the start of this project.\n",
    "Specifically:\n",
    "\n",
    " • Required fields were clearly defined in both user_schema and course_schema.\n",
    "\n",
    " • Data types were correctly enforced using appropriate bsonType declarations.\n",
    "\n",
    " • Enum value restrictions were applied to fields such as role, ensuring only valid values like \"student\" and \"instructor\" are accepted.\n",
    "\n",
    " • Email format validation was implemented using regular expressions to enforce standard email structure.\n",
    "\n",
    "\n",
    "Both user_schema and course_schema can be referenced at the beginning of the project for full schema definitions."
   ]
  },
  {
   "cell_type": "code",
   "execution_count": null,
   "id": "060051a6",
   "metadata": {},
   "outputs": [],
   "source": []
  },
  {
   "cell_type": "markdown",
   "id": "e577f5ac",
   "metadata": {},
   "source": [
    "*TASK 6.2: ERROR HANDLING*"
   ]
  },
  {
   "cell_type": "markdown",
   "id": "dbc707dd",
   "metadata": {},
   "source": [
    "WRITE QUERIES THAT HANDLES THE FOLLOWING COMMON ERRORS"
   ]
  },
  {
   "cell_type": "markdown",
   "id": "4ad2a86d",
   "metadata": {},
   "source": [
    "*1: Duplicate key error*"
   ]
  },
  {
   "cell_type": "code",
   "execution_count": 184,
   "id": "1f62c970",
   "metadata": {},
   "outputs": [
    {
     "name": "stdout",
     "output_type": "stream",
     "text": [
      "Error: Email already exists.\n"
     ]
    },
    {
     "name": "stderr",
     "output_type": "stream",
     "text": [
      "C:\\Users\\hello\\AppData\\Local\\Temp\\ipykernel_5900\\403934756.py:11: DeprecationWarning: datetime.datetime.utcnow() is deprecated and scheduled for removal in a future version. Use timezone-aware objects to represent datetimes in UTC: datetime.datetime.now(datetime.UTC).\n",
      "  \"created_at\": datetime.utcnow()\n"
     ]
    }
   ],
   "source": [
    "#Duplicate key error\n",
    "\n",
    "from pymongo import MongoClient, errors \n",
    "\n",
    "users = db.users\n",
    "try:\n",
    "    users.insert_one({\n",
    "        \"name\": \"John Doe\",\n",
    "        \"email\": \"john@example.com\",  # already exists\n",
    "        \"role\": \"student\",\n",
    "        \"created_at\": datetime.utcnow()\n",
    "    })\n",
    "except errors.DuplicateKeyError:\n",
    "    print(\"Error: Email already exists.\")"
   ]
  },
  {
   "cell_type": "code",
   "execution_count": null,
   "id": "1a29f56a",
   "metadata": {},
   "outputs": [],
   "source": []
  },
  {
   "cell_type": "markdown",
   "id": "0e889a1f",
   "metadata": {},
   "source": [
    "*2: Invalid data type insertion*"
   ]
  },
  {
   "cell_type": "code",
   "execution_count": 185,
   "id": "70684711",
   "metadata": {},
   "outputs": [
    {
     "name": "stdout",
     "output_type": "stream",
     "text": [
      "Data type error: E11000 duplicate key error collection: eduhub_db.users index: email_1 dup key: { email: \"alice@example.com\" }, full error: {'index': 0, 'code': 11000, 'errmsg': 'E11000 duplicate key error collection: eduhub_db.users index: email_1 dup key: { email: \"alice@example.com\" }', 'keyPattern': {'email': 1}, 'keyValue': {'email': 'alice@example.com'}}\n"
     ]
    }
   ],
   "source": [
    "#invalid data type insertion\n",
    "users = db.users\n",
    "try:\n",
    "    users.insert_one({\n",
    "        \"name\": \"Alice\",\n",
    "        \"email\": \"alice@example.com\",\n",
    "        \"role\": \"instructor\",\n",
    "        \"created_at\": \"2025-06-10\"  # should be a datetime object\n",
    "    })\n",
    "except errors.WriteError as e:\n",
    "    print(f\"Data type error: {e}\")"
   ]
  },
  {
   "cell_type": "code",
   "execution_count": null,
   "id": "c6bffaac",
   "metadata": {},
   "outputs": [],
   "source": []
  },
  {
   "cell_type": "markdown",
   "id": "dd7d4335",
   "metadata": {},
   "source": [
    "*3: Missing required fields*"
   ]
  },
  {
   "cell_type": "code",
   "execution_count": 186,
   "id": "03ebb154",
   "metadata": {},
   "outputs": [
    {
     "name": "stdout",
     "output_type": "stream",
     "text": [
      "Missing required field: E11000 duplicate key error collection: eduhub_db.users index: email_1 dup key: { email: null }, full error: {'index': 0, 'code': 11000, 'errmsg': 'E11000 duplicate key error collection: eduhub_db.users index: email_1 dup key: { email: null }', 'keyPattern': {'email': 1}, 'keyValue': {'email': None}}\n"
     ]
    }
   ],
   "source": [
    "#missing required fields\n",
    "users = db.users\n",
    "\n",
    "try:\n",
    "    users.insert_one({\n",
    "        \"name\": \"Missing Email\"\n",
    "        # email, role, created_at are missing\n",
    "    })\n",
    "except errors.WriteError as e:\n",
    "    print(f\"Missing required field: {e}\")"
   ]
  }
 ],
 "metadata": {
  "kernelspec": {
   "display_name": "base",
   "language": "python",
   "name": "python3"
  },
  "language_info": {
   "codemirror_mode": {
    "name": "ipython",
    "version": 3
   },
   "file_extension": ".py",
   "mimetype": "text/x-python",
   "name": "python",
   "nbconvert_exporter": "python",
   "pygments_lexer": "ipython3",
   "version": "3.12.7"
  }
 },
 "nbformat": 4,
 "nbformat_minor": 5
}
